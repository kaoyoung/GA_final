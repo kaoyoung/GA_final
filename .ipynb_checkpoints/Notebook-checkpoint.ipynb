{
 "cells": [
  {
   "cell_type": "markdown",
   "metadata": {
    "id": "ORTLmAFLirUq"
   },
   "source": [
    "# For fine-tune"
   ]
  },
  {
   "cell_type": "markdown",
   "metadata": {
    "id": "7AC6p4tWirUq"
   },
   "source": [
    "## Install requirements"
   ]
  },
  {
   "cell_type": "code",
   "execution_count": 1,
   "metadata": {
    "id": "yvtySrPYm7CK"
   },
   "outputs": [],
   "source": [
    "from IPython.display import clear_output"
   ]
  },
  {
   "cell_type": "code",
   "execution_count": 7,
   "metadata": {
    "id": "kWW-6OgYirUq"
   },
   "outputs": [],
   "source": [
    "!pip install yfinance\n",
    "!pip install fix_yahoo_finance\n",
    "!pip install pymoo\n",
    "clear_output()"
   ]
  },
  {
   "cell_type": "code",
   "execution_count": 8,
   "metadata": {
    "id": "8WaFVN6XirUr"
   },
   "outputs": [],
   "source": [
    "# Load Packages\n",
    "import numpy as np\n",
    "import pandas as pd\n",
    "from pandas_datareader import data\n",
    "import matplotlib.pyplot as plt\n",
    "%matplotlib inline"
   ]
  },
  {
   "cell_type": "markdown",
   "metadata": {},
   "source": [
    "## Fine tune data"
   ]
  },
  {
   "cell_type": "code",
   "execution_count": 10,
   "metadata": {},
   "outputs": [
    {
     "name": "stderr",
     "output_type": "stream",
     "text": [
      "[*********************100%***********************]  50 of 50 completed\n"
     ]
    }
   ],
   "source": [
    "# Import yfinance package\n",
    "import yfinance as yf\n",
    "\n",
    "# Set the start and end date\n",
    "start_date = '2020-04-30' #'2020-04-30'\n",
    "end_date = '2024-04-30'   #'2024-04-30'\n",
    "\n",
    "ticker = ['AAPL', 'NVDA', 'MSFT', 'AMZN', 'META', 'GOOGL', 'TSLA', 'AVGO', 'GOOG', 'BRK-B',\n",
    "          'JPM', 'LLY', 'V', 'XOM', 'UNH', 'MA', 'COST', 'WMT', 'HD', 'PG',\n",
    "          'NFLX', 'JNJ', 'ABBV', 'CRM', 'BAC', 'ORCL', 'MRK', 'CVX', 'WFC', 'KO',\n",
    "          'CSCO', 'ACN', 'NOW', 'TMO', 'MCD', 'IBM', 'AMD', 'DIS', 'PEP', 'LIN',\n",
    "          'ABT', 'ISRG', 'PM', 'GE', 'ADBE', 'GS', 'QCOM', 'TXN', 'CAT', 'INTU']\n",
    "\n",
    "# Get the data\n",
    "fine_tune_data = yf.download(ticker, start_date, end_date, auto_adjust=False) # adding auto_adjust=False to get Adj Close"
   ]
  },
  {
   "cell_type": "code",
   "execution_count": 11,
   "metadata": {},
   "outputs": [],
   "source": [
    "fine_tune_data = fine_tune_data['Adj Close']\n",
    "fine_tune_data\n",
    "\n",
    "import numpy as np\n",
    "# Log of percentage change\n",
    "cov_matrix = fine_tune_data.pct_change().apply(lambda x: np.log(1+x)).cov()\n",
    "cov_matrix\n",
    "\n",
    "# Yearly returns for individual companies\n",
    "ind_er = fine_tune_data.resample('YE').last().pct_change().mean()\n",
    "ind_er\n",
    "\n",
    "mu = np.array(ind_er)\n",
    "cov = np.array(cov_matrix)"
   ]
  },
  {
   "cell_type": "markdown",
   "metadata": {},
   "source": [
    "### Run the experiment HV"
   ]
  },
  {
   "cell_type": "code",
   "execution_count": 15,
   "metadata": {},
   "outputs": [],
   "source": [
    "### Test HV index"
   ]
  },
  {
   "cell_type": "code",
   "execution_count": 19,
   "metadata": {},
   "outputs": [],
   "source": [
    "# import libs\n",
    "from pymoo.core.problem import ElementwiseProblem\n",
    "from pymoo.core.repair import Repair\n",
    "from pymoo.algorithms.moo.sms import SMSEMOA\n",
    "from pymoo.algorithms.moo.nsga2 import NSGA2\n",
    "from pymoo.optimize import minimize\n",
    "import operator\n",
    "\n",
    "class PortfolioProblem(ElementwiseProblem):\n",
    "    def __init__(self, mu, cov, risk_free_rate=0.02, **kwargs):\n",
    "        super().__init__(n_var=len(np.array(ticker)), n_obj=2, xl=0.0, xu=1.0, **kwargs)\n",
    "        self.mu = mu\n",
    "        self.cov = cov\n",
    "        self.risk_free_rate = risk_free_rate\n",
    "\n",
    "    def _evaluate(self, x, out, *args, **kwargs):\n",
    "        exp_return = x @ self.mu\n",
    "        exp_risk = np.sqrt(x.T @ self.cov @ x) * np.sqrt(250.0)\n",
    "        sharpe = (exp_return - self.risk_free_rate) / exp_risk\n",
    "\n",
    "        out[\"F\"] = [exp_risk, -exp_return]\n",
    "        out[\"sharpe\"] = sharpe"
   ]
  },
  {
   "cell_type": "code",
   "execution_count": 21,
   "metadata": {},
   "outputs": [],
   "source": [
    "class PortfolioRepair(Repair):\n",
    "    def _do(self, problem, X, **kwargs):\n",
    "        X[X < 1e-3] = 0\n",
    "        return X / X.sum(axis=1, keepdims=True)"
   ]
  },
  {
   "cell_type": "code",
   "execution_count": 23,
   "metadata": {},
   "outputs": [],
   "source": [
    "import numpy as np\n",
    "from pymoo.algorithms.moo.nsga2 import NSGA2\n",
    "from pymoo.operators.crossover.sbx import SBX\n",
    "from pymoo.operators.crossover.pntx import TwoPointCrossover\n",
    "from pymoo.operators.crossover.ux import UniformCrossover\n",
    "from pymoo.operators.sampling.rnd import FloatRandomSampling, BinaryRandomSampling\n",
    "from pymoo.operators.sampling.lhs import LHS\n",
    "from pymoo.optimize import minimize\n",
    "from pymoo.indicators.hv import HV\n",
    "\n",
    "# Define configurations combining sampling and crossover operators\n",
    "configurations = [\n",
    "    {'name': 'BinaryRandom_SBX',   'sampling': BinaryRandomSampling(), 'crossover': SBX()},\n",
    "    {'name': 'BinaryRandom_TwoPt', 'sampling': BinaryRandomSampling(), 'crossover': TwoPointCrossover()},\n",
    "    {'name': 'BinaryRandom_Uniform','sampling': BinaryRandomSampling(), 'crossover': UniformCrossover()},\n",
    "\n",
    "    {'name': 'FloatRandom_SBX',    'sampling': FloatRandomSampling(),  'crossover': SBX()},\n",
    "    {'name': 'FloatRandom_TwoPt',  'sampling': FloatRandomSampling(),  'crossover': TwoPointCrossover()},\n",
    "    {'name': 'FloatRandom_Uniform','sampling': FloatRandomSampling(),  'crossover': UniformCrossover()},\n",
    "\n",
    "    {'name': 'LHS_SBX',            'sampling': LHS(),               'crossover': SBX()},\n",
    "    {'name': 'LHS_TwoPt',          'sampling': LHS(),               'crossover': TwoPointCrossover()},\n",
    "    {'name': 'LHS_Uniform',        'sampling': LHS(),               'crossover': UniformCrossover()},\n",
    "]"
   ]
  },
  {
   "cell_type": "code",
   "execution_count": 25,
   "metadata": {},
   "outputs": [],
   "source": [
    "import matplotlib.pyplot as plt\n",
    "\n",
    "def calculate_HV(F):\n",
    "    \"\"\"Calculate hypervolume of the front F against a fixed reference point.\"\"\"\n",
    "    ref_point = np.array([0.5, -0.1])\n",
    "    ind = HV(ref_point=ref_point)\n",
    "\n",
    "    # plt.scatter(F[:, 0], F[:, 1], facecolor=\"none\", edgecolors=\"blue\", alpha=0.5, label=\"Pareto-Optimal Portfolio\")\n",
    "    # plt.scatter(ref_point[0], ref_point[1], facecolor=\"none\", edgecolors=\"green\", alpha=0.5, label=\"reference point\")\n",
    "    # plt.legend()\n",
    "    # plt.xlabel(\"expected volatility\")\n",
    "    # plt.ylabel(\"expected return\")\n",
    "    # plt.show()\n",
    "   \n",
    "    return ind(F)"
   ]
  },
  {
   "cell_type": "code",
   "execution_count": 27,
   "metadata": {},
   "outputs": [
    {
     "name": "stdout",
     "output_type": "stream",
     "text": [
      "Run 1/10 - BinaryRandom_SBX - 500 gens\n"
     ]
    },
    {
     "ename": "KeyboardInterrupt",
     "evalue": "",
     "output_type": "error",
     "traceback": [
      "\u001b[1;31m---------------------------------------------------------------------------\u001b[0m",
      "\u001b[1;31mKeyboardInterrupt\u001b[0m                         Traceback (most recent call last)",
      "Cell \u001b[1;32mIn[27], line 21\u001b[0m\n\u001b[0;32m     19\u001b[0m \u001b[38;5;66;03m# 500 generations\u001b[39;00m\n\u001b[0;32m     20\u001b[0m \u001b[38;5;28mprint\u001b[39m(\u001b[38;5;124mf\u001b[39m\u001b[38;5;124m\"\u001b[39m\u001b[38;5;124mRun \u001b[39m\u001b[38;5;132;01m{\u001b[39;00mrun_idx\u001b[38;5;241m+\u001b[39m\u001b[38;5;241m1\u001b[39m\u001b[38;5;132;01m}\u001b[39;00m\u001b[38;5;124m/\u001b[39m\u001b[38;5;132;01m{\u001b[39;00mtest_time\u001b[38;5;132;01m}\u001b[39;00m\u001b[38;5;124m - \u001b[39m\u001b[38;5;132;01m{\u001b[39;00mconfig[\u001b[38;5;124m'\u001b[39m\u001b[38;5;124mname\u001b[39m\u001b[38;5;124m'\u001b[39m]\u001b[38;5;132;01m}\u001b[39;00m\u001b[38;5;124m - 500 gens\u001b[39m\u001b[38;5;124m\"\u001b[39m)\n\u001b[1;32m---> 21\u001b[0m res_500 \u001b[38;5;241m=\u001b[39m minimize(\n\u001b[0;32m     22\u001b[0m     problem,\n\u001b[0;32m     23\u001b[0m     algorithm,\n\u001b[0;32m     24\u001b[0m     termination\u001b[38;5;241m=\u001b[39m(\u001b[38;5;124m'\u001b[39m\u001b[38;5;124mn_gen\u001b[39m\u001b[38;5;124m'\u001b[39m, \u001b[38;5;241m500\u001b[39m),\n\u001b[0;32m     25\u001b[0m     seed\u001b[38;5;241m=\u001b[39mrun_idx,\n\u001b[0;32m     26\u001b[0m     verbose\u001b[38;5;241m=\u001b[39m\u001b[38;5;28;01mFalse\u001b[39;00m\n\u001b[0;32m     27\u001b[0m )\n\u001b[0;32m     29\u001b[0m X, F, sharpe \u001b[38;5;241m=\u001b[39m res_500\u001b[38;5;241m.\u001b[39mopt\u001b[38;5;241m.\u001b[39mget(\u001b[38;5;124m\"\u001b[39m\u001b[38;5;124mX\u001b[39m\u001b[38;5;124m\"\u001b[39m, \u001b[38;5;124m\"\u001b[39m\u001b[38;5;124mF\u001b[39m\u001b[38;5;124m\"\u001b[39m, \u001b[38;5;124m\"\u001b[39m\u001b[38;5;124msharpe\u001b[39m\u001b[38;5;124m\"\u001b[39m)\n\u001b[0;32m     30\u001b[0m \u001b[38;5;66;03m# F = F * [1, -1]  # Adjust for minimization/maximization\u001b[39;00m\n",
      "File \u001b[1;32m~\\anaconda3\\Lib\\site-packages\\pymoo\\optimize.py:67\u001b[0m, in \u001b[0;36mminimize\u001b[1;34m(problem, algorithm, termination, copy_algorithm, copy_termination, **kwargs)\u001b[0m\n\u001b[0;32m     64\u001b[0m     algorithm\u001b[38;5;241m.\u001b[39msetup(problem, \u001b[38;5;241m*\u001b[39m\u001b[38;5;241m*\u001b[39mkwargs)\n\u001b[0;32m     66\u001b[0m \u001b[38;5;66;03m# actually execute the algorithm\u001b[39;00m\n\u001b[1;32m---> 67\u001b[0m res \u001b[38;5;241m=\u001b[39m algorithm\u001b[38;5;241m.\u001b[39mrun()\n\u001b[0;32m     69\u001b[0m \u001b[38;5;66;03m# store the deep copied algorithm in the result object\u001b[39;00m\n\u001b[0;32m     70\u001b[0m res\u001b[38;5;241m.\u001b[39malgorithm \u001b[38;5;241m=\u001b[39m algorithm\n",
      "File \u001b[1;32m~\\anaconda3\\Lib\\site-packages\\pymoo\\core\\algorithm.py:138\u001b[0m, in \u001b[0;36mAlgorithm.run\u001b[1;34m(self)\u001b[0m\n\u001b[0;32m    136\u001b[0m \u001b[38;5;28;01mdef\u001b[39;00m \u001b[38;5;21mrun\u001b[39m(\u001b[38;5;28mself\u001b[39m):\n\u001b[0;32m    137\u001b[0m     \u001b[38;5;28;01mwhile\u001b[39;00m \u001b[38;5;28mself\u001b[39m\u001b[38;5;241m.\u001b[39mhas_next():\n\u001b[1;32m--> 138\u001b[0m         \u001b[38;5;28mself\u001b[39m\u001b[38;5;241m.\u001b[39mnext()\n\u001b[0;32m    139\u001b[0m     \u001b[38;5;28;01mreturn\u001b[39;00m \u001b[38;5;28mself\u001b[39m\u001b[38;5;241m.\u001b[39mresult()\n",
      "File \u001b[1;32m~\\anaconda3\\Lib\\site-packages\\pymoo\\core\\algorithm.py:159\u001b[0m, in \u001b[0;36mAlgorithm.next\u001b[1;34m(self)\u001b[0m\n\u001b[0;32m    157\u001b[0m \u001b[38;5;28;01mif\u001b[39;00m infills \u001b[38;5;129;01mis\u001b[39;00m \u001b[38;5;129;01mnot\u001b[39;00m \u001b[38;5;28;01mNone\u001b[39;00m:\n\u001b[0;32m    158\u001b[0m     \u001b[38;5;28mself\u001b[39m\u001b[38;5;241m.\u001b[39mevaluator\u001b[38;5;241m.\u001b[39meval(\u001b[38;5;28mself\u001b[39m\u001b[38;5;241m.\u001b[39mproblem, infills, algorithm\u001b[38;5;241m=\u001b[39m\u001b[38;5;28mself\u001b[39m)\n\u001b[1;32m--> 159\u001b[0m     \u001b[38;5;28mself\u001b[39m\u001b[38;5;241m.\u001b[39madvance(infills\u001b[38;5;241m=\u001b[39minfills)\n\u001b[0;32m    161\u001b[0m \u001b[38;5;66;03m# if the algorithm does not follow the infill-advance scheme just call advance\u001b[39;00m\n\u001b[0;32m    162\u001b[0m \u001b[38;5;28;01melse\u001b[39;00m:\n\u001b[0;32m    163\u001b[0m     \u001b[38;5;28mself\u001b[39m\u001b[38;5;241m.\u001b[39madvance()\n",
      "File \u001b[1;32m~\\anaconda3\\Lib\\site-packages\\pymoo\\core\\algorithm.py:225\u001b[0m, in \u001b[0;36mAlgorithm.advance\u001b[1;34m(self, infills, **kwargs)\u001b[0m\n\u001b[0;32m    220\u001b[0m     \u001b[38;5;28mself\u001b[39m\u001b[38;5;241m.\u001b[39m_post_advance()\n\u001b[0;32m    222\u001b[0m \u001b[38;5;28;01melse\u001b[39;00m:\n\u001b[0;32m    223\u001b[0m \n\u001b[0;32m    224\u001b[0m     \u001b[38;5;66;03m# call the implementation of the advance method - if the infill is not None\u001b[39;00m\n\u001b[1;32m--> 225\u001b[0m     val \u001b[38;5;241m=\u001b[39m \u001b[38;5;28mself\u001b[39m\u001b[38;5;241m.\u001b[39m_advance(infills\u001b[38;5;241m=\u001b[39minfills, \u001b[38;5;241m*\u001b[39m\u001b[38;5;241m*\u001b[39mkwargs)\n\u001b[0;32m    227\u001b[0m     \u001b[38;5;66;03m# always advance to the next iteration - except if the algorithm returns False\u001b[39;00m\n\u001b[0;32m    228\u001b[0m     \u001b[38;5;28;01mif\u001b[39;00m val \u001b[38;5;129;01mis\u001b[39;00m \u001b[38;5;28;01mNone\u001b[39;00m \u001b[38;5;129;01mor\u001b[39;00m val:\n",
      "File \u001b[1;32m~\\anaconda3\\Lib\\site-packages\\pymoo\\algorithms\\base\\genetic.py:109\u001b[0m, in \u001b[0;36mGeneticAlgorithm._advance\u001b[1;34m(self, infills, **kwargs)\u001b[0m\n\u001b[0;32m    106\u001b[0m     pop \u001b[38;5;241m=\u001b[39m Population\u001b[38;5;241m.\u001b[39mmerge(\u001b[38;5;28mself\u001b[39m\u001b[38;5;241m.\u001b[39mpop, infills)\n\u001b[0;32m    108\u001b[0m \u001b[38;5;66;03m# execute the survival to find the fittest solutions\u001b[39;00m\n\u001b[1;32m--> 109\u001b[0m \u001b[38;5;28mself\u001b[39m\u001b[38;5;241m.\u001b[39mpop \u001b[38;5;241m=\u001b[39m \u001b[38;5;28mself\u001b[39m\u001b[38;5;241m.\u001b[39msurvival\u001b[38;5;241m.\u001b[39mdo(\u001b[38;5;28mself\u001b[39m\u001b[38;5;241m.\u001b[39mproblem, pop, n_survive\u001b[38;5;241m=\u001b[39m\u001b[38;5;28mself\u001b[39m\u001b[38;5;241m.\u001b[39mpop_size, algorithm\u001b[38;5;241m=\u001b[39m\u001b[38;5;28mself\u001b[39m, \u001b[38;5;241m*\u001b[39m\u001b[38;5;241m*\u001b[39mkwargs)\n",
      "File \u001b[1;32m~\\anaconda3\\Lib\\site-packages\\pymoo\\core\\survival.py:55\u001b[0m, in \u001b[0;36mSurvival.do\u001b[1;34m(self, problem, pop, n_survive, return_indices, *args, **kwargs)\u001b[0m\n\u001b[0;32m     52\u001b[0m         survivors \u001b[38;5;241m=\u001b[39m Population\u001b[38;5;241m.\u001b[39mmerge(survivors, pop[infeas[:n_remaining]])\n\u001b[0;32m     54\u001b[0m \u001b[38;5;28;01melse\u001b[39;00m:\n\u001b[1;32m---> 55\u001b[0m     survivors \u001b[38;5;241m=\u001b[39m \u001b[38;5;28mself\u001b[39m\u001b[38;5;241m.\u001b[39m_do(problem, pop, \u001b[38;5;241m*\u001b[39margs, n_survive\u001b[38;5;241m=\u001b[39mn_survive, \u001b[38;5;241m*\u001b[39m\u001b[38;5;241m*\u001b[39mkwargs)\n\u001b[0;32m     57\u001b[0m \u001b[38;5;28;01mif\u001b[39;00m return_indices:\n\u001b[0;32m     58\u001b[0m     H \u001b[38;5;241m=\u001b[39m {}\n",
      "File \u001b[1;32m~\\anaconda3\\Lib\\site-packages\\pymoo\\operators\\survival\\rank_and_crowding\\classes.py:59\u001b[0m, in \u001b[0;36mRankAndCrowding._do\u001b[1;34m(self, problem, pop, n_survive, *args, **kwargs)\u001b[0m\n\u001b[0;32m     51\u001b[0m \u001b[38;5;28;01mdef\u001b[39;00m \u001b[38;5;21m_do\u001b[39m(\u001b[38;5;28mself\u001b[39m,\n\u001b[0;32m     52\u001b[0m         problem,\n\u001b[0;32m     53\u001b[0m         pop,\n\u001b[1;32m   (...)\u001b[0m\n\u001b[0;32m     57\u001b[0m \n\u001b[0;32m     58\u001b[0m     \u001b[38;5;66;03m# get the objective space values and objects\u001b[39;00m\n\u001b[1;32m---> 59\u001b[0m     F \u001b[38;5;241m=\u001b[39m pop\u001b[38;5;241m.\u001b[39mget(\u001b[38;5;124m\"\u001b[39m\u001b[38;5;124mF\u001b[39m\u001b[38;5;124m\"\u001b[39m)\u001b[38;5;241m.\u001b[39mastype(\u001b[38;5;28mfloat\u001b[39m, copy\u001b[38;5;241m=\u001b[39m\u001b[38;5;28;01mFalse\u001b[39;00m)\n\u001b[0;32m     61\u001b[0m     \u001b[38;5;66;03m# the final indices of surviving individuals\u001b[39;00m\n\u001b[0;32m     62\u001b[0m     survivors \u001b[38;5;241m=\u001b[39m []\n",
      "File \u001b[1;32m~\\anaconda3\\Lib\\site-packages\\pymoo\\core\\population.py:72\u001b[0m, in \u001b[0;36mPopulation.get\u001b[1;34m(self, to_numpy, *args, **kwargs)\u001b[0m\n\u001b[0;32m     70\u001b[0m \u001b[38;5;66;03m# to numpy array if desired - default true\u001b[39;00m\n\u001b[0;32m     71\u001b[0m \u001b[38;5;28;01mif\u001b[39;00m to_numpy:\n\u001b[1;32m---> 72\u001b[0m     res \u001b[38;5;241m=\u001b[39m [np\u001b[38;5;241m.\u001b[39marray(e) \u001b[38;5;28;01mfor\u001b[39;00m e \u001b[38;5;129;01min\u001b[39;00m res]\n\u001b[0;32m     74\u001b[0m \u001b[38;5;66;03m# return as tuple or single value\u001b[39;00m\n\u001b[0;32m     75\u001b[0m \u001b[38;5;28;01mif\u001b[39;00m \u001b[38;5;28mlen\u001b[39m(args) \u001b[38;5;241m==\u001b[39m \u001b[38;5;241m1\u001b[39m:\n",
      "\u001b[1;31mKeyboardInterrupt\u001b[0m: "
     ]
    }
   ],
   "source": [
    "# Number of independent runs\n",
    "test_time = 10\n",
    "# Prepare storage for HV results\n",
    "test_results = {conf['name']: {'500': [], '600': []} for conf in configurations}\n",
    "\n",
    "for run_idx in range(test_time):\n",
    "    # Assuming these functions are defined elsewhere:    \n",
    "    problem = PortfolioProblem(mu, cov)    \n",
    "\n",
    "    for config in configurations:\n",
    "        # Build the NSGA2 algorithm with chosen operators\n",
    "        algorithm = NSGA2(\n",
    "            pop_size=200,\n",
    "            sampling=config['sampling'],\n",
    "            crossover=config['crossover'],\n",
    "            repair=PortfolioRepair()\n",
    "        )\n",
    "\n",
    "        # 500 generations\n",
    "        print(f\"Run {run_idx+1}/{test_time} - {config['name']} - 500 gens\")\n",
    "        res_500 = minimize(\n",
    "            problem,\n",
    "            algorithm,\n",
    "            termination=('n_gen', 500),\n",
    "            seed=run_idx,\n",
    "            verbose=False\n",
    "        )\n",
    "\n",
    "        X, F, sharpe = res_500.opt.get(\"X\", \"F\", \"sharpe\")\n",
    "        # F = F * [1, -1]  # Adjust for minimization/maximization\n",
    "    \n",
    "        hv_500 = calculate_HV(F)\n",
    "        test_results[config['name']]['500'].append(hv_500)\n",
    "        print(f\"  Hypervolume@500: {hv_500:.6f}\")\n",
    "\n",
    "        # 600 generations (reuse same algorithm instance or rebuild)\n",
    "        print(f\"Run {run_idx+1}/{test_time} - {config['name']} - 600 gens\")\n",
    "        res_600 = minimize(\n",
    "            problem,\n",
    "            algorithm,\n",
    "            termination=('n_gen', 600),\n",
    "            seed=run_idx,\n",
    "            verbose=False\n",
    "        )\n",
    "        \n",
    "        X, F, sharpe = res_600.opt.get(\"X\", \"F\", \"sharpe\")\n",
    "        # F = F * [1, -1]  # Adjust for minimization/maximization    \n",
    "        \n",
    "        hv_600 = calculate_HV(F)\n",
    "        test_results[config['name']]['600'].append(hv_600)\n",
    "        print(f\"  Hypervolume@600: {hv_600:.6f}\\n\")\n",
    "\n",
    "# After all runs, you can summarize results\n",
    "def summarize_results(results_dict):\n",
    "    summary = {}\n",
    "    for name, gens in results_dict.items():\n",
    "        summary[name] = {\n",
    "            'mean_HV_500': np.mean(gens['500']),\n",
    "            'std_HV_500': np.std(gens['500']),\n",
    "            'mean_HV_600': np.mean(gens['600']),\n",
    "            'std_HV_600': np.std(gens['600'])\n",
    "        }\n",
    "    return summary\n",
    "\n",
    "if __name__ == '__main__':\n",
    "    summary = summarize_results(test_results)\n",
    "    for name, stats in summary.items():\n",
    "        print(f\"{name}: 500 gens -> mean {stats['mean_HV_500']:.6f}, std {stats['std_HV_500']:.6f}; \\\n",
    "              600 gens -> mean {stats['mean_HV_600']:.6f}, std {stats['std_HV_600']:.6f}\")"
   ]
  },
  {
   "cell_type": "markdown",
   "metadata": {},
   "source": [
    "## Run the experiment gain money"
   ]
  },
  {
   "cell_type": "code",
   "execution_count": 30,
   "metadata": {},
   "outputs": [],
   "source": [
    "# import libs\n",
    "from pymoo.core.problem import ElementwiseProblem\n",
    "from pymoo.core.repair import Repair\n",
    "from pymoo.algorithms.moo.sms import SMSEMOA\n",
    "from pymoo.algorithms.moo.nsga2 import NSGA2\n",
    "from pymoo.optimize import minimize\n",
    "import operator"
   ]
  },
  {
   "cell_type": "code",
   "execution_count": 32,
   "metadata": {},
   "outputs": [],
   "source": [
    "class PortfolioProblem(ElementwiseProblem):\n",
    "    def __init__(self, mu, cov, returns_df, risk_free_rate=0.02, VaR_confidence = 0.95, hhi_limit=0.15, **kwargs):\n",
    "        super().__init__(n_var=len(np.array(ticker)), n_obj=2, xl=0.0, xu=1.0, **kwargs)\n",
    "        self.mu = mu\n",
    "        self.cov = cov\n",
    "        self.returns_df = returns_df\n",
    "        self.risk_free_rate = risk_free_rate\n",
    "        self.VaR_confidence = VaR_confidence\n",
    "        self.hhi_limit = hhi_limit        \n",
    "        self.DAYS_PER_YEAR = 250\n",
    "        self.z_alpha = norm.ppf(self.VaR_confidence)\n",
    "\n",
    "    def _evaluate(self, x, out, *args, **kwargs):\n",
    "        x = np.asarray(x).flatten()\n",
    "        \n",
    "        exp_return = x @ self.mu\n",
    "        volatility_daily = np.sqrt(x @ self.cov @ x)\n",
    "        volatility_annual = volatility_daily * np.sqrt(self.DAYS_PER_YEAR)\n",
    "        exp_return_annual = exp_return * self.DAYS_PER_YEAR\n",
    "\n",
    "        # sharp ratio\n",
    "        sharpe = (exp_return - self.risk_free_rate) / volatility_annual\n",
    "\n",
    "        port_daily_ret = self.returns_df @ x #每日報酬\n",
    "        \n",
    "        '''\n",
    "        # --- Calmar ratio ---\n",
    "        \n",
    "        # 若沒有回測區間太短會失敗，使用者自行確認 returns_df 的長度\n",
    "        cum = np.cumprod(1 + port_daily_ret)\n",
    "        running_max = np.maximum.accumulate(cum)\n",
    "        running_max[running_max == 0] = 1e-6\n",
    "        drawdowns = (running_max - cum) / running_max\n",
    "        max_dd = drawdowns.max() if len(drawdowns) else 0.0\n",
    "        calmar = np.inf if max_dd == 0 else exp_return_annual / max_dd\n",
    "        '''\n",
    "        \n",
    "        # --- Herfindahl–Hirschman Index (HHI) 作多元化 ---\n",
    "        hhi = np.sum(np.square(x))          # ∑ w_i²，1 = 全押單一資產\n",
    "        diversity = 1 - hhi                 # 值愈大愈分散\n",
    "        \n",
    "        # --- Value at Risk ---\n",
    "        var = -np.percentile(port_daily_ret, (1 - self.VaR_confidence) * 100)\n",
    "        \n",
    "        \n",
    "        \n",
    "        out[\"F\"] = [volatility_annual, -exp_return]\n",
    "        out[\"sharpe\"] = sharpe\n",
    "        # out[\"calmar\"] = calmar\n",
    "        out[\"diversity\"] = diversity\n",
    "        out[\"var\"] = var"
   ]
  },
  {
   "cell_type": "code",
   "execution_count": 34,
   "metadata": {},
   "outputs": [],
   "source": [
    "class PortfolioRepair(Repair):\n",
    "    def _do(self, problem, X, **kwargs):\n",
    "        X[X < 1e-3] = 0\n",
    "        return X / X.sum(axis=1, keepdims=True)"
   ]
  },
  {
   "cell_type": "code",
   "execution_count": 36,
   "metadata": {},
   "outputs": [],
   "source": [
    "from pymoo.indicators.hv import HV\n",
    "from scipy.stats import norm\n",
    "\n",
    "def calculate_expected_returns(current_data):\n",
    "    ind_er = current_data.resample('YE').last().pct_change().mean()\n",
    "    # print(ind_er)\n",
    "    return ind_er\n",
    "\n",
    "def calculate_covariance_matrix(current_data):\n",
    "    cov_matrix = current_data.pct_change().apply(lambda x: np.log(1+x)).cov()\n",
    "    # print(cov_matrix)\n",
    "    return cov_matrix\n",
    "\n",
    "def calculate_returns_df_matrix(current_data):\n",
    "    returns_df = current_data.pct_change().dropna()\n",
    "    return returns_df\n",
    "\n",
    "def record_stock_price(stock_alloc, current_budget, price_day):\n",
    "    # extract trade date\n",
    "    # print(f'current budget is {current_budget[0]}')  \n",
    "    trade_date = fine_tune_data.index[price_day]\n",
    "    # print(f'record stock price is {trade_date}')\n",
    "\n",
    "    # extract stock price in trade date\n",
    "    prices_series = fine_tune_data.loc[[trade_date]]\n",
    "    prices_array = prices_series.to_numpy().ravel()  # shape (n,)\n",
    "    # print(f'Prices: {prices_array}')\n",
    "    # print(f'Stock allocation: {stock_alloc}')    \n",
    "    \n",
    "    current_budget[0] = stock_alloc @ prices_array  \n",
    "    \n",
    "    # print(f'current budget is {current_budget[0]}')  \n",
    "\n",
    "def execute_trades(stock_alloc, final_weight, current_budget, price_day):\n",
    "    # extract trade date\n",
    "    # print(f'current budget is {current_budget[0]}')\n",
    "    trade_date = fine_tune_data.index[price_day]\n",
    "    # print(f'trade data is {trade_date}')\n",
    "\n",
    "    # extract stock price in trade date\n",
    "    prices_series = fine_tune_data.loc[[trade_date]]\n",
    "    prices_array = prices_series.to_numpy().ravel()  # shape (n,)\n",
    "    # print(f'Prices: {prices_array}')\n",
    "    # print(f'Stock allocation: {stock_alloc}')\n",
    "    \n",
    "    if not np.allclose(stock_alloc, np.zeros(len(ticker))):\n",
    "        # print(\"you are here attention\")\n",
    "        current_budget[0] = stock_alloc @ prices_array   \n",
    "    \n",
    "    dollar_alloc = current_budget[0]*final_weight   \n",
    "\n",
    "    # Element-wise division to get number of shares\n",
    "    stock_alloc[:] = dollar_alloc / prices_array  # modifies caller's array\n",
    "    # print(f'Stock allocation (shares): {stock_alloc}')\n",
    "\n",
    "    \n",
    "    # print(f'stock_alloc is {stock_alloc}')\n",
    "    # print(f'current budget is {current_budget[0]}')"
   ]
  },
  {
   "cell_type": "code",
   "execution_count": 38,
   "metadata": {},
   "outputs": [
    {
     "name": "stdout",
     "output_type": "stream",
     "text": [
      "Run 1/10\n",
      "BinaryRandom_SBX\n",
      "Current day is: 0\n"
     ]
    },
    {
     "ename": "KeyboardInterrupt",
     "evalue": "",
     "output_type": "error",
     "traceback": [
      "\u001b[1;31m---------------------------------------------------------------------------\u001b[0m",
      "\u001b[1;31mKeyboardInterrupt\u001b[0m                         Traceback (most recent call last)",
      "Cell \u001b[1;32mIn[38], line 61\u001b[0m\n\u001b[0;32m     54\u001b[0m problem \u001b[38;5;241m=\u001b[39m PortfolioProblem(mu, cov, returns_df, risk_free_rate\u001b[38;5;241m=\u001b[39m\u001b[38;5;241m0.02\u001b[39m, VaR_confidence \u001b[38;5;241m=\u001b[39m VaR_confidence, hhi_limit\u001b[38;5;241m=\u001b[39mhhi_limit)\n\u001b[0;32m     56\u001b[0m algorithm \u001b[38;5;241m=\u001b[39m NSGA2(pop_size\u001b[38;5;241m=\u001b[39m\u001b[38;5;241m200\u001b[39m,\n\u001b[0;32m     57\u001b[0m         sampling\u001b[38;5;241m=\u001b[39mconf[\u001b[38;5;124m'\u001b[39m\u001b[38;5;124msampling\u001b[39m\u001b[38;5;124m'\u001b[39m],\n\u001b[0;32m     58\u001b[0m         crossover\u001b[38;5;241m=\u001b[39mconf[\u001b[38;5;124m'\u001b[39m\u001b[38;5;124mcrossover\u001b[39m\u001b[38;5;124m'\u001b[39m],\n\u001b[0;32m     59\u001b[0m         repair\u001b[38;5;241m=\u001b[39mPortfolioRepair())\n\u001b[1;32m---> 61\u001b[0m res \u001b[38;5;241m=\u001b[39m minimize( problem,\n\u001b[0;32m     62\u001b[0m         algorithm,\n\u001b[0;32m     63\u001b[0m         (\u001b[38;5;124m'\u001b[39m\u001b[38;5;124mn_gen\u001b[39m\u001b[38;5;124m'\u001b[39m, \u001b[38;5;241m500\u001b[39m),\n\u001b[0;32m     64\u001b[0m         seed\u001b[38;5;241m=\u001b[39mrun_idx,\n\u001b[0;32m     65\u001b[0m         verbose\u001b[38;5;241m=\u001b[39m\u001b[38;5;28;01mFalse\u001b[39;00m) \n\u001b[0;32m     67\u001b[0m \u001b[38;5;66;03m# Get optimal portfolio weights\u001b[39;00m\n\u001b[0;32m     68\u001b[0m X, F, sharpe, diversity, var \u001b[38;5;241m=\u001b[39m res\u001b[38;5;241m.\u001b[39mopt\u001b[38;5;241m.\u001b[39mget(\u001b[38;5;124m\"\u001b[39m\u001b[38;5;124mX\u001b[39m\u001b[38;5;124m\"\u001b[39m, \u001b[38;5;124m\"\u001b[39m\u001b[38;5;124mF\u001b[39m\u001b[38;5;124m\"\u001b[39m, \u001b[38;5;124m\"\u001b[39m\u001b[38;5;124msharpe\u001b[39m\u001b[38;5;124m\"\u001b[39m, \u001b[38;5;124m\"\u001b[39m\u001b[38;5;124mdiversity\u001b[39m\u001b[38;5;124m\"\u001b[39m, \u001b[38;5;124m\"\u001b[39m\u001b[38;5;124mvar\u001b[39m\u001b[38;5;124m\"\u001b[39m)        \n",
      "File \u001b[1;32m~\\anaconda3\\Lib\\site-packages\\pymoo\\optimize.py:67\u001b[0m, in \u001b[0;36mminimize\u001b[1;34m(problem, algorithm, termination, copy_algorithm, copy_termination, **kwargs)\u001b[0m\n\u001b[0;32m     64\u001b[0m     algorithm\u001b[38;5;241m.\u001b[39msetup(problem, \u001b[38;5;241m*\u001b[39m\u001b[38;5;241m*\u001b[39mkwargs)\n\u001b[0;32m     66\u001b[0m \u001b[38;5;66;03m# actually execute the algorithm\u001b[39;00m\n\u001b[1;32m---> 67\u001b[0m res \u001b[38;5;241m=\u001b[39m algorithm\u001b[38;5;241m.\u001b[39mrun()\n\u001b[0;32m     69\u001b[0m \u001b[38;5;66;03m# store the deep copied algorithm in the result object\u001b[39;00m\n\u001b[0;32m     70\u001b[0m res\u001b[38;5;241m.\u001b[39malgorithm \u001b[38;5;241m=\u001b[39m algorithm\n",
      "File \u001b[1;32m~\\anaconda3\\Lib\\site-packages\\pymoo\\core\\algorithm.py:138\u001b[0m, in \u001b[0;36mAlgorithm.run\u001b[1;34m(self)\u001b[0m\n\u001b[0;32m    136\u001b[0m \u001b[38;5;28;01mdef\u001b[39;00m \u001b[38;5;21mrun\u001b[39m(\u001b[38;5;28mself\u001b[39m):\n\u001b[0;32m    137\u001b[0m     \u001b[38;5;28;01mwhile\u001b[39;00m \u001b[38;5;28mself\u001b[39m\u001b[38;5;241m.\u001b[39mhas_next():\n\u001b[1;32m--> 138\u001b[0m         \u001b[38;5;28mself\u001b[39m\u001b[38;5;241m.\u001b[39mnext()\n\u001b[0;32m    139\u001b[0m     \u001b[38;5;28;01mreturn\u001b[39;00m \u001b[38;5;28mself\u001b[39m\u001b[38;5;241m.\u001b[39mresult()\n",
      "File \u001b[1;32m~\\anaconda3\\Lib\\site-packages\\pymoo\\core\\algorithm.py:159\u001b[0m, in \u001b[0;36mAlgorithm.next\u001b[1;34m(self)\u001b[0m\n\u001b[0;32m    157\u001b[0m \u001b[38;5;28;01mif\u001b[39;00m infills \u001b[38;5;129;01mis\u001b[39;00m \u001b[38;5;129;01mnot\u001b[39;00m \u001b[38;5;28;01mNone\u001b[39;00m:\n\u001b[0;32m    158\u001b[0m     \u001b[38;5;28mself\u001b[39m\u001b[38;5;241m.\u001b[39mevaluator\u001b[38;5;241m.\u001b[39meval(\u001b[38;5;28mself\u001b[39m\u001b[38;5;241m.\u001b[39mproblem, infills, algorithm\u001b[38;5;241m=\u001b[39m\u001b[38;5;28mself\u001b[39m)\n\u001b[1;32m--> 159\u001b[0m     \u001b[38;5;28mself\u001b[39m\u001b[38;5;241m.\u001b[39madvance(infills\u001b[38;5;241m=\u001b[39minfills)\n\u001b[0;32m    161\u001b[0m \u001b[38;5;66;03m# if the algorithm does not follow the infill-advance scheme just call advance\u001b[39;00m\n\u001b[0;32m    162\u001b[0m \u001b[38;5;28;01melse\u001b[39;00m:\n\u001b[0;32m    163\u001b[0m     \u001b[38;5;28mself\u001b[39m\u001b[38;5;241m.\u001b[39madvance()\n",
      "File \u001b[1;32m~\\anaconda3\\Lib\\site-packages\\pymoo\\core\\algorithm.py:225\u001b[0m, in \u001b[0;36mAlgorithm.advance\u001b[1;34m(self, infills, **kwargs)\u001b[0m\n\u001b[0;32m    220\u001b[0m     \u001b[38;5;28mself\u001b[39m\u001b[38;5;241m.\u001b[39m_post_advance()\n\u001b[0;32m    222\u001b[0m \u001b[38;5;28;01melse\u001b[39;00m:\n\u001b[0;32m    223\u001b[0m \n\u001b[0;32m    224\u001b[0m     \u001b[38;5;66;03m# call the implementation of the advance method - if the infill is not None\u001b[39;00m\n\u001b[1;32m--> 225\u001b[0m     val \u001b[38;5;241m=\u001b[39m \u001b[38;5;28mself\u001b[39m\u001b[38;5;241m.\u001b[39m_advance(infills\u001b[38;5;241m=\u001b[39minfills, \u001b[38;5;241m*\u001b[39m\u001b[38;5;241m*\u001b[39mkwargs)\n\u001b[0;32m    227\u001b[0m     \u001b[38;5;66;03m# always advance to the next iteration - except if the algorithm returns False\u001b[39;00m\n\u001b[0;32m    228\u001b[0m     \u001b[38;5;28;01mif\u001b[39;00m val \u001b[38;5;129;01mis\u001b[39;00m \u001b[38;5;28;01mNone\u001b[39;00m \u001b[38;5;129;01mor\u001b[39;00m val:\n",
      "File \u001b[1;32m~\\anaconda3\\Lib\\site-packages\\pymoo\\algorithms\\base\\genetic.py:109\u001b[0m, in \u001b[0;36mGeneticAlgorithm._advance\u001b[1;34m(self, infills, **kwargs)\u001b[0m\n\u001b[0;32m    106\u001b[0m     pop \u001b[38;5;241m=\u001b[39m Population\u001b[38;5;241m.\u001b[39mmerge(\u001b[38;5;28mself\u001b[39m\u001b[38;5;241m.\u001b[39mpop, infills)\n\u001b[0;32m    108\u001b[0m \u001b[38;5;66;03m# execute the survival to find the fittest solutions\u001b[39;00m\n\u001b[1;32m--> 109\u001b[0m \u001b[38;5;28mself\u001b[39m\u001b[38;5;241m.\u001b[39mpop \u001b[38;5;241m=\u001b[39m \u001b[38;5;28mself\u001b[39m\u001b[38;5;241m.\u001b[39msurvival\u001b[38;5;241m.\u001b[39mdo(\u001b[38;5;28mself\u001b[39m\u001b[38;5;241m.\u001b[39mproblem, pop, n_survive\u001b[38;5;241m=\u001b[39m\u001b[38;5;28mself\u001b[39m\u001b[38;5;241m.\u001b[39mpop_size, algorithm\u001b[38;5;241m=\u001b[39m\u001b[38;5;28mself\u001b[39m, \u001b[38;5;241m*\u001b[39m\u001b[38;5;241m*\u001b[39mkwargs)\n",
      "File \u001b[1;32m~\\anaconda3\\Lib\\site-packages\\pymoo\\core\\survival.py:55\u001b[0m, in \u001b[0;36mSurvival.do\u001b[1;34m(self, problem, pop, n_survive, return_indices, *args, **kwargs)\u001b[0m\n\u001b[0;32m     52\u001b[0m         survivors \u001b[38;5;241m=\u001b[39m Population\u001b[38;5;241m.\u001b[39mmerge(survivors, pop[infeas[:n_remaining]])\n\u001b[0;32m     54\u001b[0m \u001b[38;5;28;01melse\u001b[39;00m:\n\u001b[1;32m---> 55\u001b[0m     survivors \u001b[38;5;241m=\u001b[39m \u001b[38;5;28mself\u001b[39m\u001b[38;5;241m.\u001b[39m_do(problem, pop, \u001b[38;5;241m*\u001b[39margs, n_survive\u001b[38;5;241m=\u001b[39mn_survive, \u001b[38;5;241m*\u001b[39m\u001b[38;5;241m*\u001b[39mkwargs)\n\u001b[0;32m     57\u001b[0m \u001b[38;5;28;01mif\u001b[39;00m return_indices:\n\u001b[0;32m     58\u001b[0m     H \u001b[38;5;241m=\u001b[39m {}\n",
      "File \u001b[1;32m~\\anaconda3\\Lib\\site-packages\\pymoo\\operators\\survival\\rank_and_crowding\\classes.py:91\u001b[0m, in \u001b[0;36mRankAndCrowding._do\u001b[1;34m(self, problem, pop, n_survive, *args, **kwargs)\u001b[0m\n\u001b[0;32m     85\u001b[0m     I \u001b[38;5;241m=\u001b[39m I[:\u001b[38;5;241m-\u001b[39mn_remove]\n\u001b[0;32m     87\u001b[0m \u001b[38;5;66;03m# otherwise take the whole front unsorted\u001b[39;00m\n\u001b[0;32m     88\u001b[0m \u001b[38;5;28;01melse\u001b[39;00m:\n\u001b[0;32m     89\u001b[0m     \u001b[38;5;66;03m# calculate the crowding distance of the front\u001b[39;00m\n\u001b[0;32m     90\u001b[0m     crowding_of_front \u001b[38;5;241m=\u001b[39m \\\n\u001b[1;32m---> 91\u001b[0m         \u001b[38;5;28mself\u001b[39m\u001b[38;5;241m.\u001b[39mcrowding_func\u001b[38;5;241m.\u001b[39mdo(\n\u001b[0;32m     92\u001b[0m             F[front, :],\n\u001b[0;32m     93\u001b[0m             n_remove\u001b[38;5;241m=\u001b[39m\u001b[38;5;241m0\u001b[39m\n\u001b[0;32m     94\u001b[0m         )\n\u001b[0;32m     96\u001b[0m \u001b[38;5;66;03m# save rank and crowding in the individual class\u001b[39;00m\n\u001b[0;32m     97\u001b[0m \u001b[38;5;28;01mfor\u001b[39;00m j, i \u001b[38;5;129;01min\u001b[39;00m \u001b[38;5;28menumerate\u001b[39m(front):\n",
      "File \u001b[1;32m~\\anaconda3\\Lib\\site-packages\\pymoo\\operators\\survival\\rank_and_crowding\\metrics.py:34\u001b[0m, in \u001b[0;36mCrowdingDiversity.do\u001b[1;34m(self, F, n_remove)\u001b[0m\n\u001b[0;32m     32\u001b[0m n_remove \u001b[38;5;241m=\u001b[39m np\u001b[38;5;241m.\u001b[39mintc(n_remove)\n\u001b[0;32m     33\u001b[0m F \u001b[38;5;241m=\u001b[39m np\u001b[38;5;241m.\u001b[39marray(F, dtype\u001b[38;5;241m=\u001b[39mnp\u001b[38;5;241m.\u001b[39mdouble)\n\u001b[1;32m---> 34\u001b[0m \u001b[38;5;28;01mreturn\u001b[39;00m \u001b[38;5;28mself\u001b[39m\u001b[38;5;241m.\u001b[39m_do(F, n_remove\u001b[38;5;241m=\u001b[39mn_remove)\n",
      "File \u001b[1;32m~\\anaconda3\\Lib\\site-packages\\pymoo\\operators\\survival\\rank_and_crowding\\metrics.py:66\u001b[0m, in \u001b[0;36mFunctionalDiversity._do\u001b[1;34m(self, F, **kwargs)\u001b[0m\n\u001b[0;32m     63\u001b[0m \u001b[38;5;66;03m# index the unique points of the array\u001b[39;00m\n\u001b[0;32m     64\u001b[0m _F \u001b[38;5;241m=\u001b[39m F[is_unique]\n\u001b[1;32m---> 66\u001b[0m _d \u001b[38;5;241m=\u001b[39m \u001b[38;5;28mself\u001b[39m\u001b[38;5;241m.\u001b[39mfunction(_F, \u001b[38;5;241m*\u001b[39m\u001b[38;5;241m*\u001b[39mkwargs)\n\u001b[0;32m     68\u001b[0m d \u001b[38;5;241m=\u001b[39m np\u001b[38;5;241m.\u001b[39mzeros(n_points)\n\u001b[0;32m     69\u001b[0m d[is_unique] \u001b[38;5;241m=\u001b[39m _d\n",
      "File \u001b[1;32m~\\anaconda3\\Lib\\site-packages\\pymoo\\operators\\survival\\rank_and_crowding\\metrics.py:91\u001b[0m, in \u001b[0;36mcalc_crowding_distance\u001b[1;34m(F, **kwargs)\u001b[0m\n\u001b[0;32m     88\u001b[0m n_points, n_obj \u001b[38;5;241m=\u001b[39m F\u001b[38;5;241m.\u001b[39mshape\n\u001b[0;32m     90\u001b[0m \u001b[38;5;66;03m# sort each column and get index\u001b[39;00m\n\u001b[1;32m---> 91\u001b[0m I \u001b[38;5;241m=\u001b[39m np\u001b[38;5;241m.\u001b[39margsort(F, axis\u001b[38;5;241m=\u001b[39m\u001b[38;5;241m0\u001b[39m, kind\u001b[38;5;241m=\u001b[39m\u001b[38;5;124m'\u001b[39m\u001b[38;5;124mmergesort\u001b[39m\u001b[38;5;124m'\u001b[39m)\n\u001b[0;32m     93\u001b[0m \u001b[38;5;66;03m# sort the objective space values for the whole matrix\u001b[39;00m\n\u001b[0;32m     94\u001b[0m F \u001b[38;5;241m=\u001b[39m F[I, np\u001b[38;5;241m.\u001b[39marange(n_obj)]\n",
      "File \u001b[1;32m~\\anaconda3\\Lib\\site-packages\\numpy\\core\\fromnumeric.py:1133\u001b[0m, in \u001b[0;36margsort\u001b[1;34m(a, axis, kind, order)\u001b[0m\n\u001b[0;32m   1025\u001b[0m \u001b[38;5;129m@array_function_dispatch\u001b[39m(_argsort_dispatcher)\n\u001b[0;32m   1026\u001b[0m \u001b[38;5;28;01mdef\u001b[39;00m \u001b[38;5;21margsort\u001b[39m(a, axis\u001b[38;5;241m=\u001b[39m\u001b[38;5;241m-\u001b[39m\u001b[38;5;241m1\u001b[39m, kind\u001b[38;5;241m=\u001b[39m\u001b[38;5;28;01mNone\u001b[39;00m, order\u001b[38;5;241m=\u001b[39m\u001b[38;5;28;01mNone\u001b[39;00m):\n\u001b[0;32m   1027\u001b[0m \u001b[38;5;250m    \u001b[39m\u001b[38;5;124;03m\"\"\"\u001b[39;00m\n\u001b[0;32m   1028\u001b[0m \u001b[38;5;124;03m    Returns the indices that would sort an array.\u001b[39;00m\n\u001b[0;32m   1029\u001b[0m \n\u001b[1;32m   (...)\u001b[0m\n\u001b[0;32m   1131\u001b[0m \n\u001b[0;32m   1132\u001b[0m \u001b[38;5;124;03m    \"\"\"\u001b[39;00m\n\u001b[1;32m-> 1133\u001b[0m     \u001b[38;5;28;01mreturn\u001b[39;00m _wrapfunc(a, \u001b[38;5;124m'\u001b[39m\u001b[38;5;124margsort\u001b[39m\u001b[38;5;124m'\u001b[39m, axis\u001b[38;5;241m=\u001b[39maxis, kind\u001b[38;5;241m=\u001b[39mkind, order\u001b[38;5;241m=\u001b[39morder)\n",
      "File \u001b[1;32m~\\anaconda3\\Lib\\site-packages\\numpy\\core\\fromnumeric.py:59\u001b[0m, in \u001b[0;36m_wrapfunc\u001b[1;34m(obj, method, *args, **kwds)\u001b[0m\n\u001b[0;32m     56\u001b[0m     \u001b[38;5;28;01mreturn\u001b[39;00m _wrapit(obj, method, \u001b[38;5;241m*\u001b[39margs, \u001b[38;5;241m*\u001b[39m\u001b[38;5;241m*\u001b[39mkwds)\n\u001b[0;32m     58\u001b[0m \u001b[38;5;28;01mtry\u001b[39;00m:\n\u001b[1;32m---> 59\u001b[0m     \u001b[38;5;28;01mreturn\u001b[39;00m bound(\u001b[38;5;241m*\u001b[39margs, \u001b[38;5;241m*\u001b[39m\u001b[38;5;241m*\u001b[39mkwds)\n\u001b[0;32m     60\u001b[0m \u001b[38;5;28;01mexcept\u001b[39;00m \u001b[38;5;167;01mTypeError\u001b[39;00m:\n\u001b[0;32m     61\u001b[0m     \u001b[38;5;66;03m# A TypeError occurs if the object does have such a method in its\u001b[39;00m\n\u001b[0;32m     62\u001b[0m     \u001b[38;5;66;03m# class, but its signature is not identical to that of NumPy's. This\u001b[39;00m\n\u001b[1;32m   (...)\u001b[0m\n\u001b[0;32m     66\u001b[0m     \u001b[38;5;66;03m# Call _wrapit from within the except clause to ensure a potential\u001b[39;00m\n\u001b[0;32m     67\u001b[0m     \u001b[38;5;66;03m# exception has a traceback chain.\u001b[39;00m\n\u001b[0;32m     68\u001b[0m     \u001b[38;5;28;01mreturn\u001b[39;00m _wrapit(obj, method, \u001b[38;5;241m*\u001b[39margs, \u001b[38;5;241m*\u001b[39m\u001b[38;5;241m*\u001b[39mkwds)\n",
      "\u001b[1;31mKeyboardInterrupt\u001b[0m: "
     ]
    }
   ],
   "source": [
    "data_size = len(fine_tune_data)\n",
    "test_time = 10  # Independent runs\n",
    "test_period = 250\n",
    "VaR_confidence = 0.95\n",
    "hhi_limit = 0.25\n",
    "\n",
    "# Storage\n",
    "test_sharpe_results = {conf['name']: [] for conf in configurations}\n",
    "test_diversity_results = {conf['name']: [] for conf in configurations}\n",
    "test_min_var_results = {conf['name']: [] for conf in configurations}\n",
    "\n",
    "for run_idx in range(test_time):\n",
    "    print(f\"Run {run_idx + 1}/{test_time}\")\n",
    "\n",
    "    for conf in configurations:    \n",
    "\n",
    "        sharpe_current_budget = [1]\n",
    "        sharpe_current_budget[0] = 1_000_000\n",
    "        sharpe_stock_alloc = np.zeros(len(ticker)) \n",
    "         \n",
    "        diversity_current_budget = [1]\n",
    "        diversity_current_budget[0] = 1_000_000\n",
    "        diversity_stock_alloc = np.zeros(len(ticker))  \n",
    "        \n",
    "        min_var_current_budget = [1]\n",
    "        min_var_current_budget[0] = 1_000_000\n",
    "        min_var_stock_alloc = np.zeros(len(ticker))  \n",
    "        \n",
    "        name = conf['name']\n",
    "        print(f\"{name}\")\n",
    "        \n",
    "        for day in range(test_period):    \n",
    "            print(f\"Current day is: {day}\")\n",
    "            serach_day = data_size - (test_period-day)\n",
    "            current_data = fine_tune_data.iloc[:serach_day] \n",
    "\n",
    "            if(day%20 != 0):  \n",
    "                print(\"you are doing sharpe\")\n",
    "                record_stock_price(sharpe_stock_alloc, sharpe_current_budget, serach_day)\n",
    "\n",
    "                print(\"you are doing diversity\")\n",
    "                record_stock_price(diversity_stock_alloc, diversity_current_budget, serach_day)\n",
    "\n",
    "                # print(\"you are doing max_var\")\n",
    "                # record_stock_price(max_var_stock_alloc, max_var_current_budget, serach_day, max_var_budget_history, max_var_stock_alloc_history)\n",
    "\n",
    "                print(\"you are doing min_var\")\n",
    "                record_stock_price(min_var_stock_alloc, min_var_current_budget, serach_day)\n",
    "                continue\n",
    "        \n",
    "            mu = calculate_expected_returns(current_data)\n",
    "            cov = calculate_covariance_matrix(current_data)\n",
    "            returns_df = calculate_returns_df_matrix(current_data)\n",
    "            problem = PortfolioProblem(mu, cov, returns_df, risk_free_rate=0.02, VaR_confidence = VaR_confidence, hhi_limit=hhi_limit)\n",
    "\n",
    "            algorithm = NSGA2(pop_size=200,\n",
    "                    sampling=conf['sampling'],\n",
    "                    crossover=conf['crossover'],\n",
    "                    repair=PortfolioRepair())\n",
    "\n",
    "            res = minimize( problem,\n",
    "                    algorithm,\n",
    "                    ('n_gen', 500),\n",
    "                    seed=run_idx,\n",
    "                    verbose=False) \n",
    "    \n",
    "            # Get optimal portfolio weights\n",
    "            X, F, sharpe, diversity, var = res.opt.get(\"X\", \"F\", \"sharpe\", \"diversity\", \"var\")        \n",
    "          \n",
    "            # Select portfolio with maximum Sharpe ratio\n",
    "            max_sharpe_idx = sharpe.argmax()            \n",
    "            max_diversity_idx = diversity.argmax()\n",
    "            # max_var_idx = var.argmax()\n",
    "            min_var_idx = var.argmin()            \n",
    "    \n",
    "            sharpe_optimal_weights = X[max_sharpe_idx]            \n",
    "            diversity_optimal_weights = X[max_diversity_idx]\n",
    "            # max_var_optimal_weights = X[max_var_idx]\n",
    "            min_var_optimal_weights = X[min_var_idx] \n",
    "\n",
    "            execute_trades(sharpe_stock_alloc, sharpe_optimal_weights, sharpe_current_budget, serach_day)  # Assume this function exists  \n",
    "            execute_trades(diversity_stock_alloc, diversity_optimal_weights, diversity_current_budget, serach_day)  # Assume this function exists   \n",
    "            # execute_trades(max_var_stock_alloc, max_var_optimal_weights, max_var_current_budget, serach_day)  # Assume this function exists    \n",
    "            execute_trades(min_var_stock_alloc, min_var_optimal_weights, min_var_current_budget, serach_day)  # Assume this function exists\n",
    "\n",
    "        name = conf['name']\n",
    "        test_sharpe_results[name].append(sharpe_current_budget[0])\n",
    "        test_diversity_results[name].append(diversity_current_budget[0])\n",
    "        test_min_var_results[name].append(min_var_current_budget[0])"
   ]
  },
  {
   "cell_type": "code",
   "execution_count": 40,
   "metadata": {},
   "outputs": [
    {
     "name": "stdout",
     "output_type": "stream",
     "text": [
      "{'BinaryRandom_SBX': [], 'BinaryRandom_TwoPt': [], 'BinaryRandom_Uniform': [], 'FloatRandom_SBX': [], 'FloatRandom_TwoPt': [], 'FloatRandom_Uniform': [], 'LHS_SBX': [], 'LHS_TwoPt': [], 'LHS_Uniform': []}\n",
      "{'BinaryRandom_SBX': [], 'BinaryRandom_TwoPt': [], 'BinaryRandom_Uniform': [], 'FloatRandom_SBX': [], 'FloatRandom_TwoPt': [], 'FloatRandom_Uniform': [], 'LHS_SBX': [], 'LHS_TwoPt': [], 'LHS_Uniform': []}\n",
      "{'BinaryRandom_SBX': [], 'BinaryRandom_TwoPt': [], 'BinaryRandom_Uniform': [], 'FloatRandom_SBX': [], 'FloatRandom_TwoPt': [], 'FloatRandom_Uniform': [], 'LHS_SBX': [], 'LHS_TwoPt': [], 'LHS_Uniform': []}\n",
      "== Sharpe Summary ==\n",
      "BinaryRandom_SBX: mean sharpe = nan, std = nan\n",
      "BinaryRandom_TwoPt: mean sharpe = nan, std = nan\n",
      "BinaryRandom_Uniform: mean sharpe = nan, std = nan\n",
      "FloatRandom_SBX: mean sharpe = nan, std = nan\n",
      "FloatRandom_TwoPt: mean sharpe = nan, std = nan\n",
      "FloatRandom_Uniform: mean sharpe = nan, std = nan\n",
      "LHS_SBX: mean sharpe = nan, std = nan\n",
      "LHS_TwoPt: mean sharpe = nan, std = nan\n",
      "LHS_Uniform: mean sharpe = nan, std = nan\n",
      "\n",
      "== Diversity Summary ==\n",
      "BinaryRandom_SBX: mean diversity = nan, std = nan\n",
      "BinaryRandom_TwoPt: mean diversity = nan, std = nan\n",
      "BinaryRandom_Uniform: mean diversity = nan, std = nan\n",
      "FloatRandom_SBX: mean diversity = nan, std = nan\n",
      "FloatRandom_TwoPt: mean diversity = nan, std = nan\n",
      "FloatRandom_Uniform: mean diversity = nan, std = nan\n",
      "LHS_SBX: mean diversity = nan, std = nan\n",
      "LHS_TwoPt: mean diversity = nan, std = nan\n",
      "LHS_Uniform: mean diversity = nan, std = nan\n",
      "\n",
      "== Min Var Summary ==\n",
      "BinaryRandom_SBX: mean min var = nan, std = nan\n",
      "BinaryRandom_TwoPt: mean min var = nan, std = nan\n",
      "BinaryRandom_Uniform: mean min var = nan, std = nan\n",
      "FloatRandom_SBX: mean min var = nan, std = nan\n",
      "FloatRandom_TwoPt: mean min var = nan, std = nan\n",
      "FloatRandom_Uniform: mean min var = nan, std = nan\n",
      "LHS_SBX: mean min var = nan, std = nan\n",
      "LHS_TwoPt: mean min var = nan, std = nan\n",
      "LHS_Uniform: mean min var = nan, std = nan\n"
     ]
    },
    {
     "name": "stderr",
     "output_type": "stream",
     "text": [
      "C:\\Users\\kaoyoung\\anaconda3\\Lib\\site-packages\\numpy\\core\\fromnumeric.py:3504: RuntimeWarning: Mean of empty slice.\n",
      "  return _methods._mean(a, axis=axis, dtype=dtype,\n",
      "C:\\Users\\kaoyoung\\anaconda3\\Lib\\site-packages\\numpy\\core\\_methods.py:129: RuntimeWarning: invalid value encountered in scalar divide\n",
      "  ret = ret.dtype.type(ret / rcount)\n",
      "C:\\Users\\kaoyoung\\anaconda3\\Lib\\site-packages\\numpy\\core\\_methods.py:206: RuntimeWarning: Degrees of freedom <= 0 for slice\n",
      "  ret = _var(a, axis=axis, dtype=dtype, out=out, ddof=ddof,\n",
      "C:\\Users\\kaoyoung\\anaconda3\\Lib\\site-packages\\numpy\\core\\_methods.py:163: RuntimeWarning: invalid value encountered in divide\n",
      "  arrmean = um.true_divide(arrmean, div, out=arrmean,\n",
      "C:\\Users\\kaoyoung\\anaconda3\\Lib\\site-packages\\numpy\\core\\_methods.py:198: RuntimeWarning: invalid value encountered in scalar divide\n",
      "  ret = ret.dtype.type(ret / rcount)\n"
     ]
    }
   ],
   "source": [
    "def summarize_results(results_dict):\n",
    "    summary = {}\n",
    "    for name, budget_list in results_dict.items():\n",
    "        summary[name] = {\n",
    "            'mean': np.mean(budget_list),\n",
    "            'std': np.std(budget_list)\n",
    "        }\n",
    "    return summary\n",
    "\n",
    "if __name__ == '__main__':\n",
    "    print(test_sharpe_results)\n",
    "    print(test_diversity_results)\n",
    "    print(test_min_var_results)\n",
    "    sharpe_summary = summarize_results(test_sharpe_results)\n",
    "    diversity_summary = summarize_results(test_diversity_results)\n",
    "    min_var_summary = summarize_results(test_min_var_results)\n",
    "\n",
    "    print(\"== Sharpe Summary ==\")\n",
    "    for name, stats in sharpe_summary.items():\n",
    "        print(f\"{name}: mean sharpe = {stats['mean']:.6f}, std = {stats['std']:.6f}\")\n",
    "\n",
    "    print(\"\\n== Diversity Summary ==\")\n",
    "    for name, stats in diversity_summary.items():\n",
    "        print(f\"{name}: mean diversity = {stats['mean']:.6f}, std = {stats['std']:.6f}\")\n",
    "\n",
    "    print(\"\\n== Min Var Summary ==\")\n",
    "    for name, stats in min_var_summary.items():\n",
    "        print(f\"{name}: mean min var = {stats['mean']:.6f}, std = {stats['std']:.6f}\")"
   ]
  },
  {
   "cell_type": "markdown",
   "metadata": {
    "id": "zoBLxwLt2U_X"
   },
   "source": [
    "# Solve problem with NSGA_II"
   ]
  },
  {
   "cell_type": "markdown",
   "metadata": {},
   "source": [
    "## Install requirment"
   ]
  },
  {
   "cell_type": "code",
   "execution_count": 74,
   "metadata": {},
   "outputs": [],
   "source": [
    "from IPython.display import clear_output\n",
    "\n",
    "!pip install yfinance\n",
    "!pip install fix_yahoo_finance\n",
    "!pip install pymoo\n",
    "clear_output()\n",
    "\n",
    "# Load Packages\n",
    "import numpy as np\n",
    "import pandas as pd\n",
    "from pandas_datareader import data\n",
    "import matplotlib.pyplot as plt\n",
    "%matplotlib inline"
   ]
  },
  {
   "cell_type": "code",
   "execution_count": 75,
   "metadata": {
    "id": "prsGX2lnEG_P"
   },
   "outputs": [],
   "source": [
    "# import libs\n",
    "from pymoo.core.problem import ElementwiseProblem\n",
    "from pymoo.core.repair import Repair\n",
    "from pymoo.algorithms.moo.sms import SMSEMOA\n",
    "from pymoo.algorithms.moo.nsga2 import NSGA2\n",
    "from pymoo.optimize import minimize\n",
    "import operator"
   ]
  },
  {
   "cell_type": "markdown",
   "metadata": {},
   "source": [
    "## Get the data"
   ]
  },
  {
   "cell_type": "code",
   "execution_count": 85,
   "metadata": {},
   "outputs": [
    {
     "name": "stderr",
     "output_type": "stream",
     "text": [
      "[*********************100%***********************]  50 of 50 completed\n"
     ]
    }
   ],
   "source": [
    "# Import yfinance package\n",
    "import yfinance as yf\n",
    "\n",
    "# Set the start and end date\n",
    "start_date = '2020-04-30' #'2020-04-30'\n",
    "end_date = '2025-04-30'   #'2025-04-30'\n",
    "\n",
    "ticker = ['AAPL', 'NVDA', 'MSFT', 'AMZN', 'META', 'GOOGL', 'TSLA', 'AVGO', 'GOOG', 'BRK-B',\n",
    "          'JPM', 'LLY', 'V', 'XOM', 'UNH', 'MA', 'COST', 'WMT', 'HD', 'PG',\n",
    "          'NFLX', 'JNJ', 'ABBV', 'CRM', 'BAC', 'ORCL', 'MRK', 'CVX', 'WFC', 'KO',\n",
    "          'CSCO', 'ACN', 'NOW', 'TMO', 'MCD', 'IBM', 'AMD', 'DIS', 'PEP', 'LIN',\n",
    "          'ABT', 'ISRG', 'PM', 'GE', 'ADBE', 'GS', 'QCOM', 'TXN', 'CAT', 'INTU']\n",
    "\n",
    "# Get the data\n",
    "data = yf.download(ticker, start_date, end_date, auto_adjust=False) # adding auto_adjust=False to get Adj Close"
   ]
  },
  {
   "cell_type": "code",
   "execution_count": 87,
   "metadata": {},
   "outputs": [],
   "source": [
    "data = data['Adj Close']\n",
    "# data"
   ]
  },
  {
   "cell_type": "markdown",
   "metadata": {},
   "source": [
    "## NSGA2 SETTING"
   ]
  },
  {
   "cell_type": "code",
   "execution_count": 92,
   "metadata": {
    "id": "I57xc3m02U_Y"
   },
   "outputs": [],
   "source": [
    "class PortfolioProblem(ElementwiseProblem):\n",
    "    def __init__(self, mu, cov, returns_df, risk_free_rate=0.02, VaR_confidence = 0.95, hhi_limit=0.15, **kwargs):\n",
    "        super().__init__(n_var=len(np.array(ticker)), n_obj=2, xl=0.0, xu=1.0, **kwargs)\n",
    "        self.mu = mu\n",
    "        self.cov = cov\n",
    "        self.returns_df = returns_df\n",
    "        self.risk_free_rate = risk_free_rate\n",
    "        self.VaR_confidence = VaR_confidence\n",
    "        self.hhi_limit = hhi_limit        \n",
    "        self.DAYS_PER_YEAR = 250\n",
    "        self.z_alpha = norm.ppf(self.VaR_confidence)\n",
    "\n",
    "    def _evaluate(self, x, out, *args, **kwargs):\n",
    "        x = np.asarray(x).flatten()\n",
    "        \n",
    "        exp_return = x @ self.mu\n",
    "        volatility_daily = np.sqrt(x @ self.cov @ x)\n",
    "        volatility_annual = volatility_daily * np.sqrt(self.DAYS_PER_YEAR)\n",
    "        exp_return_annual = exp_return * self.DAYS_PER_YEAR\n",
    "\n",
    "        # sharp ratio\n",
    "        sharpe = (exp_return - self.risk_free_rate) / volatility_annual\n",
    "\n",
    "        port_daily_ret = self.returns_df @ x #每日報酬\n",
    "        \n",
    "        '''\n",
    "        # --- Calmar ratio ---\n",
    "        \n",
    "        # 若沒有回測區間太短會失敗，使用者自行確認 returns_df 的長度\n",
    "        cum = np.cumprod(1 + port_daily_ret)\n",
    "        running_max = np.maximum.accumulate(cum)\n",
    "        running_max[running_max == 0] = 1e-6\n",
    "        drawdowns = (running_max - cum) / running_max\n",
    "        max_dd = drawdowns.max() if len(drawdowns) else 0.0\n",
    "        calmar = np.inf if max_dd == 0 else exp_return_annual / max_dd\n",
    "        '''\n",
    "        \n",
    "        # --- Herfindahl–Hirschman Index (HHI) 作多元化 ---\n",
    "        hhi = np.sum(np.square(x))          # ∑ w_i²，1 = 全押單一資產\n",
    "        diversity = 1 - hhi                 # 值愈大愈分散\n",
    "        \n",
    "        # --- Value at Risk ---\n",
    "        var = -np.percentile(port_daily_ret, (1 - self.VaR_confidence) * 100)\n",
    "        \n",
    "        \n",
    "        \n",
    "        out[\"F\"] = [volatility_annual, -exp_return]\n",
    "        out[\"sharpe\"] = sharpe\n",
    "        # out[\"calmar\"] = calmar\n",
    "        out[\"diversity\"] = diversity\n",
    "        out[\"var\"] = var"
   ]
  },
  {
   "cell_type": "code",
   "execution_count": 94,
   "metadata": {
    "id": "6VVeTm0v2U_Z"
   },
   "outputs": [],
   "source": [
    "class PortfolioRepair(Repair):\n",
    "\n",
    "    def _do(self, problem, X, **kwargs):\n",
    "        X[X < 1e-3] = 0\n",
    "        return X / X.sum(axis=1, keepdims=True)"
   ]
  },
  {
   "cell_type": "markdown",
   "metadata": {},
   "source": [
    "## Needed function for running "
   ]
  },
  {
   "cell_type": "code",
   "execution_count": 138,
   "metadata": {},
   "outputs": [],
   "source": [
    "from pymoo.indicators.hv import HV\n",
    "from scipy.stats import norm\n",
    "\n",
    "def calculate_expected_returns(current_data):\n",
    "    ind_er = current_data.resample('YE').last().pct_change().mean()\n",
    "    # print(ind_er)\n",
    "    return ind_er\n",
    "\n",
    "def calculate_covariance_matrix(current_data):\n",
    "    cov_matrix = current_data.pct_change().apply(lambda x: np.log(1+x)).cov()\n",
    "    # print(cov_matrix)\n",
    "    return cov_matrix\n",
    "\n",
    "def calculate_returns_df_matrix(current_data):\n",
    "    returns_df = current_data.pct_change().dropna()\n",
    "    return returns_df\n",
    "\n",
    "def record_stock_price(stock_alloc, current_budget, price_day, budget_history, stock_alloc_history):\n",
    "    # extract trade date\n",
    "    # print(f'current budget is {current_budget[0]}')  \n",
    "    trade_date = data.index[price_day]\n",
    "    # print(f'record stock price is {trade_date}')\n",
    "\n",
    "    # extract stock price in trade date\n",
    "    prices_series = data.loc[[trade_date]]\n",
    "    prices_array = prices_series.to_numpy().ravel()  # shape (n,)\n",
    "    # print(f'Prices: {prices_array}')\n",
    "    # print(f'Stock allocation: {stock_alloc}')    \n",
    "    \n",
    "    current_budget[0] = stock_alloc @ prices_array  \n",
    "    \n",
    "    budget_history.append(current_budget[0])\n",
    "    # stock_alloc_history.append(stock_alloc.copy())\n",
    "    # print(f'stock_alloc is {stock_alloc}')\n",
    "    # print(f'current budget is {current_budget[0]}')  \n",
    "        \n",
    "def execute_trades(stock_alloc, final_weight, current_budget, price_day, budget_history, stock_alloc_history):\n",
    "    # extract trade date\n",
    "    # print(f'current budget is {current_budget[0]}')\n",
    "    trade_date = data.index[price_day]\n",
    "    # print(f'trade data is {trade_date}')\n",
    "\n",
    "    # extract stock price in trade date\n",
    "    prices_series = data.loc[[trade_date]]\n",
    "    prices_array = prices_series.to_numpy().ravel()  # shape (n,)\n",
    "    # print(f'Prices: {prices_array}')\n",
    "\n",
    "    # print(f'Stock allocation: {stock_alloc}')\n",
    "\n",
    "    \n",
    "    if not np.allclose(stock_alloc, np.zeros(len(ticker))):\n",
    "        current_budget[0] = stock_alloc @ prices_array\n",
    "    \n",
    "    \n",
    "    \n",
    "    dollar_alloc = current_budget[0]*final_weight\n",
    "        \n",
    "\n",
    "    # Element-wise division to get number of shares\n",
    "    stock_alloc[:] = dollar_alloc / prices_array  # modifies caller's array\n",
    "    # print(f'Stock allocation (shares): {stock_alloc}')\n",
    "\n",
    "    budget_history.append(current_budget[0])\n",
    "    stock_alloc_history.append(stock_alloc.copy())\n",
    "    # print(f'stock_alloc is {stock_alloc}')\n",
    "    # print(f'current budget is {current_budget[0]}')\n",
    "    "
   ]
  },
  {
   "cell_type": "markdown",
   "metadata": {},
   "source": [
    "## Run the whole process"
   ]
  },
  {
   "cell_type": "code",
   "execution_count": 141,
   "metadata": {
    "colab": {
     "base_uri": "https://localhost:8080/"
    },
    "id": "wpUvVKqB2U_Z",
    "outputId": "f258dee5-7201-4d5a-ad84-a5d375c6122b"
   },
   "outputs": [
    {
     "name": "stdout",
     "output_type": "stream",
     "text": [
      "Current day is: 0\n",
      "Current day is: 1\n",
      "Current day is: 2\n",
      "Current day is: 3\n",
      "Current day is: 4\n",
      "Current day is: 5\n",
      "Current day is: 6\n",
      "Current day is: 7\n",
      "Current day is: 8\n",
      "Current day is: 9\n",
      "Current day is: 10\n",
      "Current day is: 11\n",
      "Current day is: 12\n",
      "Current day is: 13\n",
      "Current day is: 14\n",
      "Current day is: 15\n",
      "Current day is: 16\n",
      "Current day is: 17\n",
      "Current day is: 18\n",
      "Current day is: 19\n"
     ]
    }
   ],
   "source": [
    "'''\n",
    "%%time\n",
    "for config in configurations:\n",
    "    print(f\"\\nRunning configuration: {config['name']}\")\n",
    "'''\n",
    "\n",
    "results = {}\n",
    "sharpe_portfolio_history = []\n",
    "# calmar_portfolio_history = []\n",
    "diversity_portfolio_history = []\n",
    "# max_var_portfolio_history = []\n",
    "min_var_portfolio_history = []\n",
    "data_size = len(data)\n",
    "\n",
    "sharpe_current_budget = [1]\n",
    "sharpe_current_budget [0] = 1_000_000\n",
    "sharpe_stock_alloc = np.zeros(len(ticker))  \n",
    "# calmar_current_budget = 1_000_000\n",
    "# calmar_stock_alloc = np.zeros(len(ticker))  \n",
    "diversity_current_budget = [1]\n",
    "diversity_current_budget[0] = 1_000_000\n",
    "diversity_stock_alloc = np.zeros(len(ticker))  \n",
    "# max_var_current_budget = 1_000_000\n",
    "# max_var_stock_alloc = np.zeros(len(ticker))  \n",
    "min_var_current_budget = [1]\n",
    "min_var_current_budget[0] = 1_000_000\n",
    "min_var_stock_alloc = np.zeros(len(ticker))  \n",
    "\n",
    "sharpe_budget_history = []\n",
    "sharpe_stock_alloc_history = []\n",
    "# calmar_budget_history = []\n",
    "# calmar_stock_alloc_history = []\n",
    "diversity_budget_history = []\n",
    "diversity_stock_alloc_history = []\n",
    "# max_var_budget_history = []\n",
    "# max_var_stock_alloc_history = []\n",
    "min_var_budget_history = []\n",
    "min_var_stock_alloc_history = []\n",
    "\n",
    "test_period = 250\n",
    "\n",
    "VaR_confidence = 0.95\n",
    "hhi_limit = 0.25\n",
    "# 這裡的 hhi_limit 會影響到多元化的程度，hhi_limit 越小，越分散\n",
    "\n",
    "for day in range(test_period):    \n",
    "    print(f\"Current day is: {day}\")\n",
    "    serach_day = data_size - (test_period-day)\n",
    "    current_data = data.iloc[:serach_day] \n",
    "\n",
    "    if(day%20 != 0): \n",
    "        # print(\"you are doing sharpe\")\n",
    "        record_stock_price(sharpe_stock_alloc, sharpe_current_budget, serach_day, sharpe_budget_history, sharpe_stock_alloc_history)\n",
    "\n",
    "        # print(\"you are doing diversity\")\n",
    "        record_stock_price(diversity_stock_alloc, diversity_current_budget, serach_day, diversity_budget_history, diversity_stock_alloc_history)\n",
    "\n",
    "        # print(\"you are doing max_var\")\n",
    "        # record_stock_price(max_var_stock_alloc, max_var_current_budget, serach_day, max_var_budget_history, max_var_stock_alloc_history)\n",
    "\n",
    "        # print(\"you are doing min_var\")\n",
    "        record_stock_price(min_var_stock_alloc, min_var_current_budget, serach_day, min_var_budget_history, min_var_stock_alloc_history)\n",
    "        continue\n",
    "\n",
    "    # print(current_data)\n",
    "    mu = calculate_expected_returns(current_data)\n",
    "    cov = calculate_covariance_matrix(current_data)\n",
    "    returns_df = calculate_returns_df_matrix(current_data)\n",
    "    problem = PortfolioProblem(mu, cov, returns_df, risk_free_rate=0.02, VaR_confidence = VaR_confidence, hhi_limit=hhi_limit)\n",
    "    # print(current_data)\n",
    "    \n",
    "    '''\n",
    "    algorithm = NSGA2(repair=PortfolioRepair(),\n",
    "                      sampling = config['sampling'],\n",
    "                      crossover=config['crossover'])\n",
    "    '''\n",
    "    \n",
    "    algorithm = NSGA2(repair=PortfolioRepair())\n",
    "    \n",
    "    \n",
    "    res = minimize(problem,\n",
    "                   algorithm,\n",
    "                   seed=1,\n",
    "                   verbose=False) \n",
    "\n",
    "    # Get optimal portfolio weights\n",
    "    X, F, sharpe, diversity, var = res.opt.get(\"X\", \"F\", \"sharpe\", \"diversity\", \"var\")\n",
    "    F = F * [1, -1]  # Adjust for minimization/maximization    \n",
    "    \n",
    "\n",
    "    # Select portfolio with maximum Sharpe ratio\n",
    "    max_sharpe_idx = sharpe.argmax()\n",
    "    # max_calmar_idx = calmar.argmax()\n",
    "    max_diversity_idx = diversity.argmax()\n",
    "    # max_var_idx = var.argmax()\n",
    "    min_var_idx = var.argmin()\n",
    "\n",
    "    '''\n",
    "    plt.scatter(F[:, 0], F[:, 1], facecolor=\"none\", edgecolors=\"blue\", alpha=0.5, label=\"Pareto-Optimal Portfolio\")\n",
    "    # plt.scatter(cov.diagonal() ** 0.5 * np.sqrt(250.0), mu, facecolor=\"none\", edgecolors=\"black\", s=30, label=\"Asset\")\n",
    "    plt.scatter(F[max_sharpe_idx, 0], F[max_sharpe_idx, 1], marker=\"x\", s=100, color=\"red\", label=\"Max Sharpe Portfolio\")\n",
    "    # plt.scatter(F[max_sharpe, 0], F[max_sharpe, 1], marker=\"x\", s=100, color=\"red\", label=\"Max Sharpe Portfolio\")\n",
    "    plt.scatter(F[max_diversity_idx, 0], F[max_diversity_idx, 1], marker=\"x\", s=100, color=\"brown\", label=\"Max Diversity Portfolio\")\n",
    "    plt.scatter(F[max_var_idx, 0], F[max_var_idx, 1], marker=\"x\", s=100, color=\"yellow\", label=\"Max Var Portfolio\")\n",
    "    plt.scatter(F[min_var_idx, 0], F[min_var_idx, 1], marker=\"x\", s=100, color=\"black\", label=\"Min Var Portfolio\")\n",
    "    plt.scatter(np.sqrt(x.T @ cov @ x) * np.sqrt(250.0), x.T @ mu, marker=\"*\", s=100, color=\"green\", label=\"Equal weights\")\n",
    "    plt.legend()\n",
    "    plt.xlabel(\"expected volatility\")\n",
    "    plt.ylabel(\"expected return\")\n",
    "    plt.show()\n",
    "    '''\n",
    "    \n",
    "    sharpe_optimal_weights = X[max_sharpe_idx]\n",
    "    # calmar_optimal_weights = X[max_calmar_idx]\n",
    "    diversity_optimal_weights = X[max_diversity_idx]\n",
    "    # max_var_optimal_weights = X[max_var_idx]\n",
    "    min_var_optimal_weights = X[min_var_idx]\n",
    "\n",
    "    # calculate HV\n",
    "    # HVindex = calculate_HV(F)\n",
    "\n",
    "    '''\n",
    "    # Add other indicators (f1, ..., fk) for daily allocation\n",
    "    additional_indicators = calculate_technical_indicators(current_data)  # Assume this function exists\n",
    "    final_weights = adjust_weights_with_indicators(optimal_weights, additional_indicators)\n",
    "    '''\n",
    "\n",
    "\n",
    "    \n",
    "    # Make investment with adjusted weights\n",
    "    # print(\"you are doing sharpe\")\n",
    "    execute_trades(sharpe_stock_alloc, sharpe_optimal_weights, sharpe_current_budget, serach_day, sharpe_budget_history, sharpe_stock_alloc_history)  # Assume this function exists\n",
    "    \n",
    "\n",
    "    # print(\"you are doing calmar\")\n",
    "    # calmar_daily_return = calmar_execute_trades(calmar_stock_alloc, calmar_optimal_weights, calmar_current_budget, serach_day, calmar_budget_history, calmar_stock_alloc_history)  # Assume this function exists\n",
    "    # calmar_portfolio_history.append(calmar_daily_return)\n",
    "\n",
    "    # print(\"you are doing diversity\")\n",
    "    execute_trades(diversity_stock_alloc, diversity_optimal_weights, diversity_current_budget, serach_day, diversity_budget_history, diversity_stock_alloc_history)  # Assume this function exists\n",
    "    \n",
    "    # print(\"you are doing max_var\")\n",
    "    # execute_trades(max_var_stock_alloc, max_var_optimal_weights, max_var_current_budget, serach_day, max_var_budget_history, max_var_stock_alloc_history)  # Assume this function exists\n",
    "\n",
    "    # print(\"you are doing min_var\")\n",
    "    execute_trades(min_var_stock_alloc, min_var_optimal_weights, min_var_current_budget, serach_day, min_var_budget_history, min_var_stock_alloc_history)  # Assume this function exists"
   ]
  },
  {
   "cell_type": "code",
   "execution_count": 143,
   "metadata": {},
   "outputs": [
    {
     "name": "stdout",
     "output_type": "stream",
     "text": [
      "--------------------\n",
      "[1000000, 1002395.0121452613, 965814.9244596425, 900857.7518014247, 903450.8725343274, 889776.3721427877, 960872.7985253334, 926172.3055717151, 948445.1751178526, 961213.107593413, 965902.9111314354, 940200.9680130507, 970432.8292661373, 948831.2512328003, 967268.8437108097, 979429.7787581644, 1001585.3160028935, 1018543.8258649954, 1012417.4952355445, 1017085.5787975774]\n",
      "--------------------\n",
      "[array([   0.        ,  240.92559869,    0.        ,    0.        ,\n",
      "          0.        ,    0.        ,    0.        ,    0.        ,\n",
      "          0.        ,    0.        ,    0.        ,    0.        ,\n",
      "          0.        ,    0.        ,    0.        ,    0.        ,\n",
      "          0.        ,    0.        ,    0.        ,    0.        ,\n",
      "          0.        ,    5.11149799,    0.        ,    0.        ,\n",
      "          0.        ,    0.        ,    0.        ,    0.        ,\n",
      "        254.1353677 ,    0.        ,    0.        ,    0.        ,\n",
      "         26.48152864,    0.        ,    0.        ,    0.        ,\n",
      "       2232.54180645,    0.        ,    0.        ,    0.        ,\n",
      "        970.98198139,    0.        ,    0.        ,    0.        ,\n",
      "          0.        ,    4.14432291,    0.        ,    0.        ,\n",
      "       1409.76173896, 1835.04491774])]\n",
      "--------------------\n",
      "[1000000, 1002974.2260582012, 989785.9096009155, 930789.7062540862, 928134.7154423199, 916639.3215447281, 963754.3969685858, 942923.0312257159, 960987.0445603728, 975791.5735386156, 973428.4358395662, 954224.9378207508, 980103.9364358943, 965447.9896033579, 985128.7256086717, 988669.550826868, 999837.6022660662, 1010665.1778017662, 1010423.8358308461, 1015029.5470546619]\n",
      "--------------------\n",
      "[array([   0.        ,  262.95139967,    0.        ,    0.        ,\n",
      "          0.        ,    0.        ,    0.        ,    0.        ,\n",
      "          0.        ,  108.24358752,    0.        ,   14.60916605,\n",
      "          0.        ,    0.        ,    0.        ,    0.        ,\n",
      "         25.3097127 ,    7.80565426,    0.        ,    0.        ,\n",
      "          0.        ,   14.81744098,    0.        ,    0.        ,\n",
      "        782.17685419,    0.        ,    0.        ,    0.        ,\n",
      "        154.92830396,    0.        ,  483.34121126,    0.        ,\n",
      "        985.88843391,    0.        ,    0.        ,    0.        ,\n",
      "        815.94844378,    0.        ,   32.48414039,   34.46541448,\n",
      "        371.74657243,    0.        ,    0.        ,    0.        ,\n",
      "          0.        ,    3.77429182,    0.        ,    0.        ,\n",
      "       1475.37900707,  768.46873868])]\n",
      "--------------------\n",
      "[1000000, 1002233.1529512422, 1001583.9107903447, 949692.4728693579, 944209.5193728415, 931435.0667881873, 970074.6545215023, 956800.4428031457, 974373.4567284219, 988862.1584931436, 982277.135651981, 968402.7636458278, 985551.7524426024, 975208.4595521939, 993642.8195137337, 992889.4946598554, 992936.3548163583, 997777.3080241994, 1001043.051278067, 1004985.8105040154]\n",
      "--------------------\n",
      "[array([0.00000000e+00, 2.45015311e+02, 0.00000000e+00, 0.00000000e+00,\n",
      "       0.00000000e+00, 0.00000000e+00, 0.00000000e+00, 1.53510800e+02,\n",
      "       0.00000000e+00, 6.72399895e+01, 0.00000000e+00, 5.22147405e+00,\n",
      "       0.00000000e+00, 0.00000000e+00, 1.33442691e+01, 1.14134186e+02,\n",
      "       0.00000000e+00, 0.00000000e+00, 1.96481163e+02, 0.00000000e+00,\n",
      "       0.00000000e+00, 2.54322124e+01, 0.00000000e+00, 0.00000000e+00,\n",
      "       1.27365681e+03, 0.00000000e+00, 0.00000000e+00, 0.00000000e+00,\n",
      "       2.00292251e+01, 0.00000000e+00, 4.83446804e+02, 0.00000000e+00,\n",
      "       1.05403624e+03, 0.00000000e+00, 4.28997538e+00, 1.44661431e+00,\n",
      "       1.18382425e+01, 0.00000000e+00, 4.30797937e+02, 5.25292018e+02,\n",
      "       2.59819735e+02, 0.00000000e+00, 8.42508151e+00, 0.00000000e+00,\n",
      "       0.00000000e+00, 0.00000000e+00, 0.00000000e+00, 0.00000000e+00,\n",
      "       1.58571238e+03, 2.73907394e+02])]\n"
     ]
    }
   ],
   "source": [
    "\n",
    "\n",
    "print(\"--------------------\")\n",
    "print(sharpe_budget_history)\n",
    "print(\"--------------------\")\n",
    "print(sharpe_stock_alloc_history)\n",
    "print(\"--------------------\")\n",
    "print(diversity_budget_history)\n",
    "print(\"--------------------\")\n",
    "print(diversity_stock_alloc_history)\n",
    "print(\"--------------------\")\n",
    "print(min_var_budget_history)\n",
    "print(\"--------------------\")\n",
    "print(min_var_stock_alloc_history)\n"
   ]
  },
  {
   "cell_type": "markdown",
   "metadata": {},
   "source": [
    "#### for i in range(len(stock_alloc_history)):\n",
    "    print(stock_alloc_history[i]) "
   ]
  },
  {
   "cell_type": "code",
   "execution_count": 45,
   "metadata": {},
   "outputs": [
    {
     "ename": "NameError",
     "evalue": "name 'sharpe_budget_history' is not defined",
     "output_type": "error",
     "traceback": [
      "\u001b[1;31m---------------------------------------------------------------------------\u001b[0m",
      "\u001b[1;31mNameError\u001b[0m                                 Traceback (most recent call last)",
      "Cell \u001b[1;32mIn[45], line 3\u001b[0m\n\u001b[0;32m      1\u001b[0m \u001b[38;5;66;03m# Plotting\u001b[39;00m\n\u001b[0;32m      2\u001b[0m plt\u001b[38;5;241m.\u001b[39mfigure(figsize\u001b[38;5;241m=\u001b[39m(\u001b[38;5;241m14\u001b[39m, \u001b[38;5;241m6\u001b[39m))\n\u001b[1;32m----> 3\u001b[0m plt\u001b[38;5;241m.\u001b[39mplot(sharpe_budget_history, label\u001b[38;5;241m=\u001b[39m\u001b[38;5;124m\"\u001b[39m\u001b[38;5;124msharpe portfolio Value\u001b[39m\u001b[38;5;124m\"\u001b[39m, color\u001b[38;5;241m=\u001b[39m\u001b[38;5;124m'\u001b[39m\u001b[38;5;124mblue\u001b[39m\u001b[38;5;124m'\u001b[39m)\n\u001b[0;32m      4\u001b[0m \u001b[38;5;66;03m#plt.plot(calmar_budget_history, label=\"calmar Portfolio Value\", color='red')\u001b[39;00m\n\u001b[0;32m      5\u001b[0m plt\u001b[38;5;241m.\u001b[39mplot(diversity_budget_history, label\u001b[38;5;241m=\u001b[39m\u001b[38;5;124m\"\u001b[39m\u001b[38;5;124mdiversity portfolio Value\u001b[39m\u001b[38;5;124m\"\u001b[39m, color\u001b[38;5;241m=\u001b[39m\u001b[38;5;124m'\u001b[39m\u001b[38;5;124mgreen\u001b[39m\u001b[38;5;124m'\u001b[39m)\n",
      "\u001b[1;31mNameError\u001b[0m: name 'sharpe_budget_history' is not defined"
     ]
    }
   ],
   "source": [
    "# Plotting\n",
    "plt.figure(figsize=(14, 6))\n",
    "plt.plot(sharpe_budget_history, label=\"sharpe portfolio Value\", color='blue')\n",
    "#plt.plot(calmar_budget_history, label=\"calmar Portfolio Value\", color='red')\n",
    "plt.plot(diversity_budget_history, label=\"diversity portfolio Value\", color='green')\n",
    "plt.plot(max_var_budget_history, label=\"max var portfolio Value\", color='peru')\n",
    "plt.plot(min_var_budget_history, label=\"min var portfolio Value\", color='yellow')\n",
    "plt.title(\"Portfolio Value Over Time\")\n",
    "plt.xlabel(\"Time (unit: 10 Days)\")\n",
    "plt.ylabel(\"Value\")\n",
    "plt.grid(True)\n",
    "plt.legend()\n",
    "plt.tight_layout()\n",
    "plt.show()"
   ]
  },
  {
   "cell_type": "code",
   "execution_count": 47,
   "metadata": {},
   "outputs": [],
   "source": [
    "# Compare results\n",
    "for name, res in results.items():\n",
    "    print(f\"\\nThe result of {name} is as follows\\n\")\n",
    "    X, F, sharpe = res.opt.get(\"X\", \"F\", \"sharpe\")\n",
    "    F = F * [1, -1]\n",
    "    max_sharpe = sharpe.argmax()\n",
    "\n",
    "    '''\n",
    "    # equal weights\n",
    "    x = np.zeros((len(ticker), 1))\n",
    "    x = x + 1.0/len(x)\n",
    "\n",
    "    plt.scatter(F[:, 0], F[:, 1], facecolor=\"none\", edgecolors=\"blue\", alpha=0.5, label=\"Pareto-Optimal Portfolio\")\n",
    "    plt.scatter(cov.diagonal() ** 0.5 * np.sqrt(250.0), mu, facecolor=\"none\", edgecolors=\"black\", s=30, label=\"Asset\")\n",
    "    plt.scatter(F[max_sharpe, 0], F[max_sharpe, 1], marker=\"x\", s=100, color=\"red\", label=\"Max Sharpe Portfolio\")\n",
    "    plt.scatter(np.sqrt(x.T @ cov @ x) * np.sqrt(250.0), x.T @ mu, marker=\"*\", s=100, color=\"green\", label=\"Equal weights\")\n",
    "    plt.legend()\n",
    "    plt.xlabel(\"expected volatility\")\n",
    "    plt.ylabel(\"expected return\")\n",
    "    plt.show()\n",
    "\n",
    "    plt.scatter(F[:, 0], F[:, 1], facecolor=\"none\", edgecolors=\"blue\", alpha=0.5, label=\"Pareto-Optimal Portfolio\")\n",
    "    plt.scatter(F[max_sharpe, 0], F[max_sharpe, 1], marker=\"x\", s=100, color=\"red\", label=\"Max Sharpe Portfolio\")\n",
    "    plt.legend()\n",
    "    plt.xlabel(\"expected volatility\")\n",
    "    plt.ylabel(\"expected return\")\n",
    "    plt.show()\n",
    "    '''\n",
    "    x = X[max_sharpe].T\n",
    "\n",
    "    print(\"Best Sharpe: \\nReturn     = \", x.T @ mu)\n",
    "    print(\"Volatility = \", np.sqrt(x.T @ cov @ x) * np.sqrt(250.0))\n",
    "    print(\"sharpo ratio = \", (x.T @ mu - 0.02)/(np.sqrt(x.T @ cov @ x) * np.sqrt(250.0)))\n"
   ]
  },
  {
   "cell_type": "code",
   "execution_count": 49,
   "metadata": {
    "colab": {
     "base_uri": "https://localhost:8080/",
     "height": 541
    },
    "id": "N49ziy472U_Z",
    "outputId": "0a610cd1-f4e8-4e09-d9be-2b15e49bc969"
   },
   "outputs": [
    {
     "ename": "NameError",
     "evalue": "name 'res' is not defined",
     "output_type": "error",
     "traceback": [
      "\u001b[1;31m---------------------------------------------------------------------------\u001b[0m",
      "\u001b[1;31mNameError\u001b[0m                                 Traceback (most recent call last)",
      "Cell \u001b[1;32mIn[49], line 1\u001b[0m\n\u001b[1;32m----> 1\u001b[0m X, F, sharpe \u001b[38;5;241m=\u001b[39m res\u001b[38;5;241m.\u001b[39mopt\u001b[38;5;241m.\u001b[39mget(\u001b[38;5;124m\"\u001b[39m\u001b[38;5;124mX\u001b[39m\u001b[38;5;124m\"\u001b[39m, \u001b[38;5;124m\"\u001b[39m\u001b[38;5;124mF\u001b[39m\u001b[38;5;124m\"\u001b[39m, \u001b[38;5;124m\"\u001b[39m\u001b[38;5;124msharpe\u001b[39m\u001b[38;5;124m\"\u001b[39m)\n\u001b[0;32m      2\u001b[0m F \u001b[38;5;241m=\u001b[39m F \u001b[38;5;241m*\u001b[39m [\u001b[38;5;241m1\u001b[39m, \u001b[38;5;241m-\u001b[39m\u001b[38;5;241m1\u001b[39m]\n\u001b[0;32m      3\u001b[0m max_sharpe \u001b[38;5;241m=\u001b[39m sharpe\u001b[38;5;241m.\u001b[39margmax()\n",
      "\u001b[1;31mNameError\u001b[0m: name 'res' is not defined"
     ]
    }
   ],
   "source": [
    "X, F, sharpe = res.opt.get(\"X\", \"F\", \"sharpe\")\n",
    "F = F * [1, -1]\n",
    "max_sharpe = sharpe.argmax()\n",
    "\n",
    "# equal weights\n",
    "x = np.zeros((len(ticker), 1))\n",
    "x = x + 1.0/len(x)\n",
    "\n",
    "plt.scatter(F[:, 0], F[:, 1], facecolor=\"none\", edgecolors=\"blue\", alpha=0.5, label=\"Pareto-Optimal Portfolio\")\n",
    "plt.scatter(cov.diagonal() ** 0.5 * np.sqrt(250.0), mu, facecolor=\"none\", edgecolors=\"black\", s=30, label=\"Asset\")\n",
    "plt.scatter(F[max_sharpe, 0], F[max_sharpe, 1], marker=\"x\", s=100, color=\"red\", label=\"Max Sharpe Portfolio\")\n",
    "plt.scatter(np.sqrt(x.T @ cov @ x) * np.sqrt(250.0), x.T @ mu, marker=\"*\", s=100, color=\"green\", label=\"Equal weights\")\n",
    "plt.legend()\n",
    "plt.xlabel(\"expected volatility\")\n",
    "plt.ylabel(\"expected return\")\n",
    "plt.show()\n",
    "\n",
    "plt.scatter(F[:, 0], F[:, 1], facecolor=\"none\", edgecolors=\"blue\", alpha=0.5, label=\"Pareto-Optimal Portfolio\")\n",
    "plt.scatter(F[max_sharpe, 0], F[max_sharpe, 1], marker=\"x\", s=100, color=\"red\", label=\"Max Sharpe Portfolio\")\n",
    "plt.legend()\n",
    "plt.xlabel(\"expected volatility\")\n",
    "plt.ylabel(\"expected return\")\n",
    "plt.show()"
   ]
  },
  {
   "cell_type": "code",
   "execution_count": 51,
   "metadata": {
    "colab": {
     "base_uri": "https://localhost:8080/"
    },
    "id": "KcrQ7XxG2U_a",
    "outputId": "2f26607e-656b-4c4d-e76c-b1a3dbdcbc3a"
   },
   "outputs": [
    {
     "ename": "AttributeError",
     "evalue": "module 'pandas_datareader.data' has no attribute 'columns'",
     "output_type": "error",
     "traceback": [
      "\u001b[1;31m---------------------------------------------------------------------------\u001b[0m",
      "\u001b[1;31mAttributeError\u001b[0m                            Traceback (most recent call last)",
      "Cell \u001b[1;32mIn[51], line 1\u001b[0m\n\u001b[1;32m----> 1\u001b[0m allocation \u001b[38;5;241m=\u001b[39m {name: w \u001b[38;5;28;01mfor\u001b[39;00m name, w \u001b[38;5;129;01min\u001b[39;00m \u001b[38;5;28mzip\u001b[39m(data\u001b[38;5;241m.\u001b[39mcolumns, X[max_sharpe])}\n\u001b[0;32m      2\u001b[0m allocation \u001b[38;5;241m=\u001b[39m \u001b[38;5;28msorted\u001b[39m(allocation\u001b[38;5;241m.\u001b[39mitems(), key\u001b[38;5;241m=\u001b[39moperator\u001b[38;5;241m.\u001b[39mitemgetter(\u001b[38;5;241m1\u001b[39m), reverse\u001b[38;5;241m=\u001b[39m\u001b[38;5;28;01mTrue\u001b[39;00m)\n\u001b[0;32m      4\u001b[0m \u001b[38;5;28mprint\u001b[39m(\u001b[38;5;124m\"\u001b[39m\u001b[38;5;124mAllocation With Best Sharpe\u001b[39m\u001b[38;5;124m\"\u001b[39m)\n",
      "\u001b[1;31mAttributeError\u001b[0m: module 'pandas_datareader.data' has no attribute 'columns'"
     ]
    }
   ],
   "source": [
    "allocation = {name: w for name, w in zip(data.columns, X[max_sharpe])}\n",
    "allocation = sorted(allocation.items(), key=operator.itemgetter(1), reverse=True)\n",
    "\n",
    "print(\"Allocation With Best Sharpe\")\n",
    "for name, w in allocation:\n",
    "    print(f\"{name:<5} {w}\")"
   ]
  },
  {
   "cell_type": "code",
   "execution_count": 53,
   "metadata": {
    "colab": {
     "base_uri": "https://localhost:8080/",
     "height": 248
    },
    "id": "okzloEvs9FTK",
    "outputId": "8da98ed3-434f-4514-97e6-680af772bfa4"
   },
   "outputs": [
    {
     "ename": "NameError",
     "evalue": "name 'allocation' is not defined",
     "output_type": "error",
     "traceback": [
      "\u001b[1;31m---------------------------------------------------------------------------\u001b[0m",
      "\u001b[1;31mNameError\u001b[0m                                 Traceback (most recent call last)",
      "Cell \u001b[1;32mIn[53], line 1\u001b[0m\n\u001b[1;32m----> 1\u001b[0m \u001b[38;5;28;01mfor\u001b[39;00m al \u001b[38;5;129;01min\u001b[39;00m allocation:\n\u001b[0;32m      2\u001b[0m     \u001b[38;5;28;01mif\u001b[39;00m al[\u001b[38;5;241m1\u001b[39m] \u001b[38;5;241m<\u001b[39m\u001b[38;5;241m=\u001b[39m \u001b[38;5;241m1e-2\u001b[39m:\n\u001b[0;32m      3\u001b[0m         allocation\u001b[38;5;241m.\u001b[39mremove(al)\n",
      "\u001b[1;31mNameError\u001b[0m: name 'allocation' is not defined"
     ]
    }
   ],
   "source": [
    "for al in allocation:\n",
    "    if al[1] <= 1e-2:\n",
    "        allocation.remove(al)\n",
    "\n",
    "col_name = []\n",
    "w1 = []\n",
    "for name, w in allocation:\n",
    "    col_name.append(name)\n",
    "    w1.append(w)\n",
    "    \n",
    "fig1, ax1 = plt.subplots()\n",
    "ax1.pie(w1, labels=col_name, autopct='%1.1f%%',\n",
    "        shadow=True, startangle=90)\n",
    "ax1.axis('equal')  # Equal aspect ratio ensures that pie is drawn as a circle.\n",
    "\n",
    "plt.show()"
   ]
  },
  {
   "cell_type": "code",
   "execution_count": 55,
   "metadata": {
    "colab": {
     "base_uri": "https://localhost:8080/"
    },
    "id": "y-w0g1qA2U_a",
    "outputId": "ddf537c2-f244-4e66-cf56-87b641024c77"
   },
   "outputs": [
    {
     "name": "stdout",
     "output_type": "stream",
     "text": [
      "For equal weights: \n",
      "Return     =  0.11474887960744226\n",
      "Volatility =  0.194630738676453\n"
     ]
    }
   ],
   "source": [
    "x = np.zeros((len(ticker), 1))\n",
    "x = x + 1.0/len(x)\n",
    "\n",
    "print(\"For equal weights: \\nReturn     = \", (x.T @ mu)[0])\n",
    "print(\"Volatility = \", (np.sqrt(x.T @ cov @ x) * np.sqrt(250.0))[0][0])"
   ]
  },
  {
   "cell_type": "code",
   "execution_count": 57,
   "metadata": {
    "colab": {
     "base_uri": "https://localhost:8080/"
    },
    "id": "VgtRTjOB2U_a",
    "outputId": "d7479f09-a2a8-479c-d775-f2e16dfeb1d2"
   },
   "outputs": [
    {
     "ename": "NameError",
     "evalue": "name 'X' is not defined",
     "output_type": "error",
     "traceback": [
      "\u001b[1;31m---------------------------------------------------------------------------\u001b[0m",
      "\u001b[1;31mNameError\u001b[0m                                 Traceback (most recent call last)",
      "Cell \u001b[1;32mIn[57], line 1\u001b[0m\n\u001b[1;32m----> 1\u001b[0m x \u001b[38;5;241m=\u001b[39m X[max_sharpe]\u001b[38;5;241m.\u001b[39mT\n\u001b[0;32m      3\u001b[0m \u001b[38;5;28mprint\u001b[39m(\u001b[38;5;124m\"\u001b[39m\u001b[38;5;124mBest Sharpe: \u001b[39m\u001b[38;5;130;01m\\n\u001b[39;00m\u001b[38;5;124mReturn     = \u001b[39m\u001b[38;5;124m\"\u001b[39m, x\u001b[38;5;241m.\u001b[39mT \u001b[38;5;241m@\u001b[39m mu)\n\u001b[0;32m      4\u001b[0m \u001b[38;5;28mprint\u001b[39m(\u001b[38;5;124m\"\u001b[39m\u001b[38;5;124mVolatility = \u001b[39m\u001b[38;5;124m\"\u001b[39m, np\u001b[38;5;241m.\u001b[39msqrt(x\u001b[38;5;241m.\u001b[39mT \u001b[38;5;241m@\u001b[39m cov \u001b[38;5;241m@\u001b[39m x) \u001b[38;5;241m*\u001b[39m np\u001b[38;5;241m.\u001b[39msqrt(\u001b[38;5;241m250.0\u001b[39m))\n",
      "\u001b[1;31mNameError\u001b[0m: name 'X' is not defined"
     ]
    }
   ],
   "source": [
    "x = X[max_sharpe].T\n",
    "\n",
    "print(\"Best Sharpe: \\nReturn     = \", x.T @ mu)\n",
    "print(\"Volatility = \", np.sqrt(x.T @ cov @ x) * np.sqrt(250.0))"
   ]
  },
  {
   "cell_type": "code",
   "execution_count": 64,
   "metadata": {},
   "outputs": [
    {
     "name": "stderr",
     "output_type": "stream",
     "text": [
      "C:\\Users\\kaomi\\AppData\\Local\\Temp\\ipykernel_18768\\4236682315.py:4: FutureWarning: 'Y' is deprecated and will be removed in a future version, please use 'YE' instead.\n",
      "  ind_er = current_data.resample('Y').last().pct_change().mean()\n"
     ]
    },
    {
     "name": "stdout",
     "output_type": "stream",
     "text": [
      "HV 0.022752022831910097\n"
     ]
    }
   ],
   "source": [
    "import numpy as np\n",
    "from pymoo.algorithms.moo.moead import MOEAD\n",
    "from pymoo.optimize import minimize\n",
    "from pymoo.util.ref_dirs import get_reference_directions\n",
    "from pymoo.core.problem import ElementwiseProblem\n",
    "from pymoo.core.repair import Repair\n",
    "\n",
    "class PortfolioProblem(ElementwiseProblem):\n",
    "    def __init__(self, mu, cov, risk_free_rate=0.02, **kwargs):\n",
    "        super().__init__(\n",
    "            n_var=len(mu),\n",
    "            n_obj=2,\n",
    "            xl=0.0,\n",
    "            xu=1.0,\n",
    "            **kwargs\n",
    "        )\n",
    "        self.mu = mu\n",
    "        self.cov = cov\n",
    "        self.risk_free_rate = risk_free_rate\n",
    "\n",
    "    def _evaluate(self, x, out, *args, **kwargs):\n",
    "        exp_return = x @ self.mu\n",
    "        exp_risk   = np.sqrt(x.T @ self.cov @ x) * np.sqrt(250.0)\n",
    "        sharpe     = (exp_return - self.risk_free_rate) / exp_risk\n",
    "        out[\"F\"]   = [exp_risk, -exp_return]\n",
    "        out[\"sharpe\"] = sharpe\n",
    "\n",
    "class PortfolioRepair(Repair):\n",
    "    def _do(self, problem, X, **kwargs):\n",
    "        X[X < 1e-3] = 0\n",
    "        return X / X.sum(axis=1, keepdims=True)\n",
    "\n",
    "# Compute mu, cov from your data\n",
    "mu  = calculate_expected_returns(current_data)\n",
    "cov = calculate_covariance_matrix(current_data)\n",
    "\n",
    "# Problem definition\n",
    "problem = PortfolioProblem(mu, cov)\n",
    "\n",
    "# Reference directions for MOEA/D \n",
    "ref_dirs = get_reference_directions(\"uniform\", 2, n_partitions=100)\n",
    "\n",
    "# MOEA/D algorithm setup\n",
    "algorithm = MOEAD(\n",
    "    ref_dirs,\n",
    "    n_neighbors=20,\n",
    "    prob_neighbor_mating=0.7,\n",
    "    repair=PortfolioRepair()\n",
    ")\n",
    "\n",
    "# Run optimization\n",
    "res = minimize(problem, algorithm, seed=1, verbose=False)\n",
    "\n",
    "# Extract and select optimal portfolio\n",
    "X, F, sharpe = res.opt.get(\"X\", \"F\", \"sharpe\")\n",
    "F = F * [1, -1]\n",
    "max_sharpe_idx = sharpe.argmax()\n",
    "optimal_weights = X[max_sharpe_idx]\n",
    "\n",
    "# Hypervolume (optional)\n",
    "HVindex = calculate_HV(F)\n"
   ]
  },
  {
   "cell_type": "code",
   "execution_count": null,
   "metadata": {},
   "outputs": [],
   "source": []
  }
 ],
 "metadata": {
  "colab": {
   "collapsed_sections": [
    "7AC6p4tWirUq",
    "HL93q9VQirUr",
    "sWSnSajjirUr"
   ],
   "name": "Project_codes.ipynb",
   "provenance": []
  },
  "kernelspec": {
   "display_name": "Python [conda env:base] *",
   "language": "python",
   "name": "conda-base-py"
  },
  "language_info": {
   "codemirror_mode": {
    "name": "ipython",
    "version": 3
   },
   "file_extension": ".py",
   "mimetype": "text/x-python",
   "name": "python",
   "nbconvert_exporter": "python",
   "pygments_lexer": "ipython3",
   "version": "3.12.7"
  },
  "vscode": {
   "interpreter": {
    "hash": "31f2aee4e71d21fbe5cf8b01ff0e069b9275f58929596ceb00d14d90e3e16cd6"
   }
  }
 },
 "nbformat": 4,
 "nbformat_minor": 4
}

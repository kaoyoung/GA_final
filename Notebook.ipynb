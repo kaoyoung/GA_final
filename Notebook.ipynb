{
 "cells": [
  {
   "cell_type": "markdown",
   "metadata": {
    "id": "ORTLmAFLirUq"
   },
   "source": [
    "# A MULTI-OBJECTIVE APPROACH FOR PRACTICAL PORTFOLIO OPTIMIZATION PROBLEM"
   ]
  },
  {
   "cell_type": "markdown",
   "metadata": {
    "id": "7AC6p4tWirUq"
   },
   "source": [
    "## Install requirements"
   ]
  },
  {
   "cell_type": "code",
   "execution_count": 1,
   "metadata": {
    "id": "yvtySrPYm7CK"
   },
   "outputs": [],
   "source": [
    "from IPython.display import clear_output"
   ]
  },
  {
   "cell_type": "code",
   "execution_count": 3,
   "metadata": {
    "id": "kWW-6OgYirUq"
   },
   "outputs": [],
   "source": [
    "!pip install yfinance\n",
    "!pip install fix_yahoo_finance\n",
    "!pip install pymoo\n",
    "clear_output()"
   ]
  },
  {
   "cell_type": "code",
   "execution_count": 4,
   "metadata": {
    "id": "8WaFVN6XirUr"
   },
   "outputs": [],
   "source": [
    "# Load Packages\n",
    "import numpy as np\n",
    "import pandas as pd\n",
    "from pandas_datareader import data\n",
    "import matplotlib.pyplot as plt\n",
    "%matplotlib inline"
   ]
  },
  {
   "cell_type": "markdown",
   "metadata": {
    "id": "HL93q9VQirUr"
   },
   "source": [
    "## Pull the stock price data"
   ]
  },
  {
   "cell_type": "code",
   "execution_count": 6,
   "metadata": {
    "colab": {
     "base_uri": "https://localhost:8080/"
    },
    "id": "1LXrxjGgirUr",
    "outputId": "68572c1e-d5a3-4297-fa20-6e2ad3f00632"
   },
   "outputs": [
    {
     "name": "stderr",
     "output_type": "stream",
     "text": [
      "[*********************100%***********************]  50 of 50 completed\n"
     ]
    },
    {
     "data": {
      "text/html": [
       "<div>\n",
       "<style scoped>\n",
       "    .dataframe tbody tr th:only-of-type {\n",
       "        vertical-align: middle;\n",
       "    }\n",
       "\n",
       "    .dataframe tbody tr th {\n",
       "        vertical-align: top;\n",
       "    }\n",
       "\n",
       "    .dataframe thead tr th {\n",
       "        text-align: left;\n",
       "    }\n",
       "\n",
       "    .dataframe thead tr:last-of-type th {\n",
       "        text-align: right;\n",
       "    }\n",
       "</style>\n",
       "<table border=\"1\" class=\"dataframe\">\n",
       "  <thead>\n",
       "    <tr>\n",
       "      <th>Price</th>\n",
       "      <th colspan=\"10\" halign=\"left\">Adj Close</th>\n",
       "      <th>...</th>\n",
       "      <th colspan=\"10\" halign=\"left\">Volume</th>\n",
       "    </tr>\n",
       "    <tr>\n",
       "      <th>Ticker</th>\n",
       "      <th>AAPL</th>\n",
       "      <th>ABBV</th>\n",
       "      <th>ABT</th>\n",
       "      <th>ACN</th>\n",
       "      <th>ADBE</th>\n",
       "      <th>AMD</th>\n",
       "      <th>AMZN</th>\n",
       "      <th>AVGO</th>\n",
       "      <th>BAC</th>\n",
       "      <th>BRK-B</th>\n",
       "      <th>...</th>\n",
       "      <th>PM</th>\n",
       "      <th>QCOM</th>\n",
       "      <th>TMO</th>\n",
       "      <th>TSLA</th>\n",
       "      <th>TXN</th>\n",
       "      <th>UNH</th>\n",
       "      <th>V</th>\n",
       "      <th>WFC</th>\n",
       "      <th>WMT</th>\n",
       "      <th>XOM</th>\n",
       "    </tr>\n",
       "    <tr>\n",
       "      <th>Date</th>\n",
       "      <th></th>\n",
       "      <th></th>\n",
       "      <th></th>\n",
       "      <th></th>\n",
       "      <th></th>\n",
       "      <th></th>\n",
       "      <th></th>\n",
       "      <th></th>\n",
       "      <th></th>\n",
       "      <th></th>\n",
       "      <th></th>\n",
       "      <th></th>\n",
       "      <th></th>\n",
       "      <th></th>\n",
       "      <th></th>\n",
       "      <th></th>\n",
       "      <th></th>\n",
       "      <th></th>\n",
       "      <th></th>\n",
       "      <th></th>\n",
       "      <th></th>\n",
       "    </tr>\n",
       "  </thead>\n",
       "  <tbody>\n",
       "    <tr>\n",
       "      <th>2020-04-30</th>\n",
       "      <td>71.205704</td>\n",
       "      <td>66.976059</td>\n",
       "      <td>84.281425</td>\n",
       "      <td>171.929520</td>\n",
       "      <td>353.640015</td>\n",
       "      <td>52.389999</td>\n",
       "      <td>123.699997</td>\n",
       "      <td>23.907366</td>\n",
       "      <td>21.239513</td>\n",
       "      <td>187.360001</td>\n",
       "      <td>...</td>\n",
       "      <td>9192200</td>\n",
       "      <td>17113500</td>\n",
       "      <td>2215000</td>\n",
       "      <td>427078500</td>\n",
       "      <td>5781000</td>\n",
       "      <td>7631700</td>\n",
       "      <td>11331600</td>\n",
       "      <td>29506100</td>\n",
       "      <td>40497900</td>\n",
       "      <td>37076300</td>\n",
       "    </tr>\n",
       "    <tr>\n",
       "      <th>2020-05-01</th>\n",
       "      <td>70.059372</td>\n",
       "      <td>67.497528</td>\n",
       "      <td>82.231361</td>\n",
       "      <td>167.194656</td>\n",
       "      <td>343.839996</td>\n",
       "      <td>49.880001</td>\n",
       "      <td>114.302002</td>\n",
       "      <td>22.858192</td>\n",
       "      <td>20.382868</td>\n",
       "      <td>182.669998</td>\n",
       "      <td>...</td>\n",
       "      <td>4782300</td>\n",
       "      <td>9742100</td>\n",
       "      <td>1603100</td>\n",
       "      <td>487977000</td>\n",
       "      <td>5839800</td>\n",
       "      <td>3526100</td>\n",
       "      <td>10109600</td>\n",
       "      <td>35197600</td>\n",
       "      <td>31143900</td>\n",
       "      <td>35399300</td>\n",
       "    </tr>\n",
       "    <tr>\n",
       "      <th>2020-05-04</th>\n",
       "      <td>71.050621</td>\n",
       "      <td>66.699036</td>\n",
       "      <td>82.213058</td>\n",
       "      <td>166.674774</td>\n",
       "      <td>349.109985</td>\n",
       "      <td>52.560001</td>\n",
       "      <td>115.799500</td>\n",
       "      <td>23.083521</td>\n",
       "      <td>20.250399</td>\n",
       "      <td>177.949997</td>\n",
       "      <td>...</td>\n",
       "      <td>4589800</td>\n",
       "      <td>7202400</td>\n",
       "      <td>1189000</td>\n",
       "      <td>288556500</td>\n",
       "      <td>4987000</td>\n",
       "      <td>2894200</td>\n",
       "      <td>9386200</td>\n",
       "      <td>34343900</td>\n",
       "      <td>17807700</td>\n",
       "      <td>27465600</td>\n",
       "    </tr>\n",
       "    <tr>\n",
       "      <th>2020-05-05</th>\n",
       "      <td>72.117004</td>\n",
       "      <td>69.558960</td>\n",
       "      <td>85.141747</td>\n",
       "      <td>168.615097</td>\n",
       "      <td>356.130005</td>\n",
       "      <td>52.189999</td>\n",
       "      <td>115.889999</td>\n",
       "      <td>23.313248</td>\n",
       "      <td>20.011950</td>\n",
       "      <td>176.029999</td>\n",
       "      <td>...</td>\n",
       "      <td>3696400</td>\n",
       "      <td>7540800</td>\n",
       "      <td>1139900</td>\n",
       "      <td>254875500</td>\n",
       "      <td>5242400</td>\n",
       "      <td>2501300</td>\n",
       "      <td>13513000</td>\n",
       "      <td>56753400</td>\n",
       "      <td>19337400</td>\n",
       "      <td>29276200</td>\n",
       "    </tr>\n",
       "    <tr>\n",
       "      <th>2020-05-06</th>\n",
       "      <td>72.861053</td>\n",
       "      <td>69.599701</td>\n",
       "      <td>83.357056</td>\n",
       "      <td>167.463928</td>\n",
       "      <td>362.519989</td>\n",
       "      <td>52.160000</td>\n",
       "      <td>117.563004</td>\n",
       "      <td>23.252512</td>\n",
       "      <td>19.738173</td>\n",
       "      <td>172.380005</td>\n",
       "      <td>...</td>\n",
       "      <td>7199100</td>\n",
       "      <td>8179700</td>\n",
       "      <td>1215600</td>\n",
       "      <td>166848000</td>\n",
       "      <td>3701300</td>\n",
       "      <td>2579200</td>\n",
       "      <td>8540500</td>\n",
       "      <td>57732900</td>\n",
       "      <td>17309100</td>\n",
       "      <td>22659000</td>\n",
       "    </tr>\n",
       "    <tr>\n",
       "      <th>...</th>\n",
       "      <td>...</td>\n",
       "      <td>...</td>\n",
       "      <td>...</td>\n",
       "      <td>...</td>\n",
       "      <td>...</td>\n",
       "      <td>...</td>\n",
       "      <td>...</td>\n",
       "      <td>...</td>\n",
       "      <td>...</td>\n",
       "      <td>...</td>\n",
       "      <td>...</td>\n",
       "      <td>...</td>\n",
       "      <td>...</td>\n",
       "      <td>...</td>\n",
       "      <td>...</td>\n",
       "      <td>...</td>\n",
       "      <td>...</td>\n",
       "      <td>...</td>\n",
       "      <td>...</td>\n",
       "      <td>...</td>\n",
       "      <td>...</td>\n",
       "    </tr>\n",
       "    <tr>\n",
       "      <th>2025-04-23</th>\n",
       "      <td>204.332062</td>\n",
       "      <td>177.050003</td>\n",
       "      <td>129.839996</td>\n",
       "      <td>288.160004</td>\n",
       "      <td>351.959991</td>\n",
       "      <td>90.389999</td>\n",
       "      <td>180.600006</td>\n",
       "      <td>176.910004</td>\n",
       "      <td>38.750000</td>\n",
       "      <td>526.809998</td>\n",
       "      <td>...</td>\n",
       "      <td>9084500</td>\n",
       "      <td>9073500</td>\n",
       "      <td>3492200</td>\n",
       "      <td>150381900</td>\n",
       "      <td>14125000</td>\n",
       "      <td>8345700</td>\n",
       "      <td>8906000</td>\n",
       "      <td>20678800</td>\n",
       "      <td>18046900</td>\n",
       "      <td>14235700</td>\n",
       "    </tr>\n",
       "    <tr>\n",
       "      <th>2025-04-24</th>\n",
       "      <td>208.097107</td>\n",
       "      <td>180.369995</td>\n",
       "      <td>129.380005</td>\n",
       "      <td>291.410004</td>\n",
       "      <td>360.910004</td>\n",
       "      <td>94.470001</td>\n",
       "      <td>186.539993</td>\n",
       "      <td>188.149994</td>\n",
       "      <td>39.580002</td>\n",
       "      <td>531.640015</td>\n",
       "      <td>...</td>\n",
       "      <td>8564900</td>\n",
       "      <td>8810600</td>\n",
       "      <td>3662400</td>\n",
       "      <td>94464200</td>\n",
       "      <td>18950400</td>\n",
       "      <td>7629100</td>\n",
       "      <td>8055200</td>\n",
       "      <td>18420900</td>\n",
       "      <td>13444500</td>\n",
       "      <td>9849600</td>\n",
       "    </tr>\n",
       "    <tr>\n",
       "      <th>2025-04-25</th>\n",
       "      <td>209.005920</td>\n",
       "      <td>186.059998</td>\n",
       "      <td>128.850006</td>\n",
       "      <td>293.390015</td>\n",
       "      <td>367.720001</td>\n",
       "      <td>96.650002</td>\n",
       "      <td>188.990005</td>\n",
       "      <td>192.309998</td>\n",
       "      <td>39.689999</td>\n",
       "      <td>530.960022</td>\n",
       "      <td>...</td>\n",
       "      <td>7755700</td>\n",
       "      <td>5145600</td>\n",
       "      <td>2698300</td>\n",
       "      <td>167560700</td>\n",
       "      <td>8383300</td>\n",
       "      <td>9263800</td>\n",
       "      <td>4452800</td>\n",
       "      <td>17775900</td>\n",
       "      <td>15317200</td>\n",
       "      <td>11245800</td>\n",
       "    </tr>\n",
       "    <tr>\n",
       "      <th>2025-04-28</th>\n",
       "      <td>209.864792</td>\n",
       "      <td>192.339996</td>\n",
       "      <td>129.529999</td>\n",
       "      <td>293.250000</td>\n",
       "      <td>368.619995</td>\n",
       "      <td>96.389999</td>\n",
       "      <td>187.699997</td>\n",
       "      <td>192.470001</td>\n",
       "      <td>39.779999</td>\n",
       "      <td>530.940002</td>\n",
       "      <td>...</td>\n",
       "      <td>6153300</td>\n",
       "      <td>5743500</td>\n",
       "      <td>2531600</td>\n",
       "      <td>151731800</td>\n",
       "      <td>5170500</td>\n",
       "      <td>6614300</td>\n",
       "      <td>5422900</td>\n",
       "      <td>16694100</td>\n",
       "      <td>12950000</td>\n",
       "      <td>13890900</td>\n",
       "    </tr>\n",
       "    <tr>\n",
       "      <th>2025-04-29</th>\n",
       "      <td>210.933395</td>\n",
       "      <td>193.509995</td>\n",
       "      <td>130.500000</td>\n",
       "      <td>298.470001</td>\n",
       "      <td>370.980011</td>\n",
       "      <td>96.059998</td>\n",
       "      <td>187.389999</td>\n",
       "      <td>191.169998</td>\n",
       "      <td>39.990002</td>\n",
       "      <td>534.570007</td>\n",
       "      <td>...</td>\n",
       "      <td>5346500</td>\n",
       "      <td>6692000</td>\n",
       "      <td>2437300</td>\n",
       "      <td>108906600</td>\n",
       "      <td>6566500</td>\n",
       "      <td>9909100</td>\n",
       "      <td>5519500</td>\n",
       "      <td>24563600</td>\n",
       "      <td>12679000</td>\n",
       "      <td>9483100</td>\n",
       "    </tr>\n",
       "  </tbody>\n",
       "</table>\n",
       "<p>1256 rows × 300 columns</p>\n",
       "</div>"
      ],
      "text/plain": [
       "Price        Adj Close                                                  \\\n",
       "Ticker            AAPL        ABBV         ABT         ACN        ADBE   \n",
       "Date                                                                     \n",
       "2020-04-30   71.205704   66.976059   84.281425  171.929520  353.640015   \n",
       "2020-05-01   70.059372   67.497528   82.231361  167.194656  343.839996   \n",
       "2020-05-04   71.050621   66.699036   82.213058  166.674774  349.109985   \n",
       "2020-05-05   72.117004   69.558960   85.141747  168.615097  356.130005   \n",
       "2020-05-06   72.861053   69.599701   83.357056  167.463928  362.519989   \n",
       "...                ...         ...         ...         ...         ...   \n",
       "2025-04-23  204.332062  177.050003  129.839996  288.160004  351.959991   \n",
       "2025-04-24  208.097107  180.369995  129.380005  291.410004  360.910004   \n",
       "2025-04-25  209.005920  186.059998  128.850006  293.390015  367.720001   \n",
       "2025-04-28  209.864792  192.339996  129.529999  293.250000  368.619995   \n",
       "2025-04-29  210.933395  193.509995  130.500000  298.470001  370.980011   \n",
       "\n",
       "Price                                                                 ...  \\\n",
       "Ticker            AMD        AMZN        AVGO        BAC       BRK-B  ...   \n",
       "Date                                                                  ...   \n",
       "2020-04-30  52.389999  123.699997   23.907366  21.239513  187.360001  ...   \n",
       "2020-05-01  49.880001  114.302002   22.858192  20.382868  182.669998  ...   \n",
       "2020-05-04  52.560001  115.799500   23.083521  20.250399  177.949997  ...   \n",
       "2020-05-05  52.189999  115.889999   23.313248  20.011950  176.029999  ...   \n",
       "2020-05-06  52.160000  117.563004   23.252512  19.738173  172.380005  ...   \n",
       "...               ...         ...         ...        ...         ...  ...   \n",
       "2025-04-23  90.389999  180.600006  176.910004  38.750000  526.809998  ...   \n",
       "2025-04-24  94.470001  186.539993  188.149994  39.580002  531.640015  ...   \n",
       "2025-04-25  96.650002  188.990005  192.309998  39.689999  530.960022  ...   \n",
       "2025-04-28  96.389999  187.699997  192.470001  39.779999  530.940002  ...   \n",
       "2025-04-29  96.059998  187.389999  191.169998  39.990002  534.570007  ...   \n",
       "\n",
       "Price        Volume                                                   \\\n",
       "Ticker           PM      QCOM      TMO       TSLA       TXN      UNH   \n",
       "Date                                                                   \n",
       "2020-04-30  9192200  17113500  2215000  427078500   5781000  7631700   \n",
       "2020-05-01  4782300   9742100  1603100  487977000   5839800  3526100   \n",
       "2020-05-04  4589800   7202400  1189000  288556500   4987000  2894200   \n",
       "2020-05-05  3696400   7540800  1139900  254875500   5242400  2501300   \n",
       "2020-05-06  7199100   8179700  1215600  166848000   3701300  2579200   \n",
       "...             ...       ...      ...        ...       ...      ...   \n",
       "2025-04-23  9084500   9073500  3492200  150381900  14125000  8345700   \n",
       "2025-04-24  8564900   8810600  3662400   94464200  18950400  7629100   \n",
       "2025-04-25  7755700   5145600  2698300  167560700   8383300  9263800   \n",
       "2025-04-28  6153300   5743500  2531600  151731800   5170500  6614300   \n",
       "2025-04-29  5346500   6692000  2437300  108906600   6566500  9909100   \n",
       "\n",
       "Price                                               \n",
       "Ticker             V       WFC       WMT       XOM  \n",
       "Date                                                \n",
       "2020-04-30  11331600  29506100  40497900  37076300  \n",
       "2020-05-01  10109600  35197600  31143900  35399300  \n",
       "2020-05-04   9386200  34343900  17807700  27465600  \n",
       "2020-05-05  13513000  56753400  19337400  29276200  \n",
       "2020-05-06   8540500  57732900  17309100  22659000  \n",
       "...              ...       ...       ...       ...  \n",
       "2025-04-23   8906000  20678800  18046900  14235700  \n",
       "2025-04-24   8055200  18420900  13444500   9849600  \n",
       "2025-04-25   4452800  17775900  15317200  11245800  \n",
       "2025-04-28   5422900  16694100  12950000  13890900  \n",
       "2025-04-29   5519500  24563600  12679000   9483100  \n",
       "\n",
       "[1256 rows x 300 columns]"
      ]
     },
     "execution_count": 6,
     "metadata": {},
     "output_type": "execute_result"
    }
   ],
   "source": [
    "# Import yfinance package\n",
    "import yfinance as yf\n",
    "\n",
    "# Set the start and end date\n",
    "start_date = '2020-04-30' #'2022-04-30'\n",
    "end_date = '2025-04-30'   #'2025-04-30'\n",
    "\n",
    "# Set the ticker\n",
    "# ticker = ['AMZN', 'SPY', 'TSLA', 'FB']\n",
    "\n",
    "\n",
    "ticker = ['AAPL', 'NVDA', 'MSFT', 'AMZN', 'META', 'GOOGL', 'TSLA', 'AVGO', 'GOOG', 'BRK-B',\n",
    "          'JPM', 'LLY', 'V', 'XOM', 'UNH', 'MA', 'COST', 'WMT', 'HD', 'PG',\n",
    "          'NFLX', 'JNJ', 'ABBV', 'CRM', 'BAC', 'ORCL', 'MRK', 'CVX', 'WFC', 'KO',\n",
    "          'CSCO', 'ACN', 'NOW', 'TMO', 'MCD', 'IBM', 'AMD', 'DIS', 'PEP', 'LIN',\n",
    "          'ABT', 'ISRG', 'PM', 'GE', 'ADBE', 'GS', 'QCOM', 'TXN', 'CAT', 'INTU']\n",
    "\n",
    "# Get the data\n",
    "data = yf.download(ticker, start_date, end_date, auto_adjust=False) # adding auto_adjust=False to get Adj Close\n",
    "data"
   ]
  },
  {
   "cell_type": "code",
   "execution_count": 7,
   "metadata": {
    "colab": {
     "base_uri": "https://localhost:8080/"
    },
    "id": "8Z1wEu2DirUr",
    "outputId": "b6932d89-78c0-4535-9979-20581b58c7e1"
   },
   "outputs": [
    {
     "data": {
      "image/png": "[encoded data removed]",
      "text/plain": [
       "<Figure size 640x480 with 1 Axes>"
      ]
     },
     "metadata": {},
     "output_type": "display_data"
    }
   ],
   "source": [
    "# Plot adjusted close price data\n",
    "data['Adj Close'].plot()\n",
    "plt.show()"
   ]
  },
  {
   "cell_type": "code",
   "execution_count": 8,
   "metadata": {
    "colab": {
     "base_uri": "https://localhost:8080/"
    },
    "id": "uWkrVmFBirUr",
    "outputId": "e23e9815-5777-40d6-f91d-4dfaf6ad6454"
   },
   "outputs": [
    {
     "data": {
      "text/html": [
       "<div>\n",
       "<style scoped>\n",
       "    .dataframe tbody tr th:only-of-type {\n",
       "        vertical-align: middle;\n",
       "    }\n",
       "\n",
       "    .dataframe tbody tr th {\n",
       "        vertical-align: top;\n",
       "    }\n",
       "\n",
       "    .dataframe thead th {\n",
       "        text-align: right;\n",
       "    }\n",
       "</style>\n",
       "<table border=\"1\" class=\"dataframe\">\n",
       "  <thead>\n",
       "    <tr style=\"text-align: right;\">\n",
       "      <th>Ticker</th>\n",
       "      <th>AAPL</th>\n",
       "      <th>ABBV</th>\n",
       "      <th>ABT</th>\n",
       "      <th>ACN</th>\n",
       "      <th>ADBE</th>\n",
       "      <th>AMD</th>\n",
       "      <th>AMZN</th>\n",
       "      <th>AVGO</th>\n",
       "      <th>BAC</th>\n",
       "      <th>BRK-B</th>\n",
       "      <th>...</th>\n",
       "      <th>PM</th>\n",
       "      <th>QCOM</th>\n",
       "      <th>TMO</th>\n",
       "      <th>TSLA</th>\n",
       "      <th>TXN</th>\n",
       "      <th>UNH</th>\n",
       "      <th>V</th>\n",
       "      <th>WFC</th>\n",
       "      <th>WMT</th>\n",
       "      <th>XOM</th>\n",
       "    </tr>\n",
       "    <tr>\n",
       "      <th>Date</th>\n",
       "      <th></th>\n",
       "      <th></th>\n",
       "      <th></th>\n",
       "      <th></th>\n",
       "      <th></th>\n",
       "      <th></th>\n",
       "      <th></th>\n",
       "      <th></th>\n",
       "      <th></th>\n",
       "      <th></th>\n",
       "      <th></th>\n",
       "      <th></th>\n",
       "      <th></th>\n",
       "      <th></th>\n",
       "      <th></th>\n",
       "      <th></th>\n",
       "      <th></th>\n",
       "      <th></th>\n",
       "      <th></th>\n",
       "      <th></th>\n",
       "      <th></th>\n",
       "    </tr>\n",
       "  </thead>\n",
       "  <tbody>\n",
       "    <tr>\n",
       "      <th>2020-04-30</th>\n",
       "      <td>71.205704</td>\n",
       "      <td>66.976059</td>\n",
       "      <td>84.281425</td>\n",
       "      <td>171.929520</td>\n",
       "      <td>353.640015</td>\n",
       "      <td>52.389999</td>\n",
       "      <td>123.699997</td>\n",
       "      <td>23.907366</td>\n",
       "      <td>21.239513</td>\n",
       "      <td>187.360001</td>\n",
       "      <td>...</td>\n",
       "      <td>57.413315</td>\n",
       "      <td>70.595291</td>\n",
       "      <td>330.662079</td>\n",
       "      <td>52.125332</td>\n",
       "      <td>100.123306</td>\n",
       "      <td>271.762909</td>\n",
       "      <td>172.191315</td>\n",
       "      <td>25.436089</td>\n",
       "      <td>37.561844</td>\n",
       "      <td>36.323387</td>\n",
       "    </tr>\n",
       "    <tr>\n",
       "      <th>2020-05-01</th>\n",
       "      <td>70.059372</td>\n",
       "      <td>67.497528</td>\n",
       "      <td>82.231361</td>\n",
       "      <td>167.194656</td>\n",
       "      <td>343.839996</td>\n",
       "      <td>49.880001</td>\n",
       "      <td>114.302002</td>\n",
       "      <td>22.858192</td>\n",
       "      <td>20.382868</td>\n",
       "      <td>182.669998</td>\n",
       "      <td>...</td>\n",
       "      <td>56.397427</td>\n",
       "      <td>67.876312</td>\n",
       "      <td>325.850586</td>\n",
       "      <td>46.754665</td>\n",
       "      <td>95.376663</td>\n",
       "      <td>264.366547</td>\n",
       "      <td>169.156387</td>\n",
       "      <td>24.157713</td>\n",
       "      <td>37.985191</td>\n",
       "      <td>33.720474</td>\n",
       "    </tr>\n",
       "    <tr>\n",
       "      <th>2020-05-04</th>\n",
       "      <td>71.050621</td>\n",
       "      <td>66.699036</td>\n",
       "      <td>82.213058</td>\n",
       "      <td>166.674774</td>\n",
       "      <td>349.109985</td>\n",
       "      <td>52.560001</td>\n",
       "      <td>115.799500</td>\n",
       "      <td>23.083521</td>\n",
       "      <td>20.250399</td>\n",
       "      <td>177.949997</td>\n",
       "      <td>...</td>\n",
       "      <td>56.420513</td>\n",
       "      <td>67.912170</td>\n",
       "      <td>322.797638</td>\n",
       "      <td>50.745998</td>\n",
       "      <td>96.063438</td>\n",
       "      <td>267.181915</td>\n",
       "      <td>169.715149</td>\n",
       "      <td>23.947578</td>\n",
       "      <td>38.226234</td>\n",
       "      <td>35.080559</td>\n",
       "    </tr>\n",
       "    <tr>\n",
       "      <th>2020-05-05</th>\n",
       "      <td>72.117004</td>\n",
       "      <td>69.558960</td>\n",
       "      <td>85.141747</td>\n",
       "      <td>168.615097</td>\n",
       "      <td>356.130005</td>\n",
       "      <td>52.189999</td>\n",
       "      <td>115.889999</td>\n",
       "      <td>23.313248</td>\n",
       "      <td>20.011950</td>\n",
       "      <td>176.029999</td>\n",
       "      <td>...</td>\n",
       "      <td>55.566246</td>\n",
       "      <td>69.662033</td>\n",
       "      <td>332.282471</td>\n",
       "      <td>51.214001</td>\n",
       "      <td>96.967583</td>\n",
       "      <td>272.292542</td>\n",
       "      <td>171.921539</td>\n",
       "      <td>23.045712</td>\n",
       "      <td>38.544537</td>\n",
       "      <td>35.041470</td>\n",
       "    </tr>\n",
       "    <tr>\n",
       "      <th>2020-05-06</th>\n",
       "      <td>72.861053</td>\n",
       "      <td>69.599701</td>\n",
       "      <td>83.357056</td>\n",
       "      <td>167.463928</td>\n",
       "      <td>362.519989</td>\n",
       "      <td>52.160000</td>\n",
       "      <td>117.563004</td>\n",
       "      <td>23.252512</td>\n",
       "      <td>19.738173</td>\n",
       "      <td>172.380005</td>\n",
       "      <td>...</td>\n",
       "      <td>55.027519</td>\n",
       "      <td>70.774765</td>\n",
       "      <td>331.126495</td>\n",
       "      <td>52.172001</td>\n",
       "      <td>97.732605</td>\n",
       "      <td>268.324860</td>\n",
       "      <td>172.249130</td>\n",
       "      <td>22.424040</td>\n",
       "      <td>38.102627</td>\n",
       "      <td>34.384880</td>\n",
       "    </tr>\n",
       "    <tr>\n",
       "      <th>...</th>\n",
       "      <td>...</td>\n",
       "      <td>...</td>\n",
       "      <td>...</td>\n",
       "      <td>...</td>\n",
       "      <td>...</td>\n",
       "      <td>...</td>\n",
       "      <td>...</td>\n",
       "      <td>...</td>\n",
       "      <td>...</td>\n",
       "      <td>...</td>\n",
       "      <td>...</td>\n",
       "      <td>...</td>\n",
       "      <td>...</td>\n",
       "      <td>...</td>\n",
       "      <td>...</td>\n",
       "      <td>...</td>\n",
       "      <td>...</td>\n",
       "      <td>...</td>\n",
       "      <td>...</td>\n",
       "      <td>...</td>\n",
       "      <td>...</td>\n",
       "    </tr>\n",
       "    <tr>\n",
       "      <th>2025-04-23</th>\n",
       "      <td>204.332062</td>\n",
       "      <td>177.050003</td>\n",
       "      <td>129.839996</td>\n",
       "      <td>288.160004</td>\n",
       "      <td>351.959991</td>\n",
       "      <td>90.389999</td>\n",
       "      <td>180.600006</td>\n",
       "      <td>176.910004</td>\n",
       "      <td>38.750000</td>\n",
       "      <td>526.809998</td>\n",
       "      <td>...</td>\n",
       "      <td>168.110001</td>\n",
       "      <td>140.460007</td>\n",
       "      <td>431.640015</td>\n",
       "      <td>250.740005</td>\n",
       "      <td>150.862915</td>\n",
       "      <td>427.959991</td>\n",
       "      <td>333.815613</td>\n",
       "      <td>67.569305</td>\n",
       "      <td>94.730957</td>\n",
       "      <td>106.390129</td>\n",
       "    </tr>\n",
       "    <tr>\n",
       "      <th>2025-04-24</th>\n",
       "      <td>208.097107</td>\n",
       "      <td>180.369995</td>\n",
       "      <td>129.380005</td>\n",
       "      <td>291.410004</td>\n",
       "      <td>360.910004</td>\n",
       "      <td>94.470001</td>\n",
       "      <td>186.539993</td>\n",
       "      <td>188.149994</td>\n",
       "      <td>39.580002</td>\n",
       "      <td>531.640015</td>\n",
       "      <td>...</td>\n",
       "      <td>170.070007</td>\n",
       "      <td>147.210007</td>\n",
       "      <td>426.660004</td>\n",
       "      <td>259.510010</td>\n",
       "      <td>160.758499</td>\n",
       "      <td>424.250000</td>\n",
       "      <td>335.153381</td>\n",
       "      <td>69.180458</td>\n",
       "      <td>95.608833</td>\n",
       "      <td>107.638626</td>\n",
       "    </tr>\n",
       "    <tr>\n",
       "      <th>2025-04-25</th>\n",
       "      <td>209.005920</td>\n",
       "      <td>186.059998</td>\n",
       "      <td>128.850006</td>\n",
       "      <td>293.390015</td>\n",
       "      <td>367.720001</td>\n",
       "      <td>96.650002</td>\n",
       "      <td>188.990005</td>\n",
       "      <td>192.309998</td>\n",
       "      <td>39.689999</td>\n",
       "      <td>530.960022</td>\n",
       "      <td>...</td>\n",
       "      <td>170.240005</td>\n",
       "      <td>148.559998</td>\n",
       "      <td>424.239990</td>\n",
       "      <td>284.950012</td>\n",
       "      <td>161.482330</td>\n",
       "      <td>418.640015</td>\n",
       "      <td>334.614288</td>\n",
       "      <td>69.349541</td>\n",
       "      <td>94.860641</td>\n",
       "      <td>107.579178</td>\n",
       "    </tr>\n",
       "    <tr>\n",
       "      <th>2025-04-28</th>\n",
       "      <td>209.864792</td>\n",
       "      <td>192.339996</td>\n",
       "      <td>129.529999</td>\n",
       "      <td>293.250000</td>\n",
       "      <td>368.619995</td>\n",
       "      <td>96.389999</td>\n",
       "      <td>187.699997</td>\n",
       "      <td>192.470001</td>\n",
       "      <td>39.779999</td>\n",
       "      <td>530.940002</td>\n",
       "      <td>...</td>\n",
       "      <td>169.169998</td>\n",
       "      <td>147.619995</td>\n",
       "      <td>421.339996</td>\n",
       "      <td>285.880005</td>\n",
       "      <td>161.065872</td>\n",
       "      <td>420.000000</td>\n",
       "      <td>336.950409</td>\n",
       "      <td>69.051170</td>\n",
       "      <td>94.990334</td>\n",
       "      <td>107.638626</td>\n",
       "    </tr>\n",
       "    <tr>\n",
       "      <th>2025-04-29</th>\n",
       "      <td>210.933395</td>\n",
       "      <td>193.509995</td>\n",
       "      <td>130.500000</td>\n",
       "      <td>298.470001</td>\n",
       "      <td>370.980011</td>\n",
       "      <td>96.059998</td>\n",
       "      <td>187.389999</td>\n",
       "      <td>191.169998</td>\n",
       "      <td>39.990002</td>\n",
       "      <td>534.570007</td>\n",
       "      <td>...</td>\n",
       "      <td>170.259995</td>\n",
       "      <td>146.880005</td>\n",
       "      <td>427.529999</td>\n",
       "      <td>292.029999</td>\n",
       "      <td>159.410004</td>\n",
       "      <td>409.230011</td>\n",
       "      <td>340.953735</td>\n",
       "      <td>70.712059</td>\n",
       "      <td>95.808357</td>\n",
       "      <td>107.371094</td>\n",
       "    </tr>\n",
       "  </tbody>\n",
       "</table>\n",
       "<p>1256 rows × 50 columns</p>\n",
       "</div>"
      ],
      "text/plain": [
       "Ticker            AAPL        ABBV         ABT         ACN        ADBE  \\\n",
       "Date                                                                     \n",
       "2020-04-30   71.205704   66.976059   84.281425  171.929520  353.640015   \n",
       "2020-05-01   70.059372   67.497528   82.231361  167.194656  343.839996   \n",
       "2020-05-04   71.050621   66.699036   82.213058  166.674774  349.109985   \n",
       "2020-05-05   72.117004   69.558960   85.141747  168.615097  356.130005   \n",
       "2020-05-06   72.861053   69.599701   83.357056  167.463928  362.519989   \n",
       "...                ...         ...         ...         ...         ...   \n",
       "2025-04-23  204.332062  177.050003  129.839996  288.160004  351.959991   \n",
       "2025-04-24  208.097107  180.369995  129.380005  291.410004  360.910004   \n",
       "2025-04-25  209.005920  186.059998  128.850006  293.390015  367.720001   \n",
       "2025-04-28  209.864792  192.339996  129.529999  293.250000  368.619995   \n",
       "2025-04-29  210.933395  193.509995  130.500000  298.470001  370.980011   \n",
       "\n",
       "Ticker            AMD        AMZN        AVGO        BAC       BRK-B  ...  \\\n",
       "Date                                                                  ...   \n",
       "2020-04-30  52.389999  123.699997   23.907366  21.239513  187.360001  ...   \n",
       "2020-05-01  49.880001  114.302002   22.858192  20.382868  182.669998  ...   \n",
       "2020-05-04  52.560001  115.799500   23.083521  20.250399  177.949997  ...   \n",
       "2020-05-05  52.189999  115.889999   23.313248  20.011950  176.029999  ...   \n",
       "2020-05-06  52.160000  117.563004   23.252512  19.738173  172.380005  ...   \n",
       "...               ...         ...         ...        ...         ...  ...   \n",
       "2025-04-23  90.389999  180.600006  176.910004  38.750000  526.809998  ...   \n",
       "2025-04-24  94.470001  186.539993  188.149994  39.580002  531.640015  ...   \n",
       "2025-04-25  96.650002  188.990005  192.309998  39.689999  530.960022  ...   \n",
       "2025-04-28  96.389999  187.699997  192.470001  39.779999  530.940002  ...   \n",
       "2025-04-29  96.059998  187.389999  191.169998  39.990002  534.570007  ...   \n",
       "\n",
       "Ticker              PM        QCOM         TMO        TSLA         TXN  \\\n",
       "Date                                                                     \n",
       "2020-04-30   57.413315   70.595291  330.662079   52.125332  100.123306   \n",
       "2020-05-01   56.397427   67.876312  325.850586   46.754665   95.376663   \n",
       "2020-05-04   56.420513   67.912170  322.797638   50.745998   96.063438   \n",
       "2020-05-05   55.566246   69.662033  332.282471   51.214001   96.967583   \n",
       "2020-05-06   55.027519   70.774765  331.126495   52.172001   97.732605   \n",
       "...                ...         ...         ...         ...         ...   \n",
       "2025-04-23  168.110001  140.460007  431.640015  250.740005  150.862915   \n",
       "2025-04-24  170.070007  147.210007  426.660004  259.510010  160.758499   \n",
       "2025-04-25  170.240005  148.559998  424.239990  284.950012  161.482330   \n",
       "2025-04-28  169.169998  147.619995  421.339996  285.880005  161.065872   \n",
       "2025-04-29  170.259995  146.880005  427.529999  292.029999  159.410004   \n",
       "\n",
       "Ticker             UNH           V        WFC        WMT         XOM  \n",
       "Date                                                                  \n",
       "2020-04-30  271.762909  172.191315  25.436089  37.561844   36.323387  \n",
       "2020-05-01  264.366547  169.156387  24.157713  37.985191   33.720474  \n",
       "2020-05-04  267.181915  169.715149  23.947578  38.226234   35.080559  \n",
       "2020-05-05  272.292542  171.921539  23.045712  38.544537   35.041470  \n",
       "2020-05-06  268.324860  172.249130  22.424040  38.102627   34.384880  \n",
       "...                ...         ...        ...        ...         ...  \n",
       "2025-04-23  427.959991  333.815613  67.569305  94.730957  106.390129  \n",
       "2025-04-24  424.250000  335.153381  69.180458  95.608833  107.638626  \n",
       "2025-04-25  418.640015  334.614288  69.349541  94.860641  107.579178  \n",
       "2025-04-28  420.000000  336.950409  69.051170  94.990334  107.638626  \n",
       "2025-04-29  409.230011  340.953735  70.712059  95.808357  107.371094  \n",
       "\n",
       "[1256 rows x 50 columns]"
      ]
     },
     "execution_count": 8,
     "metadata": {},
     "output_type": "execute_result"
    }
   ],
   "source": [
    "# Closing price\n",
    "data = data['Adj Close']\n",
    "data"
   ]
  },
  {
   "cell_type": "code",
   "execution_count": 9,
   "metadata": {
    "colab": {
     "base_uri": "https://localhost:8080/"
    },
    "id": "s_nqi6DhirUr",
    "outputId": "a48c0315-34c8-437d-9fdf-79f278155435"
   },
   "outputs": [
    {
     "data": {
      "image/png": "[encoded data removed]",
      "text/plain": [
       "<Figure size 640x480 with 1 Axes>"
      ]
     },
     "metadata": {},
     "output_type": "display_data"
    }
   ],
   "source": [
    "# Volatility of stocks\n",
    "data.pct_change().apply(lambda x: np.log(1+x)).std().apply(lambda x: x*np.sqrt(250)).plot(kind='bar')\n",
    "plt.show()  # Explicitly render the plot"
   ]
  },
  {
   "cell_type": "markdown",
   "metadata": {
    "id": "sWSnSajjirUr"
   },
   "source": [
    "## Process on all dataset\n"
   ]
  },
  {
   "cell_type": "code",
   "execution_count": 17,
   "metadata": {
    "colab": {
     "base_uri": "https://localhost:8080/"
    },
    "id": "oCEakmcmirUs",
    "outputId": "d5bb19bc-d030-4b15-eb6f-a9752a7e2ee7"
   },
   "outputs": [
    {
     "data": {
      "text/html": [
       "<div>\n",
       "<style scoped>\n",
       "    .dataframe tbody tr th:only-of-type {\n",
       "        vertical-align: middle;\n",
       "    }\n",
       "\n",
       "    .dataframe tbody tr th {\n",
       "        vertical-align: top;\n",
       "    }\n",
       "\n",
       "    .dataframe thead th {\n",
       "        text-align: right;\n",
       "    }\n",
       "</style>\n",
       "<table border=\"1\" class=\"dataframe\">\n",
       "  <thead>\n",
       "    <tr style=\"text-align: right;\">\n",
       "      <th>Ticker</th>\n",
       "      <th>AAPL</th>\n",
       "      <th>ABBV</th>\n",
       "      <th>ABT</th>\n",
       "      <th>ACN</th>\n",
       "      <th>ADBE</th>\n",
       "      <th>AMD</th>\n",
       "      <th>AMZN</th>\n",
       "      <th>AVGO</th>\n",
       "      <th>BAC</th>\n",
       "      <th>BRK-B</th>\n",
       "      <th>...</th>\n",
       "      <th>PM</th>\n",
       "      <th>QCOM</th>\n",
       "      <th>TMO</th>\n",
       "      <th>TSLA</th>\n",
       "      <th>TXN</th>\n",
       "      <th>UNH</th>\n",
       "      <th>V</th>\n",
       "      <th>WFC</th>\n",
       "      <th>WMT</th>\n",
       "      <th>XOM</th>\n",
       "    </tr>\n",
       "    <tr>\n",
       "      <th>Ticker</th>\n",
       "      <th></th>\n",
       "      <th></th>\n",
       "      <th></th>\n",
       "      <th></th>\n",
       "      <th></th>\n",
       "      <th></th>\n",
       "      <th></th>\n",
       "      <th></th>\n",
       "      <th></th>\n",
       "      <th></th>\n",
       "      <th></th>\n",
       "      <th></th>\n",
       "      <th></th>\n",
       "      <th></th>\n",
       "      <th></th>\n",
       "      <th></th>\n",
       "      <th></th>\n",
       "      <th></th>\n",
       "      <th></th>\n",
       "      <th></th>\n",
       "      <th></th>\n",
       "    </tr>\n",
       "  </thead>\n",
       "  <tbody>\n",
       "    <tr>\n",
       "      <th>AAPL</th>\n",
       "      <td>0.000352</td>\n",
       "      <td>0.000046</td>\n",
       "      <td>0.000087</td>\n",
       "      <td>0.000159</td>\n",
       "      <td>0.000237</td>\n",
       "      <td>0.000331</td>\n",
       "      <td>0.000251</td>\n",
       "      <td>2.410917e-04</td>\n",
       "      <td>0.000109</td>\n",
       "      <td>0.000092</td>\n",
       "      <td>...</td>\n",
       "      <td>0.000050</td>\n",
       "      <td>0.000272</td>\n",
       "      <td>0.000132</td>\n",
       "      <td>0.000383</td>\n",
       "      <td>0.000201</td>\n",
       "      <td>0.000063</td>\n",
       "      <td>0.000136</td>\n",
       "      <td>0.000106</td>\n",
       "      <td>0.000077</td>\n",
       "      <td>0.000069</td>\n",
       "    </tr>\n",
       "    <tr>\n",
       "      <th>ABBV</th>\n",
       "      <td>0.000046</td>\n",
       "      <td>0.000207</td>\n",
       "      <td>0.000071</td>\n",
       "      <td>0.000053</td>\n",
       "      <td>0.000045</td>\n",
       "      <td>0.000030</td>\n",
       "      <td>0.000032</td>\n",
       "      <td>4.084526e-05</td>\n",
       "      <td>0.000058</td>\n",
       "      <td>0.000054</td>\n",
       "      <td>...</td>\n",
       "      <td>0.000061</td>\n",
       "      <td>0.000044</td>\n",
       "      <td>0.000065</td>\n",
       "      <td>0.000027</td>\n",
       "      <td>0.000057</td>\n",
       "      <td>0.000064</td>\n",
       "      <td>0.000060</td>\n",
       "      <td>0.000064</td>\n",
       "      <td>0.000041</td>\n",
       "      <td>0.000065</td>\n",
       "    </tr>\n",
       "    <tr>\n",
       "      <th>ABT</th>\n",
       "      <td>0.000087</td>\n",
       "      <td>0.000071</td>\n",
       "      <td>0.000205</td>\n",
       "      <td>0.000101</td>\n",
       "      <td>0.000111</td>\n",
       "      <td>0.000110</td>\n",
       "      <td>0.000091</td>\n",
       "      <td>7.565255e-05</td>\n",
       "      <td>0.000067</td>\n",
       "      <td>0.000063</td>\n",
       "      <td>...</td>\n",
       "      <td>0.000056</td>\n",
       "      <td>0.000103</td>\n",
       "      <td>0.000131</td>\n",
       "      <td>0.000096</td>\n",
       "      <td>0.000087</td>\n",
       "      <td>0.000061</td>\n",
       "      <td>0.000087</td>\n",
       "      <td>0.000061</td>\n",
       "      <td>0.000042</td>\n",
       "      <td>0.000030</td>\n",
       "    </tr>\n",
       "    <tr>\n",
       "      <th>ACN</th>\n",
       "      <td>0.000159</td>\n",
       "      <td>0.000053</td>\n",
       "      <td>0.000101</td>\n",
       "      <td>0.000273</td>\n",
       "      <td>0.000198</td>\n",
       "      <td>0.000226</td>\n",
       "      <td>0.000180</td>\n",
       "      <td>1.793058e-04</td>\n",
       "      <td>0.000126</td>\n",
       "      <td>0.000099</td>\n",
       "      <td>...</td>\n",
       "      <td>0.000054</td>\n",
       "      <td>0.000187</td>\n",
       "      <td>0.000129</td>\n",
       "      <td>0.000212</td>\n",
       "      <td>0.000161</td>\n",
       "      <td>0.000077</td>\n",
       "      <td>0.000134</td>\n",
       "      <td>0.000132</td>\n",
       "      <td>0.000060</td>\n",
       "      <td>0.000077</td>\n",
       "    </tr>\n",
       "    <tr>\n",
       "      <th>ADBE</th>\n",
       "      <td>0.000237</td>\n",
       "      <td>0.000045</td>\n",
       "      <td>0.000111</td>\n",
       "      <td>0.000198</td>\n",
       "      <td>0.000532</td>\n",
       "      <td>0.000383</td>\n",
       "      <td>0.000301</td>\n",
       "      <td>2.810384e-04</td>\n",
       "      <td>0.000085</td>\n",
       "      <td>0.000075</td>\n",
       "      <td>...</td>\n",
       "      <td>0.000035</td>\n",
       "      <td>0.000283</td>\n",
       "      <td>0.000162</td>\n",
       "      <td>0.000365</td>\n",
       "      <td>0.000205</td>\n",
       "      <td>0.000059</td>\n",
       "      <td>0.000154</td>\n",
       "      <td>0.000087</td>\n",
       "      <td>0.000065</td>\n",
       "      <td>0.000035</td>\n",
       "    </tr>\n",
       "    <tr>\n",
       "      <th>AMD</th>\n",
       "      <td>0.000331</td>\n",
       "      <td>0.000030</td>\n",
       "      <td>0.000110</td>\n",
       "      <td>0.000226</td>\n",
       "      <td>0.000383</td>\n",
       "      <td>0.001050</td>\n",
       "      <td>0.000402</td>\n",
       "      <td>4.787945e-04</td>\n",
       "      <td>0.000161</td>\n",
       "      <td>0.000105</td>\n",
       "      <td>...</td>\n",
       "      <td>0.000026</td>\n",
       "      <td>0.000503</td>\n",
       "      <td>0.000205</td>\n",
       "      <td>0.000600</td>\n",
       "      <td>0.000362</td>\n",
       "      <td>0.000071</td>\n",
       "      <td>0.000183</td>\n",
       "      <td>0.000166</td>\n",
       "      <td>0.000075</td>\n",
       "      <td>0.000076</td>\n",
       "    </tr>\n",
       "    <tr>\n",
       "      <th>AMZN</th>\n",
       "      <td>0.000251</td>\n",
       "      <td>0.000032</td>\n",
       "      <td>0.000091</td>\n",
       "      <td>0.000180</td>\n",
       "      <td>0.000301</td>\n",
       "      <td>0.000402</td>\n",
       "      <td>0.000506</td>\n",
       "      <td>2.895883e-04</td>\n",
       "      <td>0.000123</td>\n",
       "      <td>0.000086</td>\n",
       "      <td>...</td>\n",
       "      <td>0.000025</td>\n",
       "      <td>0.000291</td>\n",
       "      <td>0.000148</td>\n",
       "      <td>0.000421</td>\n",
       "      <td>0.000209</td>\n",
       "      <td>0.000048</td>\n",
       "      <td>0.000140</td>\n",
       "      <td>0.000122</td>\n",
       "      <td>0.000081</td>\n",
       "      <td>0.000046</td>\n",
       "    </tr>\n",
       "    <tr>\n",
       "      <th>AVGO</th>\n",
       "      <td>0.000241</td>\n",
       "      <td>0.000041</td>\n",
       "      <td>0.000076</td>\n",
       "      <td>0.000179</td>\n",
       "      <td>0.000281</td>\n",
       "      <td>0.000479</td>\n",
       "      <td>0.000290</td>\n",
       "      <td>6.449750e-04</td>\n",
       "      <td>0.000140</td>\n",
       "      <td>0.000087</td>\n",
       "      <td>...</td>\n",
       "      <td>0.000030</td>\n",
       "      <td>0.000410</td>\n",
       "      <td>0.000144</td>\n",
       "      <td>0.000455</td>\n",
       "      <td>0.000290</td>\n",
       "      <td>0.000055</td>\n",
       "      <td>0.000142</td>\n",
       "      <td>0.000153</td>\n",
       "      <td>0.000063</td>\n",
       "      <td>0.000076</td>\n",
       "    </tr>\n",
       "    <tr>\n",
       "      <th>BAC</th>\n",
       "      <td>0.000109</td>\n",
       "      <td>0.000058</td>\n",
       "      <td>0.000067</td>\n",
       "      <td>0.000126</td>\n",
       "      <td>0.000085</td>\n",
       "      <td>0.000161</td>\n",
       "      <td>0.000123</td>\n",
       "      <td>1.402181e-04</td>\n",
       "      <td>0.000370</td>\n",
       "      <td>0.000151</td>\n",
       "      <td>...</td>\n",
       "      <td>0.000089</td>\n",
       "      <td>0.000166</td>\n",
       "      <td>0.000074</td>\n",
       "      <td>0.000208</td>\n",
       "      <td>0.000150</td>\n",
       "      <td>0.000076</td>\n",
       "      <td>0.000133</td>\n",
       "      <td>0.000351</td>\n",
       "      <td>0.000050</td>\n",
       "      <td>0.000190</td>\n",
       "    </tr>\n",
       "    <tr>\n",
       "      <th>BRK-B</th>\n",
       "      <td>0.000092</td>\n",
       "      <td>0.000054</td>\n",
       "      <td>0.000063</td>\n",
       "      <td>0.000099</td>\n",
       "      <td>0.000075</td>\n",
       "      <td>0.000105</td>\n",
       "      <td>0.000086</td>\n",
       "      <td>8.708329e-05</td>\n",
       "      <td>0.000151</td>\n",
       "      <td>0.000135</td>\n",
       "      <td>...</td>\n",
       "      <td>0.000064</td>\n",
       "      <td>0.000100</td>\n",
       "      <td>0.000064</td>\n",
       "      <td>0.000111</td>\n",
       "      <td>0.000099</td>\n",
       "      <td>0.000066</td>\n",
       "      <td>0.000100</td>\n",
       "      <td>0.000160</td>\n",
       "      <td>0.000048</td>\n",
       "      <td>0.000113</td>\n",
       "    </tr>\n",
       "    <tr>\n",
       "      <th>CAT</th>\n",
       "      <td>0.000101</td>\n",
       "      <td>0.000051</td>\n",
       "      <td>0.000048</td>\n",
       "      <td>0.000123</td>\n",
       "      <td>0.000084</td>\n",
       "      <td>0.000177</td>\n",
       "      <td>0.000109</td>\n",
       "      <td>1.777794e-04</td>\n",
       "      <td>0.000218</td>\n",
       "      <td>0.000128</td>\n",
       "      <td>...</td>\n",
       "      <td>0.000069</td>\n",
       "      <td>0.000182</td>\n",
       "      <td>0.000072</td>\n",
       "      <td>0.000178</td>\n",
       "      <td>0.000164</td>\n",
       "      <td>0.000057</td>\n",
       "      <td>0.000112</td>\n",
       "      <td>0.000220</td>\n",
       "      <td>0.000044</td>\n",
       "      <td>0.000195</td>\n",
       "    </tr>\n",
       "    <tr>\n",
       "      <th>COST</th>\n",
       "      <td>0.000132</td>\n",
       "      <td>0.000040</td>\n",
       "      <td>0.000070</td>\n",
       "      <td>0.000105</td>\n",
       "      <td>0.000150</td>\n",
       "      <td>0.000187</td>\n",
       "      <td>0.000152</td>\n",
       "      <td>1.506524e-04</td>\n",
       "      <td>0.000060</td>\n",
       "      <td>0.000059</td>\n",
       "      <td>...</td>\n",
       "      <td>0.000041</td>\n",
       "      <td>0.000150</td>\n",
       "      <td>0.000089</td>\n",
       "      <td>0.000208</td>\n",
       "      <td>0.000119</td>\n",
       "      <td>0.000052</td>\n",
       "      <td>0.000082</td>\n",
       "      <td>0.000059</td>\n",
       "      <td>0.000106</td>\n",
       "      <td>0.000027</td>\n",
       "    </tr>\n",
       "    <tr>\n",
       "      <th>CRM</th>\n",
       "      <td>0.000215</td>\n",
       "      <td>0.000038</td>\n",
       "      <td>0.000105</td>\n",
       "      <td>0.000194</td>\n",
       "      <td>0.000341</td>\n",
       "      <td>0.000363</td>\n",
       "      <td>0.000300</td>\n",
       "      <td>2.524530e-04</td>\n",
       "      <td>0.000123</td>\n",
       "      <td>0.000083</td>\n",
       "      <td>...</td>\n",
       "      <td>0.000032</td>\n",
       "      <td>0.000269</td>\n",
       "      <td>0.000144</td>\n",
       "      <td>0.000391</td>\n",
       "      <td>0.000191</td>\n",
       "      <td>0.000062</td>\n",
       "      <td>0.000148</td>\n",
       "      <td>0.000120</td>\n",
       "      <td>0.000063</td>\n",
       "      <td>0.000060</td>\n",
       "    </tr>\n",
       "    <tr>\n",
       "      <th>CSCO</th>\n",
       "      <td>0.000128</td>\n",
       "      <td>0.000054</td>\n",
       "      <td>0.000074</td>\n",
       "      <td>0.000123</td>\n",
       "      <td>0.000136</td>\n",
       "      <td>0.000181</td>\n",
       "      <td>0.000128</td>\n",
       "      <td>1.728533e-04</td>\n",
       "      <td>0.000119</td>\n",
       "      <td>0.000085</td>\n",
       "      <td>...</td>\n",
       "      <td>0.000063</td>\n",
       "      <td>0.000152</td>\n",
       "      <td>0.000091</td>\n",
       "      <td>0.000162</td>\n",
       "      <td>0.000140</td>\n",
       "      <td>0.000065</td>\n",
       "      <td>0.000101</td>\n",
       "      <td>0.000119</td>\n",
       "      <td>0.000065</td>\n",
       "      <td>0.000088</td>\n",
       "    </tr>\n",
       "    <tr>\n",
       "      <th>CVX</th>\n",
       "      <td>0.000075</td>\n",
       "      <td>0.000064</td>\n",
       "      <td>0.000035</td>\n",
       "      <td>0.000086</td>\n",
       "      <td>0.000048</td>\n",
       "      <td>0.000095</td>\n",
       "      <td>0.000061</td>\n",
       "      <td>9.163788e-05</td>\n",
       "      <td>0.000185</td>\n",
       "      <td>0.000111</td>\n",
       "      <td>...</td>\n",
       "      <td>0.000070</td>\n",
       "      <td>0.000112</td>\n",
       "      <td>0.000042</td>\n",
       "      <td>0.000100</td>\n",
       "      <td>0.000112</td>\n",
       "      <td>0.000065</td>\n",
       "      <td>0.000091</td>\n",
       "      <td>0.000193</td>\n",
       "      <td>0.000039</td>\n",
       "      <td>0.000305</td>\n",
       "    </tr>\n",
       "    <tr>\n",
       "      <th>DIS</th>\n",
       "      <td>0.000143</td>\n",
       "      <td>0.000039</td>\n",
       "      <td>0.000068</td>\n",
       "      <td>0.000142</td>\n",
       "      <td>0.000145</td>\n",
       "      <td>0.000210</td>\n",
       "      <td>0.000183</td>\n",
       "      <td>1.568837e-04</td>\n",
       "      <td>0.000193</td>\n",
       "      <td>0.000116</td>\n",
       "      <td>...</td>\n",
       "      <td>0.000072</td>\n",
       "      <td>0.000178</td>\n",
       "      <td>0.000089</td>\n",
       "      <td>0.000230</td>\n",
       "      <td>0.000156</td>\n",
       "      <td>0.000047</td>\n",
       "      <td>0.000147</td>\n",
       "      <td>0.000192</td>\n",
       "      <td>0.000055</td>\n",
       "      <td>0.000139</td>\n",
       "    </tr>\n",
       "    <tr>\n",
       "      <th>GE</th>\n",
       "      <td>0.000116</td>\n",
       "      <td>0.000055</td>\n",
       "      <td>0.000067</td>\n",
       "      <td>0.000138</td>\n",
       "      <td>0.000108</td>\n",
       "      <td>0.000194</td>\n",
       "      <td>0.000137</td>\n",
       "      <td>1.985194e-04</td>\n",
       "      <td>0.000233</td>\n",
       "      <td>0.000135</td>\n",
       "      <td>...</td>\n",
       "      <td>0.000070</td>\n",
       "      <td>0.000184</td>\n",
       "      <td>0.000075</td>\n",
       "      <td>0.000209</td>\n",
       "      <td>0.000168</td>\n",
       "      <td>0.000068</td>\n",
       "      <td>0.000139</td>\n",
       "      <td>0.000258</td>\n",
       "      <td>0.000047</td>\n",
       "      <td>0.000182</td>\n",
       "    </tr>\n",
       "    <tr>\n",
       "      <th>GOOG</th>\n",
       "      <td>0.000215</td>\n",
       "      <td>0.000038</td>\n",
       "      <td>0.000081</td>\n",
       "      <td>0.000162</td>\n",
       "      <td>0.000252</td>\n",
       "      <td>0.000336</td>\n",
       "      <td>0.000287</td>\n",
       "      <td>2.391966e-04</td>\n",
       "      <td>0.000116</td>\n",
       "      <td>0.000089</td>\n",
       "      <td>...</td>\n",
       "      <td>0.000037</td>\n",
       "      <td>0.000246</td>\n",
       "      <td>0.000130</td>\n",
       "      <td>0.000326</td>\n",
       "      <td>0.000184</td>\n",
       "      <td>0.000064</td>\n",
       "      <td>0.000130</td>\n",
       "      <td>0.000122</td>\n",
       "      <td>0.000062</td>\n",
       "      <td>0.000060</td>\n",
       "    </tr>\n",
       "    <tr>\n",
       "      <th>GOOGL</th>\n",
       "      <td>0.000216</td>\n",
       "      <td>0.000039</td>\n",
       "      <td>0.000082</td>\n",
       "      <td>0.000162</td>\n",
       "      <td>0.000252</td>\n",
       "      <td>0.000340</td>\n",
       "      <td>0.000286</td>\n",
       "      <td>2.418827e-04</td>\n",
       "      <td>0.000115</td>\n",
       "      <td>0.000088</td>\n",
       "      <td>...</td>\n",
       "      <td>0.000037</td>\n",
       "      <td>0.000248</td>\n",
       "      <td>0.000131</td>\n",
       "      <td>0.000326</td>\n",
       "      <td>0.000185</td>\n",
       "      <td>0.000064</td>\n",
       "      <td>0.000130</td>\n",
       "      <td>0.000121</td>\n",
       "      <td>0.000061</td>\n",
       "      <td>0.000060</td>\n",
       "    </tr>\n",
       "    <tr>\n",
       "      <th>GS</th>\n",
       "      <td>0.000133</td>\n",
       "      <td>0.000054</td>\n",
       "      <td>0.000067</td>\n",
       "      <td>0.000133</td>\n",
       "      <td>0.000119</td>\n",
       "      <td>0.000201</td>\n",
       "      <td>0.000155</td>\n",
       "      <td>1.825838e-04</td>\n",
       "      <td>0.000279</td>\n",
       "      <td>0.000139</td>\n",
       "      <td>...</td>\n",
       "      <td>0.000073</td>\n",
       "      <td>0.000189</td>\n",
       "      <td>0.000087</td>\n",
       "      <td>0.000242</td>\n",
       "      <td>0.000171</td>\n",
       "      <td>0.000068</td>\n",
       "      <td>0.000132</td>\n",
       "      <td>0.000298</td>\n",
       "      <td>0.000053</td>\n",
       "      <td>0.000163</td>\n",
       "    </tr>\n",
       "    <tr>\n",
       "      <th>HD</th>\n",
       "      <td>0.000129</td>\n",
       "      <td>0.000050</td>\n",
       "      <td>0.000082</td>\n",
       "      <td>0.000120</td>\n",
       "      <td>0.000144</td>\n",
       "      <td>0.000176</td>\n",
       "      <td>0.000144</td>\n",
       "      <td>1.424338e-04</td>\n",
       "      <td>0.000104</td>\n",
       "      <td>0.000077</td>\n",
       "      <td>...</td>\n",
       "      <td>0.000048</td>\n",
       "      <td>0.000157</td>\n",
       "      <td>0.000106</td>\n",
       "      <td>0.000169</td>\n",
       "      <td>0.000131</td>\n",
       "      <td>0.000062</td>\n",
       "      <td>0.000092</td>\n",
       "      <td>0.000106</td>\n",
       "      <td>0.000072</td>\n",
       "      <td>0.000053</td>\n",
       "    </tr>\n",
       "    <tr>\n",
       "      <th>IBM</th>\n",
       "      <td>0.000078</td>\n",
       "      <td>0.000055</td>\n",
       "      <td>0.000058</td>\n",
       "      <td>0.000119</td>\n",
       "      <td>0.000077</td>\n",
       "      <td>0.000118</td>\n",
       "      <td>0.000066</td>\n",
       "      <td>1.152018e-04</td>\n",
       "      <td>0.000126</td>\n",
       "      <td>0.000085</td>\n",
       "      <td>...</td>\n",
       "      <td>0.000066</td>\n",
       "      <td>0.000109</td>\n",
       "      <td>0.000062</td>\n",
       "      <td>0.000078</td>\n",
       "      <td>0.000101</td>\n",
       "      <td>0.000053</td>\n",
       "      <td>0.000091</td>\n",
       "      <td>0.000129</td>\n",
       "      <td>0.000042</td>\n",
       "      <td>0.000109</td>\n",
       "    </tr>\n",
       "    <tr>\n",
       "      <th>INTU</th>\n",
       "      <td>0.000233</td>\n",
       "      <td>0.000053</td>\n",
       "      <td>0.000119</td>\n",
       "      <td>0.000209</td>\n",
       "      <td>0.000323</td>\n",
       "      <td>0.000377</td>\n",
       "      <td>0.000308</td>\n",
       "      <td>2.819445e-04</td>\n",
       "      <td>0.000136</td>\n",
       "      <td>0.000097</td>\n",
       "      <td>...</td>\n",
       "      <td>0.000047</td>\n",
       "      <td>0.000292</td>\n",
       "      <td>0.000173</td>\n",
       "      <td>0.000397</td>\n",
       "      <td>0.000224</td>\n",
       "      <td>0.000079</td>\n",
       "      <td>0.000164</td>\n",
       "      <td>0.000138</td>\n",
       "      <td>0.000067</td>\n",
       "      <td>0.000059</td>\n",
       "    </tr>\n",
       "    <tr>\n",
       "      <th>ISRG</th>\n",
       "      <td>0.000207</td>\n",
       "      <td>0.000069</td>\n",
       "      <td>0.000143</td>\n",
       "      <td>0.000184</td>\n",
       "      <td>0.000238</td>\n",
       "      <td>0.000323</td>\n",
       "      <td>0.000240</td>\n",
       "      <td>2.472323e-04</td>\n",
       "      <td>0.000130</td>\n",
       "      <td>0.000102</td>\n",
       "      <td>...</td>\n",
       "      <td>0.000057</td>\n",
       "      <td>0.000251</td>\n",
       "      <td>0.000159</td>\n",
       "      <td>0.000325</td>\n",
       "      <td>0.000198</td>\n",
       "      <td>0.000083</td>\n",
       "      <td>0.000159</td>\n",
       "      <td>0.000129</td>\n",
       "      <td>0.000078</td>\n",
       "      <td>0.000080</td>\n",
       "    </tr>\n",
       "    <tr>\n",
       "      <th>JNJ</th>\n",
       "      <td>0.000039</td>\n",
       "      <td>0.000066</td>\n",
       "      <td>0.000068</td>\n",
       "      <td>0.000049</td>\n",
       "      <td>0.000024</td>\n",
       "      <td>0.000006</td>\n",
       "      <td>0.000015</td>\n",
       "      <td>-3.375349e-07</td>\n",
       "      <td>0.000046</td>\n",
       "      <td>0.000053</td>\n",
       "      <td>...</td>\n",
       "      <td>0.000052</td>\n",
       "      <td>0.000016</td>\n",
       "      <td>0.000052</td>\n",
       "      <td>0.000011</td>\n",
       "      <td>0.000035</td>\n",
       "      <td>0.000052</td>\n",
       "      <td>0.000046</td>\n",
       "      <td>0.000046</td>\n",
       "      <td>0.000034</td>\n",
       "      <td>0.000039</td>\n",
       "    </tr>\n",
       "    <tr>\n",
       "      <th>JPM</th>\n",
       "      <td>0.000098</td>\n",
       "      <td>0.000056</td>\n",
       "      <td>0.000066</td>\n",
       "      <td>0.000116</td>\n",
       "      <td>0.000082</td>\n",
       "      <td>0.000139</td>\n",
       "      <td>0.000107</td>\n",
       "      <td>1.371922e-04</td>\n",
       "      <td>0.000281</td>\n",
       "      <td>0.000141</td>\n",
       "      <td>...</td>\n",
       "      <td>0.000077</td>\n",
       "      <td>0.000141</td>\n",
       "      <td>0.000066</td>\n",
       "      <td>0.000181</td>\n",
       "      <td>0.000133</td>\n",
       "      <td>0.000073</td>\n",
       "      <td>0.000126</td>\n",
       "      <td>0.000294</td>\n",
       "      <td>0.000046</td>\n",
       "      <td>0.000159</td>\n",
       "    </tr>\n",
       "    <tr>\n",
       "      <th>KO</th>\n",
       "      <td>0.000060</td>\n",
       "      <td>0.000055</td>\n",
       "      <td>0.000060</td>\n",
       "      <td>0.000065</td>\n",
       "      <td>0.000047</td>\n",
       "      <td>0.000027</td>\n",
       "      <td>0.000035</td>\n",
       "      <td>3.323678e-05</td>\n",
       "      <td>0.000074</td>\n",
       "      <td>0.000069</td>\n",
       "      <td>...</td>\n",
       "      <td>0.000074</td>\n",
       "      <td>0.000044</td>\n",
       "      <td>0.000045</td>\n",
       "      <td>0.000036</td>\n",
       "      <td>0.000049</td>\n",
       "      <td>0.000054</td>\n",
       "      <td>0.000071</td>\n",
       "      <td>0.000076</td>\n",
       "      <td>0.000047</td>\n",
       "      <td>0.000065</td>\n",
       "    </tr>\n",
       "    <tr>\n",
       "      <th>LIN</th>\n",
       "      <td>0.000117</td>\n",
       "      <td>0.000057</td>\n",
       "      <td>0.000084</td>\n",
       "      <td>0.000129</td>\n",
       "      <td>0.000121</td>\n",
       "      <td>0.000169</td>\n",
       "      <td>0.000108</td>\n",
       "      <td>1.369745e-04</td>\n",
       "      <td>0.000124</td>\n",
       "      <td>0.000096</td>\n",
       "      <td>...</td>\n",
       "      <td>0.000064</td>\n",
       "      <td>0.000144</td>\n",
       "      <td>0.000100</td>\n",
       "      <td>0.000152</td>\n",
       "      <td>0.000128</td>\n",
       "      <td>0.000073</td>\n",
       "      <td>0.000115</td>\n",
       "      <td>0.000129</td>\n",
       "      <td>0.000052</td>\n",
       "      <td>0.000088</td>\n",
       "    </tr>\n",
       "    <tr>\n",
       "      <th>LLY</th>\n",
       "      <td>0.000085</td>\n",
       "      <td>0.000091</td>\n",
       "      <td>0.000067</td>\n",
       "      <td>0.000072</td>\n",
       "      <td>0.000091</td>\n",
       "      <td>0.000115</td>\n",
       "      <td>0.000086</td>\n",
       "      <td>9.846812e-05</td>\n",
       "      <td>0.000039</td>\n",
       "      <td>0.000052</td>\n",
       "      <td>...</td>\n",
       "      <td>0.000053</td>\n",
       "      <td>0.000077</td>\n",
       "      <td>0.000075</td>\n",
       "      <td>0.000070</td>\n",
       "      <td>0.000070</td>\n",
       "      <td>0.000048</td>\n",
       "      <td>0.000063</td>\n",
       "      <td>0.000050</td>\n",
       "      <td>0.000053</td>\n",
       "      <td>0.000047</td>\n",
       "    </tr>\n",
       "    <tr>\n",
       "      <th>MA</th>\n",
       "      <td>0.000156</td>\n",
       "      <td>0.000062</td>\n",
       "      <td>0.000094</td>\n",
       "      <td>0.000152</td>\n",
       "      <td>0.000172</td>\n",
       "      <td>0.000211</td>\n",
       "      <td>0.000165</td>\n",
       "      <td>1.682060e-04</td>\n",
       "      <td>0.000147</td>\n",
       "      <td>0.000112</td>\n",
       "      <td>...</td>\n",
       "      <td>0.000069</td>\n",
       "      <td>0.000182</td>\n",
       "      <td>0.000104</td>\n",
       "      <td>0.000218</td>\n",
       "      <td>0.000153</td>\n",
       "      <td>0.000076</td>\n",
       "      <td>0.000214</td>\n",
       "      <td>0.000156</td>\n",
       "      <td>0.000053</td>\n",
       "      <td>0.000109</td>\n",
       "    </tr>\n",
       "    <tr>\n",
       "      <th>MCD</th>\n",
       "      <td>0.000071</td>\n",
       "      <td>0.000039</td>\n",
       "      <td>0.000057</td>\n",
       "      <td>0.000072</td>\n",
       "      <td>0.000067</td>\n",
       "      <td>0.000076</td>\n",
       "      <td>0.000059</td>\n",
       "      <td>6.022525e-05</td>\n",
       "      <td>0.000068</td>\n",
       "      <td>0.000059</td>\n",
       "      <td>...</td>\n",
       "      <td>0.000058</td>\n",
       "      <td>0.000067</td>\n",
       "      <td>0.000055</td>\n",
       "      <td>0.000074</td>\n",
       "      <td>0.000064</td>\n",
       "      <td>0.000054</td>\n",
       "      <td>0.000070</td>\n",
       "      <td>0.000070</td>\n",
       "      <td>0.000038</td>\n",
       "      <td>0.000049</td>\n",
       "    </tr>\n",
       "    <tr>\n",
       "      <th>META</th>\n",
       "      <td>0.000275</td>\n",
       "      <td>0.000028</td>\n",
       "      <td>0.000096</td>\n",
       "      <td>0.000199</td>\n",
       "      <td>0.000330</td>\n",
       "      <td>0.000440</td>\n",
       "      <td>0.000389</td>\n",
       "      <td>3.101755e-04</td>\n",
       "      <td>0.000138</td>\n",
       "      <td>0.000096</td>\n",
       "      <td>...</td>\n",
       "      <td>0.000042</td>\n",
       "      <td>0.000321</td>\n",
       "      <td>0.000154</td>\n",
       "      <td>0.000389</td>\n",
       "      <td>0.000235</td>\n",
       "      <td>0.000038</td>\n",
       "      <td>0.000158</td>\n",
       "      <td>0.000136</td>\n",
       "      <td>0.000074</td>\n",
       "      <td>0.000043</td>\n",
       "    </tr>\n",
       "    <tr>\n",
       "      <th>MRK</th>\n",
       "      <td>0.000043</td>\n",
       "      <td>0.000078</td>\n",
       "      <td>0.000058</td>\n",
       "      <td>0.000036</td>\n",
       "      <td>0.000017</td>\n",
       "      <td>0.000014</td>\n",
       "      <td>0.000024</td>\n",
       "      <td>2.191943e-05</td>\n",
       "      <td>0.000047</td>\n",
       "      <td>0.000048</td>\n",
       "      <td>...</td>\n",
       "      <td>0.000048</td>\n",
       "      <td>0.000031</td>\n",
       "      <td>0.000070</td>\n",
       "      <td>0.000015</td>\n",
       "      <td>0.000040</td>\n",
       "      <td>0.000051</td>\n",
       "      <td>0.000046</td>\n",
       "      <td>0.000045</td>\n",
       "      <td>0.000031</td>\n",
       "      <td>0.000051</td>\n",
       "    </tr>\n",
       "    <tr>\n",
       "      <th>MSFT</th>\n",
       "      <td>0.000217</td>\n",
       "      <td>0.000039</td>\n",
       "      <td>0.000090</td>\n",
       "      <td>0.000159</td>\n",
       "      <td>0.000256</td>\n",
       "      <td>0.000319</td>\n",
       "      <td>0.000265</td>\n",
       "      <td>2.386401e-04</td>\n",
       "      <td>0.000088</td>\n",
       "      <td>0.000075</td>\n",
       "      <td>...</td>\n",
       "      <td>0.000033</td>\n",
       "      <td>0.000237</td>\n",
       "      <td>0.000126</td>\n",
       "      <td>0.000313</td>\n",
       "      <td>0.000177</td>\n",
       "      <td>0.000066</td>\n",
       "      <td>0.000123</td>\n",
       "      <td>0.000090</td>\n",
       "      <td>0.000063</td>\n",
       "      <td>0.000034</td>\n",
       "    </tr>\n",
       "    <tr>\n",
       "      <th>NFLX</th>\n",
       "      <td>0.000230</td>\n",
       "      <td>0.000026</td>\n",
       "      <td>0.000069</td>\n",
       "      <td>0.000172</td>\n",
       "      <td>0.000298</td>\n",
       "      <td>0.000388</td>\n",
       "      <td>0.000333</td>\n",
       "      <td>2.613575e-04</td>\n",
       "      <td>0.000096</td>\n",
       "      <td>0.000071</td>\n",
       "      <td>...</td>\n",
       "      <td>0.000027</td>\n",
       "      <td>0.000269</td>\n",
       "      <td>0.000131</td>\n",
       "      <td>0.000425</td>\n",
       "      <td>0.000184</td>\n",
       "      <td>0.000034</td>\n",
       "      <td>0.000130</td>\n",
       "      <td>0.000089</td>\n",
       "      <td>0.000072</td>\n",
       "      <td>0.000034</td>\n",
       "    </tr>\n",
       "    <tr>\n",
       "      <th>NOW</th>\n",
       "      <td>0.000251</td>\n",
       "      <td>0.000048</td>\n",
       "      <td>0.000121</td>\n",
       "      <td>0.000220</td>\n",
       "      <td>0.000394</td>\n",
       "      <td>0.000443</td>\n",
       "      <td>0.000355</td>\n",
       "      <td>3.162982e-04</td>\n",
       "      <td>0.000100</td>\n",
       "      <td>0.000074</td>\n",
       "      <td>...</td>\n",
       "      <td>0.000032</td>\n",
       "      <td>0.000317</td>\n",
       "      <td>0.000199</td>\n",
       "      <td>0.000442</td>\n",
       "      <td>0.000233</td>\n",
       "      <td>0.000069</td>\n",
       "      <td>0.000164</td>\n",
       "      <td>0.000102</td>\n",
       "      <td>0.000069</td>\n",
       "      <td>0.000038</td>\n",
       "    </tr>\n",
       "    <tr>\n",
       "      <th>NVDA</th>\n",
       "      <td>0.000343</td>\n",
       "      <td>0.000030</td>\n",
       "      <td>0.000111</td>\n",
       "      <td>0.000243</td>\n",
       "      <td>0.000424</td>\n",
       "      <td>0.000783</td>\n",
       "      <td>0.000436</td>\n",
       "      <td>5.655036e-04</td>\n",
       "      <td>0.000147</td>\n",
       "      <td>0.000099</td>\n",
       "      <td>...</td>\n",
       "      <td>0.000017</td>\n",
       "      <td>0.000522</td>\n",
       "      <td>0.000214</td>\n",
       "      <td>0.000642</td>\n",
       "      <td>0.000355</td>\n",
       "      <td>0.000072</td>\n",
       "      <td>0.000192</td>\n",
       "      <td>0.000152</td>\n",
       "      <td>0.000079</td>\n",
       "      <td>0.000054</td>\n",
       "    </tr>\n",
       "    <tr>\n",
       "      <th>ORCL</th>\n",
       "      <td>0.000145</td>\n",
       "      <td>0.000035</td>\n",
       "      <td>0.000061</td>\n",
       "      <td>0.000139</td>\n",
       "      <td>0.000189</td>\n",
       "      <td>0.000241</td>\n",
       "      <td>0.000174</td>\n",
       "      <td>2.374578e-04</td>\n",
       "      <td>0.000115</td>\n",
       "      <td>0.000085</td>\n",
       "      <td>...</td>\n",
       "      <td>0.000048</td>\n",
       "      <td>0.000182</td>\n",
       "      <td>0.000096</td>\n",
       "      <td>0.000231</td>\n",
       "      <td>0.000146</td>\n",
       "      <td>0.000058</td>\n",
       "      <td>0.000111</td>\n",
       "      <td>0.000120</td>\n",
       "      <td>0.000062</td>\n",
       "      <td>0.000057</td>\n",
       "    </tr>\n",
       "    <tr>\n",
       "      <th>PEP</th>\n",
       "      <td>0.000070</td>\n",
       "      <td>0.000056</td>\n",
       "      <td>0.000063</td>\n",
       "      <td>0.000061</td>\n",
       "      <td>0.000062</td>\n",
       "      <td>0.000037</td>\n",
       "      <td>0.000047</td>\n",
       "      <td>3.132311e-05</td>\n",
       "      <td>0.000041</td>\n",
       "      <td>0.000052</td>\n",
       "      <td>...</td>\n",
       "      <td>0.000060</td>\n",
       "      <td>0.000045</td>\n",
       "      <td>0.000057</td>\n",
       "      <td>0.000051</td>\n",
       "      <td>0.000053</td>\n",
       "      <td>0.000056</td>\n",
       "      <td>0.000058</td>\n",
       "      <td>0.000037</td>\n",
       "      <td>0.000053</td>\n",
       "      <td>0.000039</td>\n",
       "    </tr>\n",
       "    <tr>\n",
       "      <th>PG</th>\n",
       "      <td>0.000057</td>\n",
       "      <td>0.000052</td>\n",
       "      <td>0.000069</td>\n",
       "      <td>0.000062</td>\n",
       "      <td>0.000048</td>\n",
       "      <td>0.000032</td>\n",
       "      <td>0.000033</td>\n",
       "      <td>2.977335e-05</td>\n",
       "      <td>0.000040</td>\n",
       "      <td>0.000048</td>\n",
       "      <td>...</td>\n",
       "      <td>0.000061</td>\n",
       "      <td>0.000045</td>\n",
       "      <td>0.000058</td>\n",
       "      <td>0.000031</td>\n",
       "      <td>0.000043</td>\n",
       "      <td>0.000052</td>\n",
       "      <td>0.000055</td>\n",
       "      <td>0.000036</td>\n",
       "      <td>0.000055</td>\n",
       "      <td>0.000019</td>\n",
       "    </tr>\n",
       "    <tr>\n",
       "      <th>PM</th>\n",
       "      <td>0.000050</td>\n",
       "      <td>0.000061</td>\n",
       "      <td>0.000056</td>\n",
       "      <td>0.000054</td>\n",
       "      <td>0.000035</td>\n",
       "      <td>0.000026</td>\n",
       "      <td>0.000025</td>\n",
       "      <td>3.009482e-05</td>\n",
       "      <td>0.000089</td>\n",
       "      <td>0.000064</td>\n",
       "      <td>...</td>\n",
       "      <td>0.000183</td>\n",
       "      <td>0.000041</td>\n",
       "      <td>0.000041</td>\n",
       "      <td>0.000038</td>\n",
       "      <td>0.000054</td>\n",
       "      <td>0.000043</td>\n",
       "      <td>0.000061</td>\n",
       "      <td>0.000092</td>\n",
       "      <td>0.000043</td>\n",
       "      <td>0.000073</td>\n",
       "    </tr>\n",
       "    <tr>\n",
       "      <th>QCOM</th>\n",
       "      <td>0.000272</td>\n",
       "      <td>0.000044</td>\n",
       "      <td>0.000103</td>\n",
       "      <td>0.000187</td>\n",
       "      <td>0.000283</td>\n",
       "      <td>0.000503</td>\n",
       "      <td>0.000291</td>\n",
       "      <td>4.095747e-04</td>\n",
       "      <td>0.000166</td>\n",
       "      <td>0.000100</td>\n",
       "      <td>...</td>\n",
       "      <td>0.000041</td>\n",
       "      <td>0.000614</td>\n",
       "      <td>0.000161</td>\n",
       "      <td>0.000443</td>\n",
       "      <td>0.000323</td>\n",
       "      <td>0.000064</td>\n",
       "      <td>0.000151</td>\n",
       "      <td>0.000171</td>\n",
       "      <td>0.000061</td>\n",
       "      <td>0.000100</td>\n",
       "    </tr>\n",
       "    <tr>\n",
       "      <th>TMO</th>\n",
       "      <td>0.000132</td>\n",
       "      <td>0.000065</td>\n",
       "      <td>0.000131</td>\n",
       "      <td>0.000129</td>\n",
       "      <td>0.000162</td>\n",
       "      <td>0.000205</td>\n",
       "      <td>0.000148</td>\n",
       "      <td>1.444230e-04</td>\n",
       "      <td>0.000074</td>\n",
       "      <td>0.000064</td>\n",
       "      <td>...</td>\n",
       "      <td>0.000041</td>\n",
       "      <td>0.000161</td>\n",
       "      <td>0.000270</td>\n",
       "      <td>0.000193</td>\n",
       "      <td>0.000141</td>\n",
       "      <td>0.000075</td>\n",
       "      <td>0.000094</td>\n",
       "      <td>0.000065</td>\n",
       "      <td>0.000050</td>\n",
       "      <td>0.000029</td>\n",
       "    </tr>\n",
       "    <tr>\n",
       "      <th>TSLA</th>\n",
       "      <td>0.000383</td>\n",
       "      <td>0.000027</td>\n",
       "      <td>0.000096</td>\n",
       "      <td>0.000212</td>\n",
       "      <td>0.000365</td>\n",
       "      <td>0.000600</td>\n",
       "      <td>0.000421</td>\n",
       "      <td>4.550157e-04</td>\n",
       "      <td>0.000208</td>\n",
       "      <td>0.000111</td>\n",
       "      <td>...</td>\n",
       "      <td>0.000038</td>\n",
       "      <td>0.000443</td>\n",
       "      <td>0.000193</td>\n",
       "      <td>0.001623</td>\n",
       "      <td>0.000338</td>\n",
       "      <td>0.000073</td>\n",
       "      <td>0.000197</td>\n",
       "      <td>0.000230</td>\n",
       "      <td>0.000106</td>\n",
       "      <td>0.000076</td>\n",
       "    </tr>\n",
       "    <tr>\n",
       "      <th>TXN</th>\n",
       "      <td>0.000201</td>\n",
       "      <td>0.000057</td>\n",
       "      <td>0.000087</td>\n",
       "      <td>0.000161</td>\n",
       "      <td>0.000205</td>\n",
       "      <td>0.000362</td>\n",
       "      <td>0.000209</td>\n",
       "      <td>2.898558e-04</td>\n",
       "      <td>0.000150</td>\n",
       "      <td>0.000099</td>\n",
       "      <td>...</td>\n",
       "      <td>0.000054</td>\n",
       "      <td>0.000323</td>\n",
       "      <td>0.000141</td>\n",
       "      <td>0.000338</td>\n",
       "      <td>0.000350</td>\n",
       "      <td>0.000067</td>\n",
       "      <td>0.000132</td>\n",
       "      <td>0.000158</td>\n",
       "      <td>0.000059</td>\n",
       "      <td>0.000101</td>\n",
       "    </tr>\n",
       "    <tr>\n",
       "      <th>UNH</th>\n",
       "      <td>0.000063</td>\n",
       "      <td>0.000064</td>\n",
       "      <td>0.000061</td>\n",
       "      <td>0.000077</td>\n",
       "      <td>0.000059</td>\n",
       "      <td>0.000071</td>\n",
       "      <td>0.000048</td>\n",
       "      <td>5.479191e-05</td>\n",
       "      <td>0.000076</td>\n",
       "      <td>0.000066</td>\n",
       "      <td>...</td>\n",
       "      <td>0.000043</td>\n",
       "      <td>0.000064</td>\n",
       "      <td>0.000075</td>\n",
       "      <td>0.000073</td>\n",
       "      <td>0.000067</td>\n",
       "      <td>0.000292</td>\n",
       "      <td>0.000070</td>\n",
       "      <td>0.000080</td>\n",
       "      <td>0.000037</td>\n",
       "      <td>0.000058</td>\n",
       "    </tr>\n",
       "    <tr>\n",
       "      <th>V</th>\n",
       "      <td>0.000136</td>\n",
       "      <td>0.000060</td>\n",
       "      <td>0.000087</td>\n",
       "      <td>0.000134</td>\n",
       "      <td>0.000154</td>\n",
       "      <td>0.000183</td>\n",
       "      <td>0.000140</td>\n",
       "      <td>1.419036e-04</td>\n",
       "      <td>0.000133</td>\n",
       "      <td>0.000100</td>\n",
       "      <td>...</td>\n",
       "      <td>0.000061</td>\n",
       "      <td>0.000151</td>\n",
       "      <td>0.000094</td>\n",
       "      <td>0.000197</td>\n",
       "      <td>0.000132</td>\n",
       "      <td>0.000070</td>\n",
       "      <td>0.000217</td>\n",
       "      <td>0.000139</td>\n",
       "      <td>0.000049</td>\n",
       "      <td>0.000094</td>\n",
       "    </tr>\n",
       "    <tr>\n",
       "      <th>WFC</th>\n",
       "      <td>0.000106</td>\n",
       "      <td>0.000064</td>\n",
       "      <td>0.000061</td>\n",
       "      <td>0.000132</td>\n",
       "      <td>0.000087</td>\n",
       "      <td>0.000166</td>\n",
       "      <td>0.000122</td>\n",
       "      <td>1.530170e-04</td>\n",
       "      <td>0.000351</td>\n",
       "      <td>0.000160</td>\n",
       "      <td>...</td>\n",
       "      <td>0.000092</td>\n",
       "      <td>0.000171</td>\n",
       "      <td>0.000065</td>\n",
       "      <td>0.000230</td>\n",
       "      <td>0.000158</td>\n",
       "      <td>0.000080</td>\n",
       "      <td>0.000139</td>\n",
       "      <td>0.000473</td>\n",
       "      <td>0.000044</td>\n",
       "      <td>0.000198</td>\n",
       "    </tr>\n",
       "    <tr>\n",
       "      <th>WMT</th>\n",
       "      <td>0.000077</td>\n",
       "      <td>0.000041</td>\n",
       "      <td>0.000042</td>\n",
       "      <td>0.000060</td>\n",
       "      <td>0.000065</td>\n",
       "      <td>0.000075</td>\n",
       "      <td>0.000081</td>\n",
       "      <td>6.331302e-05</td>\n",
       "      <td>0.000050</td>\n",
       "      <td>0.000048</td>\n",
       "      <td>...</td>\n",
       "      <td>0.000043</td>\n",
       "      <td>0.000061</td>\n",
       "      <td>0.000050</td>\n",
       "      <td>0.000106</td>\n",
       "      <td>0.000059</td>\n",
       "      <td>0.000037</td>\n",
       "      <td>0.000049</td>\n",
       "      <td>0.000044</td>\n",
       "      <td>0.000177</td>\n",
       "      <td>0.000033</td>\n",
       "    </tr>\n",
       "    <tr>\n",
       "      <th>XOM</th>\n",
       "      <td>0.000069</td>\n",
       "      <td>0.000065</td>\n",
       "      <td>0.000030</td>\n",
       "      <td>0.000077</td>\n",
       "      <td>0.000035</td>\n",
       "      <td>0.000076</td>\n",
       "      <td>0.000046</td>\n",
       "      <td>7.604960e-05</td>\n",
       "      <td>0.000190</td>\n",
       "      <td>0.000113</td>\n",
       "      <td>...</td>\n",
       "      <td>0.000073</td>\n",
       "      <td>0.000100</td>\n",
       "      <td>0.000029</td>\n",
       "      <td>0.000076</td>\n",
       "      <td>0.000101</td>\n",
       "      <td>0.000058</td>\n",
       "      <td>0.000094</td>\n",
       "      <td>0.000198</td>\n",
       "      <td>0.000033</td>\n",
       "      <td>0.000376</td>\n",
       "    </tr>\n",
       "  </tbody>\n",
       "</table>\n",
       "<p>50 rows × 50 columns</p>\n",
       "</div>"
      ],
      "text/plain": [
       "Ticker      AAPL      ABBV       ABT       ACN      ADBE       AMD      AMZN  \\\n",
       "Ticker                                                                         \n",
       "AAPL    0.000352  0.000046  0.000087  0.000159  0.000237  0.000331  0.000251   \n",
       "ABBV    0.000046  0.000207  0.000071  0.000053  0.000045  0.000030  0.000032   \n",
       "ABT     0.000087  0.000071  0.000205  0.000101  0.000111  0.000110  0.000091   \n",
       "ACN     0.000159  0.000053  0.000101  0.000273  0.000198  0.000226  0.000180   \n",
       "ADBE    0.000237  0.000045  0.000111  0.000198  0.000532  0.000383  0.000301   \n",
       "AMD     0.000331  0.000030  0.000110  0.000226  0.000383  0.001050  0.000402   \n",
       "AMZN    0.000251  0.000032  0.000091  0.000180  0.000301  0.000402  0.000506   \n",
       "AVGO    0.000241  0.000041  0.000076  0.000179  0.000281  0.000479  0.000290   \n",
       "BAC     0.000109  0.000058  0.000067  0.000126  0.000085  0.000161  0.000123   \n",
       "BRK-B   0.000092  0.000054  0.000063  0.000099  0.000075  0.000105  0.000086   \n",
       "CAT     0.000101  0.000051  0.000048  0.000123  0.000084  0.000177  0.000109   \n",
       "COST    0.000132  0.000040  0.000070  0.000105  0.000150  0.000187  0.000152   \n",
       "CRM     0.000215  0.000038  0.000105  0.000194  0.000341  0.000363  0.000300   \n",
       "CSCO    0.000128  0.000054  0.000074  0.000123  0.000136  0.000181  0.000128   \n",
       "CVX     0.000075  0.000064  0.000035  0.000086  0.000048  0.000095  0.000061   \n",
       "DIS     0.000143  0.000039  0.000068  0.000142  0.000145  0.000210  0.000183   \n",
       "GE      0.000116  0.000055  0.000067  0.000138  0.000108  0.000194  0.000137   \n",
       "GOOG    0.000215  0.000038  0.000081  0.000162  0.000252  0.000336  0.000287   \n",
       "GOOGL   0.000216  0.000039  0.000082  0.000162  0.000252  0.000340  0.000286   \n",
       "GS      0.000133  0.000054  0.000067  0.000133  0.000119  0.000201  0.000155   \n",
       "HD      0.000129  0.000050  0.000082  0.000120  0.000144  0.000176  0.000144   \n",
       "IBM     0.000078  0.000055  0.000058  0.000119  0.000077  0.000118  0.000066   \n",
       "INTU    0.000233  0.000053  0.000119  0.000209  0.000323  0.000377  0.000308   \n",
       "ISRG    0.000207  0.000069  0.000143  0.000184  0.000238  0.000323  0.000240   \n",
       "JNJ     0.000039  0.000066  0.000068  0.000049  0.000024  0.000006  0.000015   \n",
       "JPM     0.000098  0.000056  0.000066  0.000116  0.000082  0.000139  0.000107   \n",
       "KO      0.000060  0.000055  0.000060  0.000065  0.000047  0.000027  0.000035   \n",
       "LIN     0.000117  0.000057  0.000084  0.000129  0.000121  0.000169  0.000108   \n",
       "LLY     0.000085  0.000091  0.000067  0.000072  0.000091  0.000115  0.000086   \n",
       "MA      0.000156  0.000062  0.000094  0.000152  0.000172  0.000211  0.000165   \n",
       "MCD     0.000071  0.000039  0.000057  0.000072  0.000067  0.000076  0.000059   \n",
       "META    0.000275  0.000028  0.000096  0.000199  0.000330  0.000440  0.000389   \n",
       "MRK     0.000043  0.000078  0.000058  0.000036  0.000017  0.000014  0.000024   \n",
       "MSFT    0.000217  0.000039  0.000090  0.000159  0.000256  0.000319  0.000265   \n",
       "NFLX    0.000230  0.000026  0.000069  0.000172  0.000298  0.000388  0.000333   \n",
       "NOW     0.000251  0.000048  0.000121  0.000220  0.000394  0.000443  0.000355   \n",
       "NVDA    0.000343  0.000030  0.000111  0.000243  0.000424  0.000783  0.000436   \n",
       "ORCL    0.000145  0.000035  0.000061  0.000139  0.000189  0.000241  0.000174   \n",
       "PEP     0.000070  0.000056  0.000063  0.000061  0.000062  0.000037  0.000047   \n",
       "PG      0.000057  0.000052  0.000069  0.000062  0.000048  0.000032  0.000033   \n",
       "PM      0.000050  0.000061  0.000056  0.000054  0.000035  0.000026  0.000025   \n",
       "QCOM    0.000272  0.000044  0.000103  0.000187  0.000283  0.000503  0.000291   \n",
       "TMO     0.000132  0.000065  0.000131  0.000129  0.000162  0.000205  0.000148   \n",
       "TSLA    0.000383  0.000027  0.000096  0.000212  0.000365  0.000600  0.000421   \n",
       "TXN     0.000201  0.000057  0.000087  0.000161  0.000205  0.000362  0.000209   \n",
       "UNH     0.000063  0.000064  0.000061  0.000077  0.000059  0.000071  0.000048   \n",
       "V       0.000136  0.000060  0.000087  0.000134  0.000154  0.000183  0.000140   \n",
       "WFC     0.000106  0.000064  0.000061  0.000132  0.000087  0.000166  0.000122   \n",
       "WMT     0.000077  0.000041  0.000042  0.000060  0.000065  0.000075  0.000081   \n",
       "XOM     0.000069  0.000065  0.000030  0.000077  0.000035  0.000076  0.000046   \n",
       "\n",
       "Ticker          AVGO       BAC     BRK-B  ...        PM      QCOM       TMO  \\\n",
       "Ticker                                    ...                                 \n",
       "AAPL    2.410917e-04  0.000109  0.000092  ...  0.000050  0.000272  0.000132   \n",
       "ABBV    4.084526e-05  0.000058  0.000054  ...  0.000061  0.000044  0.000065   \n",
       "ABT     7.565255e-05  0.000067  0.000063  ...  0.000056  0.000103  0.000131   \n",
       "ACN     1.793058e-04  0.000126  0.000099  ...  0.000054  0.000187  0.000129   \n",
       "ADBE    2.810384e-04  0.000085  0.000075  ...  0.000035  0.000283  0.000162   \n",
       "AMD     4.787945e-04  0.000161  0.000105  ...  0.000026  0.000503  0.000205   \n",
       "AMZN    2.895883e-04  0.000123  0.000086  ...  0.000025  0.000291  0.000148   \n",
       "AVGO    6.449750e-04  0.000140  0.000087  ...  0.000030  0.000410  0.000144   \n",
       "BAC     1.402181e-04  0.000370  0.000151  ...  0.000089  0.000166  0.000074   \n",
       "BRK-B   8.708329e-05  0.000151  0.000135  ...  0.000064  0.000100  0.000064   \n",
       "CAT     1.777794e-04  0.000218  0.000128  ...  0.000069  0.000182  0.000072   \n",
       "COST    1.506524e-04  0.000060  0.000059  ...  0.000041  0.000150  0.000089   \n",
       "CRM     2.524530e-04  0.000123  0.000083  ...  0.000032  0.000269  0.000144   \n",
       "CSCO    1.728533e-04  0.000119  0.000085  ...  0.000063  0.000152  0.000091   \n",
       "CVX     9.163788e-05  0.000185  0.000111  ...  0.000070  0.000112  0.000042   \n",
       "DIS     1.568837e-04  0.000193  0.000116  ...  0.000072  0.000178  0.000089   \n",
       "GE      1.985194e-04  0.000233  0.000135  ...  0.000070  0.000184  0.000075   \n",
       "GOOG    2.391966e-04  0.000116  0.000089  ...  0.000037  0.000246  0.000130   \n",
       "GOOGL   2.418827e-04  0.000115  0.000088  ...  0.000037  0.000248  0.000131   \n",
       "GS      1.825838e-04  0.000279  0.000139  ...  0.000073  0.000189  0.000087   \n",
       "HD      1.424338e-04  0.000104  0.000077  ...  0.000048  0.000157  0.000106   \n",
       "IBM     1.152018e-04  0.000126  0.000085  ...  0.000066  0.000109  0.000062   \n",
       "INTU    2.819445e-04  0.000136  0.000097  ...  0.000047  0.000292  0.000173   \n",
       "ISRG    2.472323e-04  0.000130  0.000102  ...  0.000057  0.000251  0.000159   \n",
       "JNJ    -3.375349e-07  0.000046  0.000053  ...  0.000052  0.000016  0.000052   \n",
       "JPM     1.371922e-04  0.000281  0.000141  ...  0.000077  0.000141  0.000066   \n",
       "KO      3.323678e-05  0.000074  0.000069  ...  0.000074  0.000044  0.000045   \n",
       "LIN     1.369745e-04  0.000124  0.000096  ...  0.000064  0.000144  0.000100   \n",
       "LLY     9.846812e-05  0.000039  0.000052  ...  0.000053  0.000077  0.000075   \n",
       "MA      1.682060e-04  0.000147  0.000112  ...  0.000069  0.000182  0.000104   \n",
       "MCD     6.022525e-05  0.000068  0.000059  ...  0.000058  0.000067  0.000055   \n",
       "META    3.101755e-04  0.000138  0.000096  ...  0.000042  0.000321  0.000154   \n",
       "MRK     2.191943e-05  0.000047  0.000048  ...  0.000048  0.000031  0.000070   \n",
       "MSFT    2.386401e-04  0.000088  0.000075  ...  0.000033  0.000237  0.000126   \n",
       "NFLX    2.613575e-04  0.000096  0.000071  ...  0.000027  0.000269  0.000131   \n",
       "NOW     3.162982e-04  0.000100  0.000074  ...  0.000032  0.000317  0.000199   \n",
       "NVDA    5.655036e-04  0.000147  0.000099  ...  0.000017  0.000522  0.000214   \n",
       "ORCL    2.374578e-04  0.000115  0.000085  ...  0.000048  0.000182  0.000096   \n",
       "PEP     3.132311e-05  0.000041  0.000052  ...  0.000060  0.000045  0.000057   \n",
       "PG      2.977335e-05  0.000040  0.000048  ...  0.000061  0.000045  0.000058   \n",
       "PM      3.009482e-05  0.000089  0.000064  ...  0.000183  0.000041  0.000041   \n",
       "QCOM    4.095747e-04  0.000166  0.000100  ...  0.000041  0.000614  0.000161   \n",
       "TMO     1.444230e-04  0.000074  0.000064  ...  0.000041  0.000161  0.000270   \n",
       "TSLA    4.550157e-04  0.000208  0.000111  ...  0.000038  0.000443  0.000193   \n",
       "TXN     2.898558e-04  0.000150  0.000099  ...  0.000054  0.000323  0.000141   \n",
       "UNH     5.479191e-05  0.000076  0.000066  ...  0.000043  0.000064  0.000075   \n",
       "V       1.419036e-04  0.000133  0.000100  ...  0.000061  0.000151  0.000094   \n",
       "WFC     1.530170e-04  0.000351  0.000160  ...  0.000092  0.000171  0.000065   \n",
       "WMT     6.331302e-05  0.000050  0.000048  ...  0.000043  0.000061  0.000050   \n",
       "XOM     7.604960e-05  0.000190  0.000113  ...  0.000073  0.000100  0.000029   \n",
       "\n",
       "Ticker      TSLA       TXN       UNH         V       WFC       WMT       XOM  \n",
       "Ticker                                                                        \n",
       "AAPL    0.000383  0.000201  0.000063  0.000136  0.000106  0.000077  0.000069  \n",
       "ABBV    0.000027  0.000057  0.000064  0.000060  0.000064  0.000041  0.000065  \n",
       "ABT     0.000096  0.000087  0.000061  0.000087  0.000061  0.000042  0.000030  \n",
       "ACN     0.000212  0.000161  0.000077  0.000134  0.000132  0.000060  0.000077  \n",
       "ADBE    0.000365  0.000205  0.000059  0.000154  0.000087  0.000065  0.000035  \n",
       "AMD     0.000600  0.000362  0.000071  0.000183  0.000166  0.000075  0.000076  \n",
       "AMZN    0.000421  0.000209  0.000048  0.000140  0.000122  0.000081  0.000046  \n",
       "AVGO    0.000455  0.000290  0.000055  0.000142  0.000153  0.000063  0.000076  \n",
       "BAC     0.000208  0.000150  0.000076  0.000133  0.000351  0.000050  0.000190  \n",
       "BRK-B   0.000111  0.000099  0.000066  0.000100  0.000160  0.000048  0.000113  \n",
       "CAT     0.000178  0.000164  0.000057  0.000112  0.000220  0.000044  0.000195  \n",
       "COST    0.000208  0.000119  0.000052  0.000082  0.000059  0.000106  0.000027  \n",
       "CRM     0.000391  0.000191  0.000062  0.000148  0.000120  0.000063  0.000060  \n",
       "CSCO    0.000162  0.000140  0.000065  0.000101  0.000119  0.000065  0.000088  \n",
       "CVX     0.000100  0.000112  0.000065  0.000091  0.000193  0.000039  0.000305  \n",
       "DIS     0.000230  0.000156  0.000047  0.000147  0.000192  0.000055  0.000139  \n",
       "GE      0.000209  0.000168  0.000068  0.000139  0.000258  0.000047  0.000182  \n",
       "GOOG    0.000326  0.000184  0.000064  0.000130  0.000122  0.000062  0.000060  \n",
       "GOOGL   0.000326  0.000185  0.000064  0.000130  0.000121  0.000061  0.000060  \n",
       "GS      0.000242  0.000171  0.000068  0.000132  0.000298  0.000053  0.000163  \n",
       "HD      0.000169  0.000131  0.000062  0.000092  0.000106  0.000072  0.000053  \n",
       "IBM     0.000078  0.000101  0.000053  0.000091  0.000129  0.000042  0.000109  \n",
       "INTU    0.000397  0.000224  0.000079  0.000164  0.000138  0.000067  0.000059  \n",
       "ISRG    0.000325  0.000198  0.000083  0.000159  0.000129  0.000078  0.000080  \n",
       "JNJ     0.000011  0.000035  0.000052  0.000046  0.000046  0.000034  0.000039  \n",
       "JPM     0.000181  0.000133  0.000073  0.000126  0.000294  0.000046  0.000159  \n",
       "KO      0.000036  0.000049  0.000054  0.000071  0.000076  0.000047  0.000065  \n",
       "LIN     0.000152  0.000128  0.000073  0.000115  0.000129  0.000052  0.000088  \n",
       "LLY     0.000070  0.000070  0.000048  0.000063  0.000050  0.000053  0.000047  \n",
       "MA      0.000218  0.000153  0.000076  0.000214  0.000156  0.000053  0.000109  \n",
       "MCD     0.000074  0.000064  0.000054  0.000070  0.000070  0.000038  0.000049  \n",
       "META    0.000389  0.000235  0.000038  0.000158  0.000136  0.000074  0.000043  \n",
       "MRK     0.000015  0.000040  0.000051  0.000046  0.000045  0.000031  0.000051  \n",
       "MSFT    0.000313  0.000177  0.000066  0.000123  0.000090  0.000063  0.000034  \n",
       "NFLX    0.000425  0.000184  0.000034  0.000130  0.000089  0.000072  0.000034  \n",
       "NOW     0.000442  0.000233  0.000069  0.000164  0.000102  0.000069  0.000038  \n",
       "NVDA    0.000642  0.000355  0.000072  0.000192  0.000152  0.000079  0.000054  \n",
       "ORCL    0.000231  0.000146  0.000058  0.000111  0.000120  0.000062  0.000057  \n",
       "PEP     0.000051  0.000053  0.000056  0.000058  0.000037  0.000053  0.000039  \n",
       "PG      0.000031  0.000043  0.000052  0.000055  0.000036  0.000055  0.000019  \n",
       "PM      0.000038  0.000054  0.000043  0.000061  0.000092  0.000043  0.000073  \n",
       "QCOM    0.000443  0.000323  0.000064  0.000151  0.000171  0.000061  0.000100  \n",
       "TMO     0.000193  0.000141  0.000075  0.000094  0.000065  0.000050  0.000029  \n",
       "TSLA    0.001623  0.000338  0.000073  0.000197  0.000230  0.000106  0.000076  \n",
       "TXN     0.000338  0.000350  0.000067  0.000132  0.000158  0.000059  0.000101  \n",
       "UNH     0.000073  0.000067  0.000292  0.000070  0.000080  0.000037  0.000058  \n",
       "V       0.000197  0.000132  0.000070  0.000217  0.000139  0.000049  0.000094  \n",
       "WFC     0.000230  0.000158  0.000080  0.000139  0.000473  0.000044  0.000198  \n",
       "WMT     0.000106  0.000059  0.000037  0.000049  0.000044  0.000177  0.000033  \n",
       "XOM     0.000076  0.000101  0.000058  0.000094  0.000198  0.000033  0.000376  \n",
       "\n",
       "[50 rows x 50 columns]"
      ]
     },
     "execution_count": 17,
     "metadata": {},
     "output_type": "execute_result"
    }
   ],
   "source": [
    "# Log of percentage change\n",
    "cov_matrix = data.pct_change().apply(lambda x: np.log(1+x)).cov()\n",
    "cov_matrix"
   ]
  },
  {
   "cell_type": "code",
   "execution_count": 19,
   "metadata": {
    "colab": {
     "base_uri": "https://localhost:8080/"
    },
    "id": "PfoPrHfNirUs",
    "outputId": "7188b4d6-f387-49bd-acfd-a15b3217ebee"
   },
   "outputs": [
    {
     "name": "stderr",
     "output_type": "stream",
     "text": [
      "C:\\Users\\kaomi\\AppData\\Local\\Temp\\ipykernel_18768\\1202306265.py:2: FutureWarning: 'Y' is deprecated and will be removed in a future version, please use 'YE' instead.\n",
      "  ind_er = data.resample('Y').last().pct_change().mean()\n"
     ]
    },
    {
     "data": {
      "text/plain": [
       "Ticker\n",
       "AAPL     0.144785\n",
       "ABBV     0.171995\n",
       "ABT      0.066874\n",
       "ACN      0.093992\n",
       "ADBE     0.015946\n",
       "AMD      0.181952\n",
       "AMZN     0.126898\n",
       "AVGO     0.481199\n",
       "BAC      0.112059\n",
       "BRK-B    0.185496\n",
       "CAT      0.141239\n",
       "COST     0.259500\n",
       "CRM      0.145628\n",
       "CSCO     0.103519\n",
       "CVX      0.179200\n",
       "DIS     -0.095671\n",
       "GE       0.359469\n",
       "GOOG     0.212281\n",
       "GOOGL    0.210481\n",
       "GS       0.208027\n",
       "HD       0.116342\n",
       "IBM      0.196065\n",
       "INTU     0.187091\n",
       "ISRG     0.172221\n",
       "JNJ      0.025385\n",
       "JPM      0.186453\n",
       "KO       0.086978\n",
       "LIN      0.135632\n",
       "LLY      0.418809\n",
       "MA       0.097768\n",
       "MCD      0.105221\n",
       "META     0.427742\n",
       "MRK      0.063629\n",
       "MSFT     0.178487\n",
       "NFLX     0.269656\n",
       "NOW      0.197391\n",
       "NVDA     0.933348\n",
       "ORCL     0.216350\n",
       "PEP      0.011112\n",
       "PG       0.059705\n",
       "PM       0.216570\n",
       "QCOM     0.046366\n",
       "TMO      0.006853\n",
       "TSLA     0.242565\n",
       "TXN      0.027185\n",
       "UNH      0.063537\n",
       "V        0.106301\n",
       "WFC      0.240724\n",
       "WMT      0.189941\n",
       "XOM      0.303240\n",
       "dtype: float64"
      ]
     },
     "execution_count": 19,
     "metadata": {},
     "output_type": "execute_result"
    }
   ],
   "source": [
    "# Yearly returns for individual companies\n",
    "ind_er = data.resample('Y').last().pct_change().mean()\n",
    "ind_er"
   ]
  },
  {
   "cell_type": "code",
   "execution_count": 21,
   "metadata": {
    "colab": {
     "base_uri": "https://localhost:8080/"
    },
    "id": "nVV0utGiirUs",
    "outputId": "23679c1b-56bc-4c6d-b145-bec05790bdd6"
   },
   "outputs": [
    {
     "data": {
      "text/plain": [
       "Ticker\n",
       "AAPL     0.296558\n",
       "ABBV     0.227219\n",
       "ABT      0.226598\n",
       "ACN      0.261306\n",
       "ADBE     0.364814\n",
       "AMD      0.512243\n",
       "AMZN     0.355506\n",
       "AVGO     0.401552\n",
       "BAC      0.303960\n",
       "BRK-B    0.183600\n",
       "CAT      0.300475\n",
       "COST     0.225674\n",
       "CRM      0.377364\n",
       "CSCO     0.238365\n",
       "CVX      0.283749\n",
       "DIS      0.310526\n",
       "GE       0.349237\n",
       "GOOG     0.306756\n",
       "GOOGL    0.307538\n",
       "GS       0.291889\n",
       "HD       0.238120\n",
       "IBM      0.241103\n",
       "INTU     0.343772\n",
       "ISRG     0.333831\n",
       "JNJ      0.167064\n",
       "JPM      0.270027\n",
       "KO       0.172553\n",
       "LIN      0.225079\n",
       "LLY      0.310419\n",
       "MA       0.258774\n",
       "MCD      0.176318\n",
       "META     0.442769\n",
       "MRK      0.218478\n",
       "MSFT     0.268719\n",
       "NFLX     0.458095\n",
       "NOW      0.411206\n",
       "NVDA     0.525115\n",
       "ORCL     0.316686\n",
       "PEP      0.173317\n",
       "PG       0.173409\n",
       "PM       0.214101\n",
       "QCOM     0.391800\n",
       "TMO      0.259639\n",
       "TSLA     0.637065\n",
       "TXN      0.295914\n",
       "UNH      0.270264\n",
       "V        0.233027\n",
       "WFC      0.343966\n",
       "WMT      0.210101\n",
       "XOM      0.306719\n",
       "dtype: float64"
      ]
     },
     "execution_count": 21,
     "metadata": {},
     "output_type": "execute_result"
    }
   ],
   "source": [
    "# Volatility is given by the annual standard deviation. We multiply by 250 because there are 250 trading days/year.\n",
    "ann_sd = data.pct_change().apply(lambda x: np.log(1+x)).std().apply(lambda x: x*np.sqrt(250))\n",
    "ann_sd"
   ]
  },
  {
   "cell_type": "code",
   "execution_count": 23,
   "metadata": {
    "colab": {
     "base_uri": "https://localhost:8080/"
    },
    "id": "hRMGyj3rirUv",
    "outputId": "c1a39c05-8ea9-4e9d-bab8-af6f81972dc3"
   },
   "outputs": [
    {
     "data": {
      "image/png": "[encoded data removed]",
      "text/plain": [
       "<Figure size 1000x500 with 1 Axes>"
      ]
     },
     "metadata": {},
     "output_type": "display_data"
    },
    {
     "name": "stdout",
     "output_type": "stream",
     "text": [
      "DONE\n"
     ]
    }
   ],
   "source": [
    "mu = np.array(ind_er)\n",
    "cov = np.array(cov_matrix)\n",
    "\n",
    "corr_matrix = data.pct_change().apply(lambda x: np.log(1+x)).corr()\n",
    "labels = data.columns\n",
    "\n",
    "import matplotlib.pyplot as plt\n",
    "fig, ax = plt.subplots(figsize=(10, 5))\n",
    "k = np.arange(len(mu))\n",
    "ax.bar(k, mu)\n",
    "plt.show()\n",
    "\n",
    "\n",
    "f = plt.figure(figsize=(10, 10))\n",
    "plt.matshow(corr_matrix, fignum=f.number)\n",
    "plt.xticks(k, labels, fontsize=12, rotation=90)\n",
    "plt.yticks(k, labels, fontsize=12)\n",
    "cb = plt.colorbar()\n",
    "cb.ax.tick_params(labelsize=14)\n",
    "plt.title('Correlation Matrix', fontsize=16)\n",
    "print(\"DONE\")"
   ]
  },
  {
   "cell_type": "markdown",
   "metadata": {
    "id": "zoBLxwLt2U_X"
   },
   "source": [
    "## Solve problem with NSGA_II"
   ]
  },
  {
   "cell_type": "code",
   "execution_count": 26,
   "metadata": {
    "id": "prsGX2lnEG_P"
   },
   "outputs": [],
   "source": [
    "# import libs\n",
    "from pymoo.core.problem import ElementwiseProblem\n",
    "from pymoo.core.repair import Repair\n",
    "from pymoo.algorithms.moo.sms import SMSEMOA\n",
    "from pymoo.algorithms.moo.nsga2 import NSGA2\n",
    "from pymoo.optimize import minimize\n",
    "import operator"
   ]
  },
  {
   "cell_type": "code",
   "execution_count": 28,
   "metadata": {
    "id": "I57xc3m02U_Y"
   },
   "outputs": [],
   "source": [
    "class PortfolioProblem(ElementwiseProblem):\n",
    "\n",
    "    def __init__(self, mu, cov, risk_free_rate=0.02, **kwargs):\n",
    "        super().__init__(n_var=len(np.array(ticker)), n_obj=2, xl=0.0, xu=1.0, **kwargs)\n",
    "        self.mu = mu\n",
    "        self.cov = cov\n",
    "        self.risk_free_rate = risk_free_rate\n",
    "\n",
    "    def _evaluate(self, x, out, *args, **kwargs):\n",
    "        exp_return = x @ self.mu\n",
    "        exp_risk = np.sqrt(x.T @ self.cov @ x) * np.sqrt(250.0)\n",
    "        # ff1 = exp_return*0.1 - exp_risk*0.1\n",
    "        # ff2 = exp_return*exp_return*0.1 - exp_risk*0.1\n",
    "        sharpe = (exp_return - self.risk_free_rate) / exp_risk\n",
    "\n",
    "        # diversity (using entropy to measure)\n",
    "        # diversity = -np.sum(x * np.log(x + 1e-10))\n",
    "\n",
    "        out[\"F\"] = [exp_risk, -exp_return]\n",
    "        out[\"sharpe\"] = sharpe"
   ]
  },
  {
   "cell_type": "code",
   "execution_count": 30,
   "metadata": {
    "id": "6VVeTm0v2U_Z"
   },
   "outputs": [],
   "source": [
    "class PortfolioRepair(Repair):\n",
    "\n",
    "    def _do(self, problem, X, **kwargs):\n",
    "        X[X < 1e-3] = 0\n",
    "        return X / X.sum(axis=1, keepdims=True)"
   ]
  },
  {
   "cell_type": "code",
   "execution_count": 32,
   "metadata": {},
   "outputs": [
    {
     "data": {
      "text/plain": [
       "'\\n# Store results \\nresults = {}\\n\\n'"
      ]
     },
     "execution_count": 32,
     "metadata": {},
     "output_type": "execute_result"
    }
   ],
   "source": [
    "'''\n",
    "\n",
    "# for crossover \n",
    "from pymoo.operators.crossover.sbx import SBX\n",
    "from pymoo.operators.crossover.pntx import PointCrossover, SinglePointCrossover, TwoPointCrossover\n",
    "from pymoo.operators.crossover.expx import ExponentialCrossover\n",
    "from pymoo.operators.crossover.ux import UniformCrossover\n",
    "from pymoo.operators.crossover.hux import HalfUniformCrossover\n",
    "\n",
    "# for selection\n",
    "# it seems that we can't set selection here\n",
    "from pymoo.operators.sampling.rnd import FloatRandomSampling\n",
    "from pymoo.operators.sampling.rnd import BinaryRandomSampling\n",
    "from pymoo.operators.sampling.lhs import LHS\n",
    "\n",
    "# Adding configure \n",
    "configurations = [\n",
    "    # BinaryRandomSampling\n",
    "    {\n",
    "        'name': 'BinaryRandomSampling_SBX',\n",
    "        'sampling': BinaryRandomSampling(),\n",
    "        'crossover': SBX(),  # Default SBX parameters\n",
    "    },\n",
    "     {\n",
    "        'name': 'BinaryRandomSampling_SinglePtXO',\n",
    "         'sampling': BinaryRandomSampling(),\n",
    "        'crossover': SinglePointCrossover(),  # More aggressive crossover\n",
    "    },\n",
    "    {\n",
    "        'name': 'BinaryRandomSampling_TwoPtXO',\n",
    "        'sampling': BinaryRandomSampling(),\n",
    "        'crossover': TwoPointCrossover(),\n",
    "    },\n",
    "    \n",
    "    {\n",
    "        'name': 'BinaryRandomSampling_UnifXO',\n",
    "        'sampling': BinaryRandomSampling(),\n",
    "        'crossover': UniformCrossover(),\n",
    "    },\n",
    "    {\n",
    "        'name': 'BinaryRandomSampling_HalfUnifXO',\n",
    "        'sampling': BinaryRandomSampling(),\n",
    "        'crossover': HalfUniformCrossover(),\n",
    "    },\n",
    "\n",
    "    # FloatRandomSampling\n",
    "    {\n",
    "        'name': 'FloatRandomSampling_SBX',\n",
    "        'sampling': FloatRandomSampling(),\n",
    "        'crossover': SBX(),  # Default SBX parameters\n",
    "    },\n",
    "     {\n",
    "        'name': 'FloatRandomSampling_SinglePtXO',\n",
    "         'sampling': FloatRandomSampling(),\n",
    "        'crossover': SinglePointCrossover(),  # More aggressive crossover\n",
    "    },\n",
    "    {\n",
    "        'name': 'FloatRandomSampling_TwoPtXO',\n",
    "        'sampling': FloatRandomSampling(),\n",
    "        'crossover': TwoPointCrossover(),\n",
    "    },\n",
    "    {\n",
    "        'name': 'FloatRandomSampling_ExpXO',\n",
    "        'sampling': FloatRandomSampling(),\n",
    "        'crossover': ExponentialCrossover(),\n",
    "    },\n",
    "    {\n",
    "        'name': 'FloatRandomSampling_UnifXO',\n",
    "        'sampling': FloatRandomSampling(),\n",
    "        'crossover': UniformCrossover(),\n",
    "    },\n",
    "    {\n",
    "        'name': 'FloatRandomSampling_HalfUnifXO',\n",
    "        'sampling': FloatRandomSampling(),\n",
    "        'crossover': HalfUniformCrossover(),\n",
    "    },\n",
    "    \n",
    "    # LHS\n",
    "    {\n",
    "        'name': 'LHS_SBX',\n",
    "        'sampling': LHS(),\n",
    "        'crossover': SBX(),  # Default SBX parameters\n",
    "    },\n",
    "     {\n",
    "        'name': 'LHS_SinglePtXO',\n",
    "         'sampling': LHS(),\n",
    "        'crossover': SinglePointCrossover(),  # More aggressive crossover\n",
    "    },\n",
    "    {\n",
    "        'name': 'LHS_TwoPtXO',\n",
    "        'sampling': LHS(),\n",
    "        'crossover': TwoPointCrossover(),\n",
    "    },\n",
    "    {\n",
    "        'name': 'LHS_ExpXO',\n",
    "        'sampling': LHS(),\n",
    "        'crossover': ExponentialCrossover(),\n",
    "    },\n",
    "    {\n",
    "        'name': 'LHS_UnifXO',\n",
    "        'sampling': LHS(),\n",
    "        'crossover': UniformCrossover(),\n",
    "    },\n",
    "    {\n",
    "        'name': 'LHS_HalfUnifXO',\n",
    "        'sampling': LHS(),\n",
    "        'crossover': HalfUniformCrossover(),\n",
    "    },\n",
    "]\n",
    "'''\n",
    "\n",
    "''' we ignore\n",
    "{\n",
    "        'name': 'BinaryRandomSamplingn_ExpXO',\n",
    "        'sampling': BinaryRandomSampling(),\n",
    "        'crossover': ExponentialCrossover(),\n",
    "    },\n",
    "'''\n",
    "\n",
    "'''\n",
    "# Store results \n",
    "results = {}\n",
    "\n",
    "'''"
   ]
  },
  {
   "cell_type": "markdown",
   "metadata": {},
   "source": [
    "## Needed function "
   ]
  },
  {
   "cell_type": "code",
   "execution_count": 49,
   "metadata": {},
   "outputs": [],
   "source": [
    "from pymoo.indicators.hv import HV\n",
    "\n",
    "def calculate_expected_returns(current_data):\n",
    "    ind_er = current_data.resample('Y').last().pct_change().mean()\n",
    "    # print(ind_er)\n",
    "    return ind_er\n",
    "\n",
    "def calculate_covariance_matrix(current_data):\n",
    "    cov_matrix = current_data.pct_change().apply(lambda x: np.log(1+x)).cov()\n",
    "    # print(cov_matrix)\n",
    "    return cov_matrix\n",
    "    \n",
    "def execute_trades(stock_alloc, final_weight, current_budget, price_day, budget_history, stock_alloc_history):\n",
    "    # extract trade date\n",
    "    trade_date = data.index[price_day]\n",
    "    print(f'trade data is {trade_date}')\n",
    "\n",
    "    # extract stock price in trade date\n",
    "    prices_series = data.loc[[trade_date]]\n",
    "    prices_array = prices_series.to_numpy().ravel()  # shape (n,)\n",
    "    # print(f'Prices: {prices_array}')\n",
    "\n",
    "    # print(f'Stock allocation: {stock_alloc}')\n",
    "\n",
    "    \n",
    "    if not np.allclose(stock_alloc, np.zeros(len(ticker))):\n",
    "        current_budget = stock_alloc @ prices_array\n",
    "    \n",
    "    \n",
    "    \n",
    "    dollar_alloc = current_budget*final_weight\n",
    "    # current_budget = final_weight.T@data[price_date] \n",
    "\n",
    "    \n",
    "\n",
    "    # Element-wise division to get number of shares\n",
    "    stock_alloc[:] = dollar_alloc / prices_array  # modifies caller's array\n",
    "    # print(f'Stock allocation (shares): {stock_alloc}')\n",
    "\n",
    "    budget_history.append(current_budget)\n",
    "    stock_alloc_history.append(stock_alloc.copy())\n",
    "    #print(f'stock_alloc is {stock_alloc}')\n",
    "    print(f'current budget is {current_budget}')\n",
    "\n",
    "def calculate_HV(F):\n",
    "    ref_point = np.array([0.35, 0.35])\n",
    "\n",
    "    ind = HV(ref_point=ref_point)\n",
    "    print(\"HV\", ind(F))\n",
    "    return ind(F)\n",
    "    "
   ]
  },
  {
   "cell_type": "code",
   "execution_count": 51,
   "metadata": {
    "colab": {
     "base_uri": "https://localhost:8080/"
    },
    "id": "wpUvVKqB2U_Z",
    "outputId": "f258dee5-7201-4d5a-ad84-a5d375c6122b"
   },
   "outputs": [
    {
     "name": "stdout",
     "output_type": "stream",
     "text": [
      "Current day is: 0\n"
     ]
    },
    {
     "name": "stderr",
     "output_type": "stream",
     "text": [
      "C:\\Users\\kaomi\\AppData\\Local\\Temp\\ipykernel_18768\\4236682315.py:4: FutureWarning: 'Y' is deprecated and will be removed in a future version, please use 'YE' instead.\n",
      "  ind_er = current_data.resample('Y').last().pct_change().mean()\n"
     ]
    },
    {
     "name": "stdout",
     "output_type": "stream",
     "text": [
      "HV 0.05754802135698416\n",
      "trade data is 2024-04-30 00:00:00\n",
      "current budget is 1000000\n",
      "Current day is: 1\n"
     ]
    },
    {
     "name": "stderr",
     "output_type": "stream",
     "text": [
      "C:\\Users\\kaomi\\AppData\\Local\\Temp\\ipykernel_18768\\4236682315.py:4: FutureWarning: 'Y' is deprecated and will be removed in a future version, please use 'YE' instead.\n",
      "  ind_er = current_data.resample('Y').last().pct_change().mean()\n",
      "C:\\Users\\kaomi\\AppData\\Local\\Temp\\ipykernel_18768\\4236682315.py:4: FutureWarning: 'Y' is deprecated and will be removed in a future version, please use 'YE' instead.\n",
      "  ind_er = current_data.resample('Y').last().pct_change().mean()\n"
     ]
    },
    {
     "name": "stdout",
     "output_type": "stream",
     "text": [
      "HV 0.05871875231075715\n",
      "trade data is 2024-05-01 00:00:00\n",
      "current budget is 979368.4791363459\n",
      "Current day is: 2\n",
      "HV 0.056487974190732135\n",
      "trade data is 2024-05-02 00:00:00\n",
      "current budget is 980965.8412115065\n",
      "Current day is: 3\n"
     ]
    },
    {
     "name": "stderr",
     "output_type": "stream",
     "text": [
      "C:\\Users\\kaomi\\AppData\\Local\\Temp\\ipykernel_18768\\4236682315.py:4: FutureWarning: 'Y' is deprecated and will be removed in a future version, please use 'YE' instead.\n",
      "  ind_er = current_data.resample('Y').last().pct_change().mean()\n"
     ]
    },
    {
     "name": "stdout",
     "output_type": "stream",
     "text": [
      "HV 0.05725390566084367\n",
      "trade data is 2024-05-03 00:00:00\n",
      "current budget is 980987.7238346885\n",
      "Current day is: 4\n"
     ]
    },
    {
     "name": "stderr",
     "output_type": "stream",
     "text": [
      "C:\\Users\\kaomi\\AppData\\Local\\Temp\\ipykernel_18768\\4236682315.py:4: FutureWarning: 'Y' is deprecated and will be removed in a future version, please use 'YE' instead.\n",
      "  ind_er = current_data.resample('Y').last().pct_change().mean()\n"
     ]
    },
    {
     "name": "stdout",
     "output_type": "stream",
     "text": [
      "HV 0.05625831244322713\n",
      "trade data is 2024-05-06 00:00:00\n",
      "current budget is 1006400.7761636211\n",
      "Current day is: 5\n"
     ]
    },
    {
     "name": "stderr",
     "output_type": "stream",
     "text": [
      "C:\\Users\\kaomi\\AppData\\Local\\Temp\\ipykernel_18768\\4236682315.py:4: FutureWarning: 'Y' is deprecated and will be removed in a future version, please use 'YE' instead.\n",
      "  ind_er = current_data.resample('Y').last().pct_change().mean()\n"
     ]
    },
    {
     "name": "stdout",
     "output_type": "stream",
     "text": [
      "HV 0.05684448602484821\n",
      "trade data is 2024-05-07 00:00:00\n",
      "current budget is 1004590.7607068237\n",
      "Current day is: 6\n"
     ]
    },
    {
     "name": "stderr",
     "output_type": "stream",
     "text": [
      "C:\\Users\\kaomi\\AppData\\Local\\Temp\\ipykernel_18768\\4236682315.py:4: FutureWarning: 'Y' is deprecated and will be removed in a future version, please use 'YE' instead.\n",
      "  ind_er = current_data.resample('Y').last().pct_change().mean()\n"
     ]
    },
    {
     "name": "stdout",
     "output_type": "stream",
     "text": [
      "HV 0.05830508890795434\n",
      "trade data is 2024-05-08 00:00:00\n",
      "current budget is 1002508.2416569602\n",
      "Current day is: 7\n"
     ]
    },
    {
     "name": "stderr",
     "output_type": "stream",
     "text": [
      "C:\\Users\\kaomi\\AppData\\Local\\Temp\\ipykernel_18768\\4236682315.py:4: FutureWarning: 'Y' is deprecated and will be removed in a future version, please use 'YE' instead.\n",
      "  ind_er = current_data.resample('Y').last().pct_change().mean()\n"
     ]
    },
    {
     "name": "stdout",
     "output_type": "stream",
     "text": [
      "HV 0.058186362799112906\n",
      "trade data is 2024-05-09 00:00:00\n",
      "current budget is 1000810.4239499046\n",
      "Current day is: 8\n"
     ]
    },
    {
     "name": "stderr",
     "output_type": "stream",
     "text": [
      "C:\\Users\\kaomi\\AppData\\Local\\Temp\\ipykernel_18768\\4236682315.py:4: FutureWarning: 'Y' is deprecated and will be removed in a future version, please use 'YE' instead.\n",
      "  ind_er = current_data.resample('Y').last().pct_change().mean()\n"
     ]
    },
    {
     "name": "stdout",
     "output_type": "stream",
     "text": [
      "HV 0.05678540166200757\n",
      "trade data is 2024-05-10 00:00:00\n",
      "current budget is 997610.6528323079\n",
      "Current day is: 9\n"
     ]
    },
    {
     "name": "stderr",
     "output_type": "stream",
     "text": [
      "C:\\Users\\kaomi\\AppData\\Local\\Temp\\ipykernel_18768\\4236682315.py:4: FutureWarning: 'Y' is deprecated and will be removed in a future version, please use 'YE' instead.\n",
      "  ind_er = current_data.resample('Y').last().pct_change().mean()\n"
     ]
    },
    {
     "name": "stdout",
     "output_type": "stream",
     "text": [
      "HV 0.056028197623286806\n",
      "trade data is 2024-05-13 00:00:00\n",
      "current budget is 997341.8735975837\n",
      "Current day is: 10\n"
     ]
    },
    {
     "name": "stderr",
     "output_type": "stream",
     "text": [
      "C:\\Users\\kaomi\\AppData\\Local\\Temp\\ipykernel_18768\\4236682315.py:4: FutureWarning: 'Y' is deprecated and will be removed in a future version, please use 'YE' instead.\n",
      "  ind_er = current_data.resample('Y').last().pct_change().mean()\n"
     ]
    },
    {
     "name": "stdout",
     "output_type": "stream",
     "text": [
      "HV 0.05661958553231497\n",
      "trade data is 2024-05-14 00:00:00\n",
      "current budget is 1005542.5053275102\n",
      "Current day is: 11\n"
     ]
    },
    {
     "name": "stderr",
     "output_type": "stream",
     "text": [
      "C:\\Users\\kaomi\\AppData\\Local\\Temp\\ipykernel_18768\\4236682315.py:4: FutureWarning: 'Y' is deprecated and will be removed in a future version, please use 'YE' instead.\n",
      "  ind_er = current_data.resample('Y').last().pct_change().mean()\n"
     ]
    },
    {
     "name": "stdout",
     "output_type": "stream",
     "text": [
      "HV 0.05771559504277165\n",
      "trade data is 2024-05-15 00:00:00\n",
      "current budget is 1031409.8706670522\n",
      "Current day is: 12\n"
     ]
    },
    {
     "name": "stderr",
     "output_type": "stream",
     "text": [
      "C:\\Users\\kaomi\\AppData\\Local\\Temp\\ipykernel_18768\\4236682315.py:4: FutureWarning: 'Y' is deprecated and will be removed in a future version, please use 'YE' instead.\n",
      "  ind_er = current_data.resample('Y').last().pct_change().mean()\n"
     ]
    },
    {
     "name": "stdout",
     "output_type": "stream",
     "text": [
      "HV 0.055153309021230834\n",
      "trade data is 2024-05-16 00:00:00\n",
      "current budget is 1021185.381322206\n",
      "Current day is: 13\n"
     ]
    },
    {
     "name": "stderr",
     "output_type": "stream",
     "text": [
      "C:\\Users\\kaomi\\AppData\\Local\\Temp\\ipykernel_18768\\4236682315.py:4: FutureWarning: 'Y' is deprecated and will be removed in a future version, please use 'YE' instead.\n",
      "  ind_er = current_data.resample('Y').last().pct_change().mean()\n"
     ]
    },
    {
     "name": "stdout",
     "output_type": "stream",
     "text": [
      "HV 0.056266613329640114\n",
      "trade data is 2024-05-17 00:00:00\n",
      "current budget is 1018579.3989838334\n",
      "Current day is: 14\n"
     ]
    },
    {
     "name": "stderr",
     "output_type": "stream",
     "text": [
      "C:\\Users\\kaomi\\AppData\\Local\\Temp\\ipykernel_18768\\4236682315.py:4: FutureWarning: 'Y' is deprecated and will be removed in a future version, please use 'YE' instead.\n",
      "  ind_er = current_data.resample('Y').last().pct_change().mean()\n"
     ]
    },
    {
     "name": "stdout",
     "output_type": "stream",
     "text": [
      "HV 0.056606783313452\n",
      "trade data is 2024-05-20 00:00:00\n",
      "current budget is 1030532.106385723\n",
      "Current day is: 15\n"
     ]
    },
    {
     "name": "stderr",
     "output_type": "stream",
     "text": [
      "C:\\Users\\kaomi\\AppData\\Local\\Temp\\ipykernel_18768\\4236682315.py:4: FutureWarning: 'Y' is deprecated and will be removed in a future version, please use 'YE' instead.\n",
      "  ind_er = current_data.resample('Y').last().pct_change().mean()\n"
     ]
    },
    {
     "name": "stdout",
     "output_type": "stream",
     "text": [
      "HV 0.05515324839021578\n",
      "trade data is 2024-05-21 00:00:00\n",
      "current budget is 1038592.8589006398\n",
      "Current day is: 16\n"
     ]
    },
    {
     "name": "stderr",
     "output_type": "stream",
     "text": [
      "C:\\Users\\kaomi\\AppData\\Local\\Temp\\ipykernel_18768\\4236682315.py:4: FutureWarning: 'Y' is deprecated and will be removed in a future version, please use 'YE' instead.\n",
      "  ind_er = current_data.resample('Y').last().pct_change().mean()\n"
     ]
    },
    {
     "name": "stdout",
     "output_type": "stream",
     "text": [
      "HV 0.056000898928291375\n",
      "trade data is 2024-05-22 00:00:00\n",
      "current budget is 1032031.5564595269\n",
      "Current day is: 17\n"
     ]
    },
    {
     "name": "stderr",
     "output_type": "stream",
     "text": [
      "C:\\Users\\kaomi\\AppData\\Local\\Temp\\ipykernel_18768\\4236682315.py:4: FutureWarning: 'Y' is deprecated and will be removed in a future version, please use 'YE' instead.\n",
      "  ind_er = current_data.resample('Y').last().pct_change().mean()\n"
     ]
    },
    {
     "name": "stdout",
     "output_type": "stream",
     "text": [
      "HV 0.05383607072690459\n",
      "trade data is 2024-05-23 00:00:00\n",
      "current budget is 1062741.6695336963\n",
      "Current day is: 18\n"
     ]
    },
    {
     "name": "stderr",
     "output_type": "stream",
     "text": [
      "C:\\Users\\kaomi\\AppData\\Local\\Temp\\ipykernel_18768\\4236682315.py:4: FutureWarning: 'Y' is deprecated and will be removed in a future version, please use 'YE' instead.\n",
      "  ind_er = current_data.resample('Y').last().pct_change().mean()\n"
     ]
    },
    {
     "name": "stdout",
     "output_type": "stream",
     "text": [
      "HV 0.05693981331965489\n",
      "trade data is 2024-05-24 00:00:00\n",
      "current budget is 1070852.9393802988\n",
      "Current day is: 19\n"
     ]
    },
    {
     "name": "stderr",
     "output_type": "stream",
     "text": [
      "C:\\Users\\kaomi\\AppData\\Local\\Temp\\ipykernel_18768\\4236682315.py:4: FutureWarning: 'Y' is deprecated and will be removed in a future version, please use 'YE' instead.\n",
      "  ind_er = current_data.resample('Y').last().pct_change().mean()\n"
     ]
    },
    {
     "name": "stdout",
     "output_type": "stream",
     "text": [
      "HV 0.05424398293817585\n",
      "trade data is 2024-05-28 00:00:00\n",
      "current budget is 1100667.8631885604\n",
      "Current day is: 20\n"
     ]
    },
    {
     "name": "stderr",
     "output_type": "stream",
     "text": [
      "C:\\Users\\kaomi\\AppData\\Local\\Temp\\ipykernel_18768\\4236682315.py:4: FutureWarning: 'Y' is deprecated and will be removed in a future version, please use 'YE' instead.\n",
      "  ind_er = current_data.resample('Y').last().pct_change().mean()\n"
     ]
    },
    {
     "name": "stdout",
     "output_type": "stream",
     "text": [
      "HV 0.05633096866244734\n",
      "trade data is 2024-05-29 00:00:00\n",
      "current budget is 1102252.055393821\n",
      "Current day is: 21\n"
     ]
    },
    {
     "name": "stderr",
     "output_type": "stream",
     "text": [
      "C:\\Users\\kaomi\\AppData\\Local\\Temp\\ipykernel_18768\\4236682315.py:4: FutureWarning: 'Y' is deprecated and will be removed in a future version, please use 'YE' instead.\n",
      "  ind_er = current_data.resample('Y').last().pct_change().mean()\n"
     ]
    },
    {
     "name": "stdout",
     "output_type": "stream",
     "text": [
      "HV 0.05817588298956877\n",
      "trade data is 2024-05-30 00:00:00\n",
      "current budget is 1089452.811320688\n",
      "Current day is: 22\n"
     ]
    },
    {
     "name": "stderr",
     "output_type": "stream",
     "text": [
      "C:\\Users\\kaomi\\AppData\\Local\\Temp\\ipykernel_18768\\4236682315.py:4: FutureWarning: 'Y' is deprecated and will be removed in a future version, please use 'YE' instead.\n",
      "  ind_er = current_data.resample('Y').last().pct_change().mean()\n"
     ]
    },
    {
     "name": "stdout",
     "output_type": "stream",
     "text": [
      "HV 0.058993881189419305\n",
      "trade data is 2024-05-31 00:00:00\n",
      "current budget is 1097114.0044993563\n",
      "Current day is: 23\n"
     ]
    },
    {
     "name": "stderr",
     "output_type": "stream",
     "text": [
      "C:\\Users\\kaomi\\AppData\\Local\\Temp\\ipykernel_18768\\4236682315.py:4: FutureWarning: 'Y' is deprecated and will be removed in a future version, please use 'YE' instead.\n",
      "  ind_er = current_data.resample('Y').last().pct_change().mean()\n"
     ]
    },
    {
     "name": "stdout",
     "output_type": "stream",
     "text": [
      "HV 0.05704990237749062\n",
      "trade data is 2024-06-03 00:00:00\n",
      "current budget is 1112876.5078184528\n",
      "Current day is: 24\n"
     ]
    },
    {
     "name": "stderr",
     "output_type": "stream",
     "text": [
      "C:\\Users\\kaomi\\AppData\\Local\\Temp\\ipykernel_18768\\4236682315.py:4: FutureWarning: 'Y' is deprecated and will be removed in a future version, please use 'YE' instead.\n",
      "  ind_er = current_data.resample('Y').last().pct_change().mean()\n"
     ]
    },
    {
     "name": "stdout",
     "output_type": "stream",
     "text": [
      "HV 0.05436442730737922\n",
      "trade data is 2024-06-04 00:00:00\n",
      "current budget is 1114511.8488441808\n",
      "Current day is: 25\n"
     ]
    },
    {
     "name": "stderr",
     "output_type": "stream",
     "text": [
      "C:\\Users\\kaomi\\AppData\\Local\\Temp\\ipykernel_18768\\4236682315.py:4: FutureWarning: 'Y' is deprecated and will be removed in a future version, please use 'YE' instead.\n",
      "  ind_er = current_data.resample('Y').last().pct_change().mean()\n"
     ]
    },
    {
     "name": "stdout",
     "output_type": "stream",
     "text": [
      "HV 0.05485231578965005\n",
      "trade data is 2024-06-05 00:00:00\n",
      "current budget is 1135956.0947249213\n",
      "Current day is: 26\n"
     ]
    },
    {
     "name": "stderr",
     "output_type": "stream",
     "text": [
      "C:\\Users\\kaomi\\AppData\\Local\\Temp\\ipykernel_18768\\4236682315.py:4: FutureWarning: 'Y' is deprecated and will be removed in a future version, please use 'YE' instead.\n",
      "  ind_er = current_data.resample('Y').last().pct_change().mean()\n"
     ]
    },
    {
     "name": "stdout",
     "output_type": "stream",
     "text": [
      "HV 0.05193693986608603\n",
      "trade data is 2024-06-06 00:00:00\n",
      "current budget is 1135556.5186948888\n",
      "Current day is: 27\n"
     ]
    },
    {
     "name": "stderr",
     "output_type": "stream",
     "text": [
      "C:\\Users\\kaomi\\AppData\\Local\\Temp\\ipykernel_18768\\4236682315.py:4: FutureWarning: 'Y' is deprecated and will be removed in a future version, please use 'YE' instead.\n",
      "  ind_er = current_data.resample('Y').last().pct_change().mean()\n"
     ]
    },
    {
     "name": "stdout",
     "output_type": "stream",
     "text": [
      "HV 0.055635169496263764\n",
      "trade data is 2024-06-07 00:00:00\n",
      "current budget is 1138026.5642809747\n",
      "Current day is: 28\n"
     ]
    },
    {
     "name": "stderr",
     "output_type": "stream",
     "text": [
      "C:\\Users\\kaomi\\AppData\\Local\\Temp\\ipykernel_18768\\4236682315.py:4: FutureWarning: 'Y' is deprecated and will be removed in a future version, please use 'YE' instead.\n",
      "  ind_er = current_data.resample('Y').last().pct_change().mean()\n"
     ]
    },
    {
     "name": "stdout",
     "output_type": "stream",
     "text": [
      "HV 0.05578111471546163\n",
      "trade data is 2024-06-10 00:00:00\n",
      "current budget is 1149110.0790239782\n",
      "Current day is: 29\n"
     ]
    },
    {
     "name": "stderr",
     "output_type": "stream",
     "text": [
      "C:\\Users\\kaomi\\AppData\\Local\\Temp\\ipykernel_18768\\4236682315.py:4: FutureWarning: 'Y' is deprecated and will be removed in a future version, please use 'YE' instead.\n",
      "  ind_er = current_data.resample('Y').last().pct_change().mean()\n"
     ]
    },
    {
     "name": "stdout",
     "output_type": "stream",
     "text": [
      "HV 0.05457483786190603\n",
      "trade data is 2024-06-11 00:00:00\n",
      "current budget is 1144061.9453698453\n",
      "Current day is: 30\n"
     ]
    },
    {
     "name": "stderr",
     "output_type": "stream",
     "text": [
      "C:\\Users\\kaomi\\AppData\\Local\\Temp\\ipykernel_18768\\4236682315.py:4: FutureWarning: 'Y' is deprecated and will be removed in a future version, please use 'YE' instead.\n",
      "  ind_er = current_data.resample('Y').last().pct_change().mean()\n"
     ]
    },
    {
     "name": "stdout",
     "output_type": "stream",
     "text": [
      "HV 0.05483961394964796\n",
      "trade data is 2024-06-12 00:00:00\n",
      "current budget is 1154066.7991342517\n",
      "Current day is: 31\n"
     ]
    },
    {
     "name": "stderr",
     "output_type": "stream",
     "text": [
      "C:\\Users\\kaomi\\AppData\\Local\\Temp\\ipykernel_18768\\4236682315.py:4: FutureWarning: 'Y' is deprecated and will be removed in a future version, please use 'YE' instead.\n",
      "  ind_er = current_data.resample('Y').last().pct_change().mean()\n"
     ]
    },
    {
     "name": "stdout",
     "output_type": "stream",
     "text": [
      "HV 0.05406334740113314\n",
      "trade data is 2024-06-13 00:00:00\n",
      "current budget is 1174749.8305068724\n",
      "Current day is: 32\n"
     ]
    },
    {
     "name": "stderr",
     "output_type": "stream",
     "text": [
      "C:\\Users\\kaomi\\AppData\\Local\\Temp\\ipykernel_18768\\4236682315.py:4: FutureWarning: 'Y' is deprecated and will be removed in a future version, please use 'YE' instead.\n",
      "  ind_er = current_data.resample('Y').last().pct_change().mean()\n"
     ]
    },
    {
     "name": "stdout",
     "output_type": "stream",
     "text": [
      "HV 0.05687258456225866\n",
      "trade data is 2024-06-14 00:00:00\n",
      "current budget is 1176905.130044899\n",
      "Current day is: 33\n"
     ]
    },
    {
     "name": "stderr",
     "output_type": "stream",
     "text": [
      "C:\\Users\\kaomi\\AppData\\Local\\Temp\\ipykernel_18768\\4236682315.py:4: FutureWarning: 'Y' is deprecated and will be removed in a future version, please use 'YE' instead.\n",
      "  ind_er = current_data.resample('Y').last().pct_change().mean()\n"
     ]
    },
    {
     "name": "stdout",
     "output_type": "stream",
     "text": [
      "HV 0.05674854101569335\n",
      "trade data is 2024-06-17 00:00:00\n",
      "current budget is 1175701.2583421709\n",
      "Current day is: 34\n"
     ]
    },
    {
     "name": "stderr",
     "output_type": "stream",
     "text": [
      "C:\\Users\\kaomi\\AppData\\Local\\Temp\\ipykernel_18768\\4236682315.py:4: FutureWarning: 'Y' is deprecated and will be removed in a future version, please use 'YE' instead.\n",
      "  ind_er = current_data.resample('Y').last().pct_change().mean()\n"
     ]
    },
    {
     "name": "stdout",
     "output_type": "stream",
     "text": [
      "HV 0.05543717908750771\n",
      "trade data is 2024-06-18 00:00:00\n",
      "current budget is 1196431.9513375591\n",
      "Current day is: 35\n"
     ]
    },
    {
     "name": "stderr",
     "output_type": "stream",
     "text": [
      "C:\\Users\\kaomi\\AppData\\Local\\Temp\\ipykernel_18768\\4236682315.py:4: FutureWarning: 'Y' is deprecated and will be removed in a future version, please use 'YE' instead.\n",
      "  ind_er = current_data.resample('Y').last().pct_change().mean()\n"
     ]
    },
    {
     "name": "stdout",
     "output_type": "stream",
     "text": [
      "HV 0.05520764869658326\n",
      "trade data is 2024-06-20 00:00:00\n",
      "current budget is 1184205.5014976964\n",
      "Current day is: 36\n"
     ]
    },
    {
     "name": "stderr",
     "output_type": "stream",
     "text": [
      "C:\\Users\\kaomi\\AppData\\Local\\Temp\\ipykernel_18768\\4236682315.py:4: FutureWarning: 'Y' is deprecated and will be removed in a future version, please use 'YE' instead.\n",
      "  ind_er = current_data.resample('Y').last().pct_change().mean()\n"
     ]
    },
    {
     "name": "stdout",
     "output_type": "stream",
     "text": [
      "HV 0.05507371955174255\n",
      "trade data is 2024-06-21 00:00:00\n",
      "current budget is 1165620.2766162723\n",
      "Current day is: 37\n"
     ]
    },
    {
     "name": "stderr",
     "output_type": "stream",
     "text": [
      "C:\\Users\\kaomi\\AppData\\Local\\Temp\\ipykernel_18768\\4236682315.py:4: FutureWarning: 'Y' is deprecated and will be removed in a future version, please use 'YE' instead.\n",
      "  ind_er = current_data.resample('Y').last().pct_change().mean()\n"
     ]
    },
    {
     "name": "stdout",
     "output_type": "stream",
     "text": [
      "HV 0.05533825608010178\n",
      "trade data is 2024-06-24 00:00:00\n",
      "current budget is 1149510.6572668296\n",
      "Current day is: 38\n"
     ]
    },
    {
     "name": "stderr",
     "output_type": "stream",
     "text": [
      "C:\\Users\\kaomi\\AppData\\Local\\Temp\\ipykernel_18768\\4236682315.py:4: FutureWarning: 'Y' is deprecated and will be removed in a future version, please use 'YE' instead.\n",
      "  ind_er = current_data.resample('Y').last().pct_change().mean()\n"
     ]
    },
    {
     "name": "stdout",
     "output_type": "stream",
     "text": [
      "HV 0.056073087186351976\n",
      "trade data is 2024-06-25 00:00:00\n",
      "current budget is 1184251.4975377196\n",
      "Current day is: 39\n"
     ]
    },
    {
     "name": "stderr",
     "output_type": "stream",
     "text": [
      "C:\\Users\\kaomi\\AppData\\Local\\Temp\\ipykernel_18768\\4236682315.py:4: FutureWarning: 'Y' is deprecated and will be removed in a future version, please use 'YE' instead.\n",
      "  ind_er = current_data.resample('Y').last().pct_change().mean()\n"
     ]
    },
    {
     "name": "stdout",
     "output_type": "stream",
     "text": [
      "HV 0.05410899266778811\n",
      "trade data is 2024-06-26 00:00:00\n",
      "current budget is 1183627.1243380336\n",
      "Current day is: 40\n"
     ]
    },
    {
     "name": "stderr",
     "output_type": "stream",
     "text": [
      "C:\\Users\\kaomi\\AppData\\Local\\Temp\\ipykernel_18768\\4236682315.py:4: FutureWarning: 'Y' is deprecated and will be removed in a future version, please use 'YE' instead.\n",
      "  ind_er = current_data.resample('Y').last().pct_change().mean()\n"
     ]
    },
    {
     "name": "stdout",
     "output_type": "stream",
     "text": [
      "HV 0.05367894953436034\n",
      "trade data is 2024-06-27 00:00:00\n",
      "current budget is 1181784.822000896\n",
      "Current day is: 41\n"
     ]
    },
    {
     "name": "stderr",
     "output_type": "stream",
     "text": [
      "C:\\Users\\kaomi\\AppData\\Local\\Temp\\ipykernel_18768\\4236682315.py:4: FutureWarning: 'Y' is deprecated and will be removed in a future version, please use 'YE' instead.\n",
      "  ind_er = current_data.resample('Y').last().pct_change().mean()\n"
     ]
    },
    {
     "name": "stdout",
     "output_type": "stream",
     "text": [
      "HV 0.054179110582886075\n",
      "trade data is 2024-06-28 00:00:00\n",
      "current budget is 1178373.7922023651\n",
      "Current day is: 42\n"
     ]
    },
    {
     "name": "stderr",
     "output_type": "stream",
     "text": [
      "C:\\Users\\kaomi\\AppData\\Local\\Temp\\ipykernel_18768\\4236682315.py:4: FutureWarning: 'Y' is deprecated and will be removed in a future version, please use 'YE' instead.\n",
      "  ind_er = current_data.resample('Y').last().pct_change().mean()\n"
     ]
    },
    {
     "name": "stdout",
     "output_type": "stream",
     "text": [
      "HV 0.055513865435690674\n",
      "trade data is 2024-07-01 00:00:00\n",
      "current budget is 1187681.5809947085\n",
      "Current day is: 43\n"
     ]
    },
    {
     "name": "stderr",
     "output_type": "stream",
     "text": [
      "C:\\Users\\kaomi\\AppData\\Local\\Temp\\ipykernel_18768\\4236682315.py:4: FutureWarning: 'Y' is deprecated and will be removed in a future version, please use 'YE' instead.\n",
      "  ind_er = current_data.resample('Y').last().pct_change().mean()\n"
     ]
    },
    {
     "name": "stdout",
     "output_type": "stream",
     "text": [
      "HV 0.05347860239241561\n",
      "trade data is 2024-07-02 00:00:00\n",
      "current budget is 1176465.9868924168\n",
      "Current day is: 44\n"
     ]
    },
    {
     "name": "stderr",
     "output_type": "stream",
     "text": [
      "C:\\Users\\kaomi\\AppData\\Local\\Temp\\ipykernel_18768\\4236682315.py:4: FutureWarning: 'Y' is deprecated and will be removed in a future version, please use 'YE' instead.\n",
      "  ind_er = current_data.resample('Y').last().pct_change().mean()\n"
     ]
    },
    {
     "name": "stdout",
     "output_type": "stream",
     "text": [
      "HV 0.05626722916638486\n",
      "trade data is 2024-07-03 00:00:00\n",
      "current budget is 1191669.8837188785\n",
      "Current day is: 45\n"
     ]
    },
    {
     "name": "stderr",
     "output_type": "stream",
     "text": [
      "C:\\Users\\kaomi\\AppData\\Local\\Temp\\ipykernel_18768\\4236682315.py:4: FutureWarning: 'Y' is deprecated and will be removed in a future version, please use 'YE' instead.\n",
      "  ind_er = current_data.resample('Y').last().pct_change().mean()\n"
     ]
    },
    {
     "name": "stdout",
     "output_type": "stream",
     "text": [
      "HV 0.055594011821690756\n",
      "trade data is 2024-07-05 00:00:00\n",
      "current budget is 1188906.0694682961\n",
      "Current day is: 46\n"
     ]
    },
    {
     "name": "stderr",
     "output_type": "stream",
     "text": [
      "C:\\Users\\kaomi\\AppData\\Local\\Temp\\ipykernel_18768\\4236682315.py:4: FutureWarning: 'Y' is deprecated and will be removed in a future version, please use 'YE' instead.\n",
      "  ind_er = current_data.resample('Y').last().pct_change().mean()\n"
     ]
    },
    {
     "name": "stdout",
     "output_type": "stream",
     "text": [
      "HV 0.05445107223383949\n",
      "trade data is 2024-07-08 00:00:00\n",
      "current budget is 1194409.5290012823\n",
      "Current day is: 47\n"
     ]
    },
    {
     "name": "stderr",
     "output_type": "stream",
     "text": [
      "C:\\Users\\kaomi\\AppData\\Local\\Temp\\ipykernel_18768\\4236682315.py:4: FutureWarning: 'Y' is deprecated and will be removed in a future version, please use 'YE' instead.\n",
      "  ind_er = current_data.resample('Y').last().pct_change().mean()\n"
     ]
    },
    {
     "name": "stdout",
     "output_type": "stream",
     "text": [
      "HV 0.05588249548817634\n",
      "trade data is 2024-07-09 00:00:00\n",
      "current budget is 1210043.7817460725\n",
      "Current day is: 48\n"
     ]
    },
    {
     "name": "stderr",
     "output_type": "stream",
     "text": [
      "C:\\Users\\kaomi\\AppData\\Local\\Temp\\ipykernel_18768\\4236682315.py:4: FutureWarning: 'Y' is deprecated and will be removed in a future version, please use 'YE' instead.\n",
      "  ind_er = current_data.resample('Y').last().pct_change().mean()\n"
     ]
    },
    {
     "name": "stdout",
     "output_type": "stream",
     "text": [
      "HV 0.05405201842815606\n",
      "trade data is 2024-07-10 00:00:00\n",
      "current budget is 1228014.8976747736\n",
      "Current day is: 49\n"
     ]
    },
    {
     "name": "stderr",
     "output_type": "stream",
     "text": [
      "C:\\Users\\kaomi\\AppData\\Local\\Temp\\ipykernel_18768\\4236682315.py:4: FutureWarning: 'Y' is deprecated and will be removed in a future version, please use 'YE' instead.\n",
      "  ind_er = current_data.resample('Y').last().pct_change().mean()\n"
     ]
    },
    {
     "name": "stdout",
     "output_type": "stream",
     "text": [
      "HV 0.05523813516179547\n",
      "trade data is 2024-07-11 00:00:00\n",
      "current budget is 1200570.3799570582\n",
      "Current day is: 50\n"
     ]
    },
    {
     "name": "stderr",
     "output_type": "stream",
     "text": [
      "C:\\Users\\kaomi\\AppData\\Local\\Temp\\ipykernel_18768\\4236682315.py:4: FutureWarning: 'Y' is deprecated and will be removed in a future version, please use 'YE' instead.\n",
      "  ind_er = current_data.resample('Y').last().pct_change().mean()\n"
     ]
    },
    {
     "name": "stdout",
     "output_type": "stream",
     "text": [
      "HV 0.055679965119347745\n",
      "trade data is 2024-07-12 00:00:00\n",
      "current budget is 1214005.6876187075\n",
      "Current day is: 51\n"
     ]
    },
    {
     "name": "stderr",
     "output_type": "stream",
     "text": [
      "C:\\Users\\kaomi\\AppData\\Local\\Temp\\ipykernel_18768\\4236682315.py:4: FutureWarning: 'Y' is deprecated and will be removed in a future version, please use 'YE' instead.\n",
      "  ind_er = current_data.resample('Y').last().pct_change().mean()\n"
     ]
    },
    {
     "name": "stdout",
     "output_type": "stream",
     "text": [
      "HV 0.054385065870292244\n",
      "trade data is 2024-07-15 00:00:00\n",
      "current budget is 1216979.25823177\n",
      "Current day is: 52\n"
     ]
    },
    {
     "name": "stderr",
     "output_type": "stream",
     "text": [
      "C:\\Users\\kaomi\\AppData\\Local\\Temp\\ipykernel_18768\\4236682315.py:4: FutureWarning: 'Y' is deprecated and will be removed in a future version, please use 'YE' instead.\n",
      "  ind_er = current_data.resample('Y').last().pct_change().mean()\n"
     ]
    },
    {
     "name": "stdout",
     "output_type": "stream",
     "text": [
      "HV 0.05327760060747851\n",
      "trade data is 2024-07-16 00:00:00\n",
      "current budget is 1207740.181780729\n",
      "Current day is: 53\n"
     ]
    },
    {
     "name": "stderr",
     "output_type": "stream",
     "text": [
      "C:\\Users\\kaomi\\AppData\\Local\\Temp\\ipykernel_18768\\4236682315.py:4: FutureWarning: 'Y' is deprecated and will be removed in a future version, please use 'YE' instead.\n",
      "  ind_er = current_data.resample('Y').last().pct_change().mean()\n"
     ]
    },
    {
     "name": "stdout",
     "output_type": "stream",
     "text": [
      "HV 0.053867974308627074\n",
      "trade data is 2024-07-17 00:00:00\n",
      "current budget is 1165996.0810290715\n",
      "Current day is: 54\n"
     ]
    },
    {
     "name": "stderr",
     "output_type": "stream",
     "text": [
      "C:\\Users\\kaomi\\AppData\\Local\\Temp\\ipykernel_18768\\4236682315.py:4: FutureWarning: 'Y' is deprecated and will be removed in a future version, please use 'YE' instead.\n",
      "  ind_er = current_data.resample('Y').last().pct_change().mean()\n"
     ]
    },
    {
     "name": "stdout",
     "output_type": "stream",
     "text": [
      "HV 0.05133271587644136\n",
      "trade data is 2024-07-18 00:00:00\n",
      "current budget is 1153148.9745292137\n",
      "Current day is: 55\n"
     ]
    },
    {
     "name": "stderr",
     "output_type": "stream",
     "text": [
      "C:\\Users\\kaomi\\AppData\\Local\\Temp\\ipykernel_18768\\4236682315.py:4: FutureWarning: 'Y' is deprecated and will be removed in a future version, please use 'YE' instead.\n",
      "  ind_er = current_data.resample('Y').last().pct_change().mean()\n"
     ]
    },
    {
     "name": "stdout",
     "output_type": "stream",
     "text": [
      "HV 0.05095276334750781\n",
      "trade data is 2024-07-19 00:00:00\n",
      "current budget is 1140408.8908009895\n",
      "Current day is: 56\n"
     ]
    },
    {
     "name": "stderr",
     "output_type": "stream",
     "text": [
      "C:\\Users\\kaomi\\AppData\\Local\\Temp\\ipykernel_18768\\4236682315.py:4: FutureWarning: 'Y' is deprecated and will be removed in a future version, please use 'YE' instead.\n",
      "  ind_er = current_data.resample('Y').last().pct_change().mean()\n"
     ]
    },
    {
     "name": "stdout",
     "output_type": "stream",
     "text": [
      "HV 0.051862371087120766\n",
      "trade data is 2024-07-22 00:00:00\n",
      "current budget is 1162557.198312756\n",
      "Current day is: 57\n"
     ]
    },
    {
     "name": "stderr",
     "output_type": "stream",
     "text": [
      "C:\\Users\\kaomi\\AppData\\Local\\Temp\\ipykernel_18768\\4236682315.py:4: FutureWarning: 'Y' is deprecated and will be removed in a future version, please use 'YE' instead.\n",
      "  ind_er = current_data.resample('Y').last().pct_change().mean()\n"
     ]
    },
    {
     "name": "stdout",
     "output_type": "stream",
     "text": [
      "HV 0.05174286367883943\n",
      "trade data is 2024-07-23 00:00:00\n",
      "current budget is 1160143.439615622\n",
      "Current day is: 58\n"
     ]
    },
    {
     "name": "stderr",
     "output_type": "stream",
     "text": [
      "C:\\Users\\kaomi\\AppData\\Local\\Temp\\ipykernel_18768\\4236682315.py:4: FutureWarning: 'Y' is deprecated and will be removed in a future version, please use 'YE' instead.\n",
      "  ind_er = current_data.resample('Y').last().pct_change().mean()\n"
     ]
    },
    {
     "name": "stdout",
     "output_type": "stream",
     "text": [
      "HV 0.052048449450767816\n",
      "trade data is 2024-07-24 00:00:00\n",
      "current budget is 1129017.2346302154\n",
      "Current day is: 59\n"
     ]
    },
    {
     "name": "stderr",
     "output_type": "stream",
     "text": [
      "C:\\Users\\kaomi\\AppData\\Local\\Temp\\ipykernel_18768\\4236682315.py:4: FutureWarning: 'Y' is deprecated and will be removed in a future version, please use 'YE' instead.\n",
      "  ind_er = current_data.resample('Y').last().pct_change().mean()\n"
     ]
    },
    {
     "name": "stdout",
     "output_type": "stream",
     "text": [
      "HV 0.05188534523371536\n",
      "trade data is 2024-07-25 00:00:00\n",
      "current budget is 1107990.3693392542\n",
      "Current day is: 60\n"
     ]
    },
    {
     "name": "stderr",
     "output_type": "stream",
     "text": [
      "C:\\Users\\kaomi\\AppData\\Local\\Temp\\ipykernel_18768\\4236682315.py:4: FutureWarning: 'Y' is deprecated and will be removed in a future version, please use 'YE' instead.\n",
      "  ind_er = current_data.resample('Y').last().pct_change().mean()\n"
     ]
    },
    {
     "name": "stdout",
     "output_type": "stream",
     "text": [
      "HV 0.053580630878809495\n",
      "trade data is 2024-07-26 00:00:00\n",
      "current budget is 1102246.1334314414\n",
      "Current day is: 61\n"
     ]
    },
    {
     "name": "stderr",
     "output_type": "stream",
     "text": [
      "C:\\Users\\kaomi\\AppData\\Local\\Temp\\ipykernel_18768\\4236682315.py:4: FutureWarning: 'Y' is deprecated and will be removed in a future version, please use 'YE' instead.\n",
      "  ind_er = current_data.resample('Y').last().pct_change().mean()\n"
     ]
    },
    {
     "name": "stdout",
     "output_type": "stream",
     "text": [
      "HV 0.051743210911064666\n",
      "trade data is 2024-07-29 00:00:00\n",
      "current budget is 1095866.5340329036\n",
      "Current day is: 62\n"
     ]
    },
    {
     "name": "stderr",
     "output_type": "stream",
     "text": [
      "C:\\Users\\kaomi\\AppData\\Local\\Temp\\ipykernel_18768\\4236682315.py:4: FutureWarning: 'Y' is deprecated and will be removed in a future version, please use 'YE' instead.\n",
      "  ind_er = current_data.resample('Y').last().pct_change().mean()\n"
     ]
    },
    {
     "name": "stdout",
     "output_type": "stream",
     "text": [
      "HV 0.04905271738144809\n",
      "trade data is 2024-07-30 00:00:00\n",
      "current budget is 1059190.5168161765\n",
      "Current day is: 63\n"
     ]
    },
    {
     "name": "stderr",
     "output_type": "stream",
     "text": [
      "C:\\Users\\kaomi\\AppData\\Local\\Temp\\ipykernel_18768\\4236682315.py:4: FutureWarning: 'Y' is deprecated and will be removed in a future version, please use 'YE' instead.\n",
      "  ind_er = current_data.resample('Y').last().pct_change().mean()\n"
     ]
    },
    {
     "name": "stdout",
     "output_type": "stream",
     "text": [
      "HV 0.05282374084328873\n",
      "trade data is 2024-07-31 00:00:00\n",
      "current budget is 1110802.354161181\n",
      "Current day is: 64\n"
     ]
    },
    {
     "name": "stderr",
     "output_type": "stream",
     "text": [
      "C:\\Users\\kaomi\\AppData\\Local\\Temp\\ipykernel_18768\\4236682315.py:4: FutureWarning: 'Y' is deprecated and will be removed in a future version, please use 'YE' instead.\n",
      "  ind_er = current_data.resample('Y').last().pct_change().mean()\n"
     ]
    },
    {
     "name": "stdout",
     "output_type": "stream",
     "text": [
      "HV 0.05289626756767503\n",
      "trade data is 2024-08-01 00:00:00\n",
      "current budget is 1092585.5281295641\n",
      "Current day is: 65\n"
     ]
    },
    {
     "name": "stderr",
     "output_type": "stream",
     "text": [
      "C:\\Users\\kaomi\\AppData\\Local\\Temp\\ipykernel_18768\\4236682315.py:4: FutureWarning: 'Y' is deprecated and will be removed in a future version, please use 'YE' instead.\n",
      "  ind_er = current_data.resample('Y').last().pct_change().mean()\n"
     ]
    },
    {
     "name": "stdout",
     "output_type": "stream",
     "text": [
      "HV 0.05207440270812074\n",
      "trade data is 2024-08-02 00:00:00\n",
      "current budget is 1072843.9413293519\n",
      "Current day is: 66\n"
     ]
    },
    {
     "name": "stderr",
     "output_type": "stream",
     "text": [
      "C:\\Users\\kaomi\\AppData\\Local\\Temp\\ipykernel_18768\\4236682315.py:4: FutureWarning: 'Y' is deprecated and will be removed in a future version, please use 'YE' instead.\n",
      "  ind_er = current_data.resample('Y').last().pct_change().mean()\n"
     ]
    },
    {
     "name": "stdout",
     "output_type": "stream",
     "text": [
      "HV 0.05195244503297414\n",
      "trade data is 2024-08-05 00:00:00\n",
      "current budget is 1030063.6140541486\n",
      "Current day is: 67\n"
     ]
    },
    {
     "name": "stderr",
     "output_type": "stream",
     "text": [
      "C:\\Users\\kaomi\\AppData\\Local\\Temp\\ipykernel_18768\\4236682315.py:4: FutureWarning: 'Y' is deprecated and will be removed in a future version, please use 'YE' instead.\n",
      "  ind_er = current_data.resample('Y').last().pct_change().mean()\n"
     ]
    },
    {
     "name": "stdout",
     "output_type": "stream",
     "text": [
      "HV 0.051996015668778914\n",
      "trade data is 2024-08-06 00:00:00\n",
      "current budget is 1050625.560942607\n",
      "Current day is: 68\n"
     ]
    },
    {
     "name": "stderr",
     "output_type": "stream",
     "text": [
      "C:\\Users\\kaomi\\AppData\\Local\\Temp\\ipykernel_18768\\4236682315.py:4: FutureWarning: 'Y' is deprecated and will be removed in a future version, please use 'YE' instead.\n",
      "  ind_er = current_data.resample('Y').last().pct_change().mean()\n"
     ]
    },
    {
     "name": "stdout",
     "output_type": "stream",
     "text": [
      "HV 0.05433853405395992\n",
      "trade data is 2024-08-07 00:00:00\n",
      "current budget is 1028671.2565396202\n",
      "Current day is: 69\n"
     ]
    },
    {
     "name": "stderr",
     "output_type": "stream",
     "text": [
      "C:\\Users\\kaomi\\AppData\\Local\\Temp\\ipykernel_18768\\4236682315.py:4: FutureWarning: 'Y' is deprecated and will be removed in a future version, please use 'YE' instead.\n",
      "  ind_er = current_data.resample('Y').last().pct_change().mean()\n"
     ]
    },
    {
     "name": "stdout",
     "output_type": "stream",
     "text": [
      "HV 0.05196649860771979\n",
      "trade data is 2024-08-08 00:00:00\n",
      "current budget is 1090776.1691337596\n",
      "Current day is: 70\n"
     ]
    },
    {
     "name": "stderr",
     "output_type": "stream",
     "text": [
      "C:\\Users\\kaomi\\AppData\\Local\\Temp\\ipykernel_18768\\4236682315.py:4: FutureWarning: 'Y' is deprecated and will be removed in a future version, please use 'YE' instead.\n",
      "  ind_er = current_data.resample('Y').last().pct_change().mean()\n"
     ]
    },
    {
     "name": "stdout",
     "output_type": "stream",
     "text": [
      "HV 0.05321665228237067\n",
      "trade data is 2024-08-09 00:00:00\n",
      "current budget is 1115380.8255705952\n",
      "Current day is: 71\n"
     ]
    },
    {
     "name": "stderr",
     "output_type": "stream",
     "text": [
      "C:\\Users\\kaomi\\AppData\\Local\\Temp\\ipykernel_18768\\4236682315.py:4: FutureWarning: 'Y' is deprecated and will be removed in a future version, please use 'YE' instead.\n",
      "  ind_er = current_data.resample('Y').last().pct_change().mean()\n"
     ]
    },
    {
     "name": "stdout",
     "output_type": "stream",
     "text": [
      "HV 0.0519430041974763\n",
      "trade data is 2024-08-12 00:00:00\n",
      "current budget is 1126589.8748298083\n",
      "Current day is: 72\n"
     ]
    },
    {
     "name": "stderr",
     "output_type": "stream",
     "text": [
      "C:\\Users\\kaomi\\AppData\\Local\\Temp\\ipykernel_18768\\4236682315.py:4: FutureWarning: 'Y' is deprecated and will be removed in a future version, please use 'YE' instead.\n",
      "  ind_er = current_data.resample('Y').last().pct_change().mean()\n"
     ]
    },
    {
     "name": "stdout",
     "output_type": "stream",
     "text": [
      "HV 0.05182269410149415\n",
      "trade data is 2024-08-13 00:00:00\n",
      "current budget is 1160620.9690880303\n",
      "Current day is: 73\n"
     ]
    },
    {
     "name": "stderr",
     "output_type": "stream",
     "text": [
      "C:\\Users\\kaomi\\AppData\\Local\\Temp\\ipykernel_18768\\4236682315.py:4: FutureWarning: 'Y' is deprecated and will be removed in a future version, please use 'YE' instead.\n",
      "  ind_er = current_data.resample('Y').last().pct_change().mean()\n"
     ]
    },
    {
     "name": "stdout",
     "output_type": "stream",
     "text": [
      "HV 0.05230042208493154\n",
      "trade data is 2024-08-14 00:00:00\n",
      "current budget is 1180669.1676113384\n",
      "Current day is: 74\n"
     ]
    },
    {
     "name": "stderr",
     "output_type": "stream",
     "text": [
      "C:\\Users\\kaomi\\AppData\\Local\\Temp\\ipykernel_18768\\4236682315.py:4: FutureWarning: 'Y' is deprecated and will be removed in a future version, please use 'YE' instead.\n",
      "  ind_er = current_data.resample('Y').last().pct_change().mean()\n"
     ]
    },
    {
     "name": "stdout",
     "output_type": "stream",
     "text": [
      "HV 0.050257893763280846\n",
      "trade data is 2024-08-15 00:00:00\n",
      "current budget is 1199356.14928099\n",
      "Current day is: 75\n"
     ]
    },
    {
     "name": "stderr",
     "output_type": "stream",
     "text": [
      "C:\\Users\\kaomi\\AppData\\Local\\Temp\\ipykernel_18768\\4236682315.py:4: FutureWarning: 'Y' is deprecated and will be removed in a future version, please use 'YE' instead.\n",
      "  ind_er = current_data.resample('Y').last().pct_change().mean()\n"
     ]
    },
    {
     "name": "stdout",
     "output_type": "stream",
     "text": [
      "HV 0.051696605974481516\n",
      "trade data is 2024-08-16 00:00:00\n",
      "current budget is 1198359.549151489\n",
      "Current day is: 76\n"
     ]
    },
    {
     "name": "stderr",
     "output_type": "stream",
     "text": [
      "C:\\Users\\kaomi\\AppData\\Local\\Temp\\ipykernel_18768\\4236682315.py:4: FutureWarning: 'Y' is deprecated and will be removed in a future version, please use 'YE' instead.\n",
      "  ind_er = current_data.resample('Y').last().pct_change().mean()\n"
     ]
    },
    {
     "name": "stdout",
     "output_type": "stream",
     "text": [
      "HV 0.05060262847691745\n",
      "trade data is 2024-08-19 00:00:00\n",
      "current budget is 1216796.0579158985\n",
      "Current day is: 77\n"
     ]
    },
    {
     "name": "stderr",
     "output_type": "stream",
     "text": [
      "C:\\Users\\kaomi\\AppData\\Local\\Temp\\ipykernel_18768\\4236682315.py:4: FutureWarning: 'Y' is deprecated and will be removed in a future version, please use 'YE' instead.\n",
      "  ind_er = current_data.resample('Y').last().pct_change().mean()\n"
     ]
    },
    {
     "name": "stdout",
     "output_type": "stream",
     "text": [
      "HV 0.05017717119605953\n",
      "trade data is 2024-08-20 00:00:00\n",
      "current budget is 1212802.101997496\n",
      "Current day is: 78\n"
     ]
    },
    {
     "name": "stderr",
     "output_type": "stream",
     "text": [
      "C:\\Users\\kaomi\\AppData\\Local\\Temp\\ipykernel_18768\\4236682315.py:4: FutureWarning: 'Y' is deprecated and will be removed in a future version, please use 'YE' instead.\n",
      "  ind_er = current_data.resample('Y').last().pct_change().mean()\n"
     ]
    },
    {
     "name": "stdout",
     "output_type": "stream",
     "text": [
      "HV 0.049916797430325635\n",
      "trade data is 2024-08-21 00:00:00\n",
      "current budget is 1215472.132637473\n",
      "Current day is: 79\n"
     ]
    },
    {
     "name": "stderr",
     "output_type": "stream",
     "text": [
      "C:\\Users\\kaomi\\AppData\\Local\\Temp\\ipykernel_18768\\4236682315.py:4: FutureWarning: 'Y' is deprecated and will be removed in a future version, please use 'YE' instead.\n",
      "  ind_er = current_data.resample('Y').last().pct_change().mean()\n"
     ]
    },
    {
     "name": "stdout",
     "output_type": "stream",
     "text": [
      "HV 0.04674296030210948\n",
      "trade data is 2024-08-22 00:00:00\n",
      "current budget is 1202805.9834991186\n",
      "Current day is: 80\n"
     ]
    },
    {
     "name": "stderr",
     "output_type": "stream",
     "text": [
      "C:\\Users\\kaomi\\AppData\\Local\\Temp\\ipykernel_18768\\4236682315.py:4: FutureWarning: 'Y' is deprecated and will be removed in a future version, please use 'YE' instead.\n",
      "  ind_er = current_data.resample('Y').last().pct_change().mean()\n"
     ]
    },
    {
     "name": "stdout",
     "output_type": "stream",
     "text": [
      "HV 0.049547536798148044\n",
      "trade data is 2024-08-23 00:00:00\n",
      "current budget is 1224865.7455481007\n",
      "Current day is: 81\n"
     ]
    },
    {
     "name": "stderr",
     "output_type": "stream",
     "text": [
      "C:\\Users\\kaomi\\AppData\\Local\\Temp\\ipykernel_18768\\4236682315.py:4: FutureWarning: 'Y' is deprecated and will be removed in a future version, please use 'YE' instead.\n",
      "  ind_er = current_data.resample('Y').last().pct_change().mean()\n"
     ]
    },
    {
     "name": "stdout",
     "output_type": "stream",
     "text": [
      "HV 0.04740166417865132\n",
      "trade data is 2024-08-26 00:00:00\n",
      "current budget is 1222288.1985656607\n",
      "Current day is: 82\n"
     ]
    },
    {
     "name": "stderr",
     "output_type": "stream",
     "text": [
      "C:\\Users\\kaomi\\AppData\\Local\\Temp\\ipykernel_18768\\4236682315.py:4: FutureWarning: 'Y' is deprecated and will be removed in a future version, please use 'YE' instead.\n",
      "  ind_er = current_data.resample('Y').last().pct_change().mean()\n"
     ]
    },
    {
     "name": "stdout",
     "output_type": "stream",
     "text": [
      "HV 0.047741783753424916\n",
      "trade data is 2024-08-27 00:00:00\n",
      "current budget is 1227993.4248518317\n",
      "Current day is: 83\n"
     ]
    },
    {
     "name": "stderr",
     "output_type": "stream",
     "text": [
      "C:\\Users\\kaomi\\AppData\\Local\\Temp\\ipykernel_18768\\4236682315.py:4: FutureWarning: 'Y' is deprecated and will be removed in a future version, please use 'YE' instead.\n",
      "  ind_er = current_data.resample('Y').last().pct_change().mean()\n"
     ]
    },
    {
     "name": "stdout",
     "output_type": "stream",
     "text": [
      "HV 0.04900114744861991\n",
      "trade data is 2024-08-28 00:00:00\n",
      "current budget is 1213824.7354886583\n",
      "Current day is: 84\n"
     ]
    },
    {
     "name": "stderr",
     "output_type": "stream",
     "text": [
      "C:\\Users\\kaomi\\AppData\\Local\\Temp\\ipykernel_18768\\4236682315.py:4: FutureWarning: 'Y' is deprecated and will be removed in a future version, please use 'YE' instead.\n",
      "  ind_er = current_data.resample('Y').last().pct_change().mean()\n"
     ]
    },
    {
     "name": "stdout",
     "output_type": "stream",
     "text": [
      "HV 0.04847964666714035\n",
      "trade data is 2024-08-29 00:00:00\n",
      "current budget is 1186127.3511189884\n",
      "Current day is: 85\n"
     ]
    },
    {
     "name": "stderr",
     "output_type": "stream",
     "text": [
      "C:\\Users\\kaomi\\AppData\\Local\\Temp\\ipykernel_18768\\4236682315.py:4: FutureWarning: 'Y' is deprecated and will be removed in a future version, please use 'YE' instead.\n",
      "  ind_er = current_data.resample('Y').last().pct_change().mean()\n"
     ]
    },
    {
     "name": "stdout",
     "output_type": "stream",
     "text": [
      "HV 0.04670049438446941\n",
      "trade data is 2024-08-30 00:00:00\n",
      "current budget is 1200389.5819558396\n",
      "Current day is: 86\n"
     ]
    },
    {
     "name": "stderr",
     "output_type": "stream",
     "text": [
      "C:\\Users\\kaomi\\AppData\\Local\\Temp\\ipykernel_18768\\4236682315.py:4: FutureWarning: 'Y' is deprecated and will be removed in a future version, please use 'YE' instead.\n",
      "  ind_er = current_data.resample('Y').last().pct_change().mean()\n"
     ]
    },
    {
     "name": "stdout",
     "output_type": "stream",
     "text": [
      "HV 0.04791380378334048\n",
      "trade data is 2024-09-03 00:00:00\n",
      "current budget is 1156273.2165268487\n",
      "Current day is: 87\n"
     ]
    },
    {
     "name": "stderr",
     "output_type": "stream",
     "text": [
      "C:\\Users\\kaomi\\AppData\\Local\\Temp\\ipykernel_18768\\4236682315.py:4: FutureWarning: 'Y' is deprecated and will be removed in a future version, please use 'YE' instead.\n",
      "  ind_er = current_data.resample('Y').last().pct_change().mean()\n"
     ]
    },
    {
     "name": "stdout",
     "output_type": "stream",
     "text": [
      "HV 0.04783999800576719\n",
      "trade data is 2024-09-04 00:00:00\n",
      "current budget is 1142083.2952183168\n",
      "Current day is: 88\n"
     ]
    },
    {
     "name": "stderr",
     "output_type": "stream",
     "text": [
      "C:\\Users\\kaomi\\AppData\\Local\\Temp\\ipykernel_18768\\4236682315.py:4: FutureWarning: 'Y' is deprecated and will be removed in a future version, please use 'YE' instead.\n",
      "  ind_er = current_data.resample('Y').last().pct_change().mean()\n"
     ]
    },
    {
     "name": "stdout",
     "output_type": "stream",
     "text": [
      "HV 0.04878403797653085\n",
      "trade data is 2024-09-05 00:00:00\n",
      "current budget is 1126808.9766879766\n",
      "Current day is: 89\n"
     ]
    },
    {
     "name": "stderr",
     "output_type": "stream",
     "text": [
      "C:\\Users\\kaomi\\AppData\\Local\\Temp\\ipykernel_18768\\4236682315.py:4: FutureWarning: 'Y' is deprecated and will be removed in a future version, please use 'YE' instead.\n",
      "  ind_er = current_data.resample('Y').last().pct_change().mean()\n"
     ]
    },
    {
     "name": "stdout",
     "output_type": "stream",
     "text": [
      "HV 0.047975472603265346\n",
      "trade data is 2024-09-06 00:00:00\n",
      "current budget is 1105831.8870004485\n",
      "Current day is: 90\n"
     ]
    },
    {
     "name": "stderr",
     "output_type": "stream",
     "text": [
      "C:\\Users\\kaomi\\AppData\\Local\\Temp\\ipykernel_18768\\4236682315.py:4: FutureWarning: 'Y' is deprecated and will be removed in a future version, please use 'YE' instead.\n",
      "  ind_er = current_data.resample('Y').last().pct_change().mean()\n"
     ]
    },
    {
     "name": "stdout",
     "output_type": "stream",
     "text": [
      "HV 0.04762286935084722\n",
      "trade data is 2024-09-09 00:00:00\n",
      "current budget is 1128123.053040399\n",
      "Current day is: 91\n"
     ]
    },
    {
     "name": "stderr",
     "output_type": "stream",
     "text": [
      "C:\\Users\\kaomi\\AppData\\Local\\Temp\\ipykernel_18768\\4236682315.py:4: FutureWarning: 'Y' is deprecated and will be removed in a future version, please use 'YE' instead.\n",
      "  ind_er = current_data.resample('Y').last().pct_change().mean()\n"
     ]
    },
    {
     "name": "stdout",
     "output_type": "stream",
     "text": [
      "HV 0.04794539156065127\n",
      "trade data is 2024-09-10 00:00:00\n",
      "current budget is 1119508.5729757706\n",
      "Current day is: 92\n"
     ]
    },
    {
     "name": "stderr",
     "output_type": "stream",
     "text": [
      "C:\\Users\\kaomi\\AppData\\Local\\Temp\\ipykernel_18768\\4236682315.py:4: FutureWarning: 'Y' is deprecated and will be removed in a future version, please use 'YE' instead.\n",
      "  ind_er = current_data.resample('Y').last().pct_change().mean()\n"
     ]
    },
    {
     "name": "stdout",
     "output_type": "stream",
     "text": [
      "HV 0.0489060487458487\n",
      "trade data is 2024-09-11 00:00:00\n",
      "current budget is 1148049.9788912467\n",
      "Current day is: 93\n"
     ]
    },
    {
     "name": "stderr",
     "output_type": "stream",
     "text": [
      "C:\\Users\\kaomi\\AppData\\Local\\Temp\\ipykernel_18768\\4236682315.py:4: FutureWarning: 'Y' is deprecated and will be removed in a future version, please use 'YE' instead.\n",
      "  ind_er = current_data.resample('Y').last().pct_change().mean()\n"
     ]
    },
    {
     "name": "stdout",
     "output_type": "stream",
     "text": [
      "HV 0.04703175017663212\n",
      "trade data is 2024-09-12 00:00:00\n",
      "current budget is 1163975.3964664068\n",
      "Current day is: 94\n"
     ]
    },
    {
     "name": "stderr",
     "output_type": "stream",
     "text": [
      "C:\\Users\\kaomi\\AppData\\Local\\Temp\\ipykernel_18768\\4236682315.py:4: FutureWarning: 'Y' is deprecated and will be removed in a future version, please use 'YE' instead.\n",
      "  ind_er = current_data.resample('Y').last().pct_change().mean()\n"
     ]
    },
    {
     "name": "stdout",
     "output_type": "stream",
     "text": [
      "HV 0.04887069990778398\n",
      "trade data is 2024-09-13 00:00:00\n",
      "current budget is 1159714.393988349\n",
      "Current day is: 95\n"
     ]
    },
    {
     "name": "stderr",
     "output_type": "stream",
     "text": [
      "C:\\Users\\kaomi\\AppData\\Local\\Temp\\ipykernel_18768\\4236682315.py:4: FutureWarning: 'Y' is deprecated and will be removed in a future version, please use 'YE' instead.\n",
      "  ind_er = current_data.resample('Y').last().pct_change().mean()\n"
     ]
    },
    {
     "name": "stdout",
     "output_type": "stream",
     "text": [
      "HV 0.04446138036333021\n",
      "trade data is 2024-09-16 00:00:00\n",
      "current budget is 1156512.6594605087\n",
      "Current day is: 96\n"
     ]
    },
    {
     "name": "stderr",
     "output_type": "stream",
     "text": [
      "C:\\Users\\kaomi\\AppData\\Local\\Temp\\ipykernel_18768\\4236682315.py:4: FutureWarning: 'Y' is deprecated and will be removed in a future version, please use 'YE' instead.\n",
      "  ind_er = current_data.resample('Y').last().pct_change().mean()\n"
     ]
    },
    {
     "name": "stdout",
     "output_type": "stream",
     "text": [
      "HV 0.04512516104396697\n",
      "trade data is 2024-09-17 00:00:00\n",
      "current budget is 1147349.991938849\n",
      "Current day is: 97\n"
     ]
    },
    {
     "name": "stderr",
     "output_type": "stream",
     "text": [
      "C:\\Users\\kaomi\\AppData\\Local\\Temp\\ipykernel_18768\\4236682315.py:4: FutureWarning: 'Y' is deprecated and will be removed in a future version, please use 'YE' instead.\n",
      "  ind_er = current_data.resample('Y').last().pct_change().mean()\n"
     ]
    },
    {
     "name": "stdout",
     "output_type": "stream",
     "text": [
      "HV 0.0469671698004689\n",
      "trade data is 2024-09-18 00:00:00\n",
      "current budget is 1141798.9777624395\n",
      "Current day is: 98\n"
     ]
    },
    {
     "name": "stderr",
     "output_type": "stream",
     "text": [
      "C:\\Users\\kaomi\\AppData\\Local\\Temp\\ipykernel_18768\\4236682315.py:4: FutureWarning: 'Y' is deprecated and will be removed in a future version, please use 'YE' instead.\n",
      "  ind_er = current_data.resample('Y').last().pct_change().mean()\n"
     ]
    },
    {
     "name": "stdout",
     "output_type": "stream",
     "text": [
      "HV 0.048616032650832273\n",
      "trade data is 2024-09-19 00:00:00\n",
      "current budget is 1163578.493217424\n",
      "Current day is: 99\n"
     ]
    },
    {
     "name": "stderr",
     "output_type": "stream",
     "text": [
      "C:\\Users\\kaomi\\AppData\\Local\\Temp\\ipykernel_18768\\4236682315.py:4: FutureWarning: 'Y' is deprecated and will be removed in a future version, please use 'YE' instead.\n",
      "  ind_er = current_data.resample('Y').last().pct_change().mean()\n"
     ]
    },
    {
     "name": "stdout",
     "output_type": "stream",
     "text": [
      "HV 0.04796088629820577\n",
      "trade data is 2024-09-20 00:00:00\n",
      "current budget is 1158479.5244862165\n",
      "Current day is: 100\n"
     ]
    },
    {
     "name": "stderr",
     "output_type": "stream",
     "text": [
      "C:\\Users\\kaomi\\AppData\\Local\\Temp\\ipykernel_18768\\4236682315.py:4: FutureWarning: 'Y' is deprecated and will be removed in a future version, please use 'YE' instead.\n",
      "  ind_er = current_data.resample('Y').last().pct_change().mean()\n"
     ]
    },
    {
     "name": "stdout",
     "output_type": "stream",
     "text": [
      "HV 0.04670972134124837\n",
      "trade data is 2024-09-23 00:00:00\n",
      "current budget is 1163519.8278448181\n",
      "Current day is: 101\n"
     ]
    },
    {
     "name": "stderr",
     "output_type": "stream",
     "text": [
      "C:\\Users\\kaomi\\AppData\\Local\\Temp\\ipykernel_18768\\4236682315.py:4: FutureWarning: 'Y' is deprecated and will be removed in a future version, please use 'YE' instead.\n",
      "  ind_er = current_data.resample('Y').last().pct_change().mean()\n"
     ]
    },
    {
     "name": "stdout",
     "output_type": "stream",
     "text": [
      "HV 0.04598814947504396\n",
      "trade data is 2024-09-24 00:00:00\n",
      "current budget is 1179683.5391230774\n",
      "Current day is: 102\n"
     ]
    },
    {
     "name": "stderr",
     "output_type": "stream",
     "text": [
      "C:\\Users\\kaomi\\AppData\\Local\\Temp\\ipykernel_18768\\4236682315.py:4: FutureWarning: 'Y' is deprecated and will be removed in a future version, please use 'YE' instead.\n",
      "  ind_er = current_data.resample('Y').last().pct_change().mean()\n"
     ]
    },
    {
     "name": "stdout",
     "output_type": "stream",
     "text": [
      "HV 0.045239559767878613\n",
      "trade data is 2024-09-25 00:00:00\n",
      "current budget is 1180832.3155338378\n",
      "Current day is: 103\n"
     ]
    },
    {
     "name": "stderr",
     "output_type": "stream",
     "text": [
      "C:\\Users\\kaomi\\AppData\\Local\\Temp\\ipykernel_18768\\4236682315.py:4: FutureWarning: 'Y' is deprecated and will be removed in a future version, please use 'YE' instead.\n",
      "  ind_er = current_data.resample('Y').last().pct_change().mean()\n"
     ]
    },
    {
     "name": "stdout",
     "output_type": "stream",
     "text": [
      "HV 0.04653743768177913\n",
      "trade data is 2024-09-26 00:00:00\n",
      "current budget is 1169664.4405841904\n",
      "Current day is: 104\n"
     ]
    },
    {
     "name": "stderr",
     "output_type": "stream",
     "text": [
      "C:\\Users\\kaomi\\AppData\\Local\\Temp\\ipykernel_18768\\4236682315.py:4: FutureWarning: 'Y' is deprecated and will be removed in a future version, please use 'YE' instead.\n",
      "  ind_er = current_data.resample('Y').last().pct_change().mean()\n"
     ]
    },
    {
     "name": "stdout",
     "output_type": "stream",
     "text": [
      "HV 0.04827573747171931\n",
      "trade data is 2024-09-27 00:00:00\n",
      "current budget is 1154678.8263701836\n",
      "Current day is: 105\n"
     ]
    },
    {
     "name": "stderr",
     "output_type": "stream",
     "text": [
      "C:\\Users\\kaomi\\AppData\\Local\\Temp\\ipykernel_18768\\4236682315.py:4: FutureWarning: 'Y' is deprecated and will be removed in a future version, please use 'YE' instead.\n",
      "  ind_er = current_data.resample('Y').last().pct_change().mean()\n"
     ]
    },
    {
     "name": "stdout",
     "output_type": "stream",
     "text": [
      "HV 0.04990510900963782\n",
      "trade data is 2024-09-30 00:00:00\n",
      "current budget is 1162826.1559837572\n",
      "Current day is: 106\n"
     ]
    },
    {
     "name": "stderr",
     "output_type": "stream",
     "text": [
      "C:\\Users\\kaomi\\AppData\\Local\\Temp\\ipykernel_18768\\4236682315.py:4: FutureWarning: 'Y' is deprecated and will be removed in a future version, please use 'YE' instead.\n",
      "  ind_er = current_data.resample('Y').last().pct_change().mean()\n"
     ]
    },
    {
     "name": "stdout",
     "output_type": "stream",
     "text": [
      "HV 0.0475959057317367\n",
      "trade data is 2024-10-01 00:00:00\n",
      "current budget is 1154560.8679888106\n",
      "Current day is: 107\n"
     ]
    },
    {
     "name": "stderr",
     "output_type": "stream",
     "text": [
      "C:\\Users\\kaomi\\AppData\\Local\\Temp\\ipykernel_18768\\4236682315.py:4: FutureWarning: 'Y' is deprecated and will be removed in a future version, please use 'YE' instead.\n",
      "  ind_er = current_data.resample('Y').last().pct_change().mean()\n"
     ]
    },
    {
     "name": "stdout",
     "output_type": "stream",
     "text": [
      "HV 0.04582423655340118\n",
      "trade data is 2024-10-02 00:00:00\n",
      "current budget is 1164191.4903285552\n",
      "Current day is: 108\n"
     ]
    },
    {
     "name": "stderr",
     "output_type": "stream",
     "text": [
      "C:\\Users\\kaomi\\AppData\\Local\\Temp\\ipykernel_18768\\4236682315.py:4: FutureWarning: 'Y' is deprecated and will be removed in a future version, please use 'YE' instead.\n",
      "  ind_er = current_data.resample('Y').last().pct_change().mean()\n",
      "C:\\Users\\kaomi\\AppData\\Local\\Temp\\ipykernel_18768\\4236682315.py:4: FutureWarning: 'Y' is deprecated and will be removed in a future version, please use 'YE' instead.\n",
      "  ind_er = current_data.resample('Y').last().pct_change().mean()\n"
     ]
    },
    {
     "name": "stdout",
     "output_type": "stream",
     "text": [
      "HV 0.04569854321274637\n",
      "trade data is 2024-10-03 00:00:00\n",
      "current budget is 1173897.4059518725\n",
      "Current day is: 109\n",
      "HV 0.04739283022039578\n",
      "trade data is 2024-10-04 00:00:00\n",
      "current budget is 1187395.0987525159\n",
      "Current day is: 110\n"
     ]
    },
    {
     "name": "stderr",
     "output_type": "stream",
     "text": [
      "C:\\Users\\kaomi\\AppData\\Local\\Temp\\ipykernel_18768\\4236682315.py:4: FutureWarning: 'Y' is deprecated and will be removed in a future version, please use 'YE' instead.\n",
      "  ind_er = current_data.resample('Y').last().pct_change().mean()\n"
     ]
    },
    {
     "name": "stdout",
     "output_type": "stream",
     "text": [
      "HV 0.04622000459034128\n",
      "trade data is 2024-10-07 00:00:00\n",
      "current budget is 1203824.4035127214\n",
      "Current day is: 111\n"
     ]
    },
    {
     "name": "stderr",
     "output_type": "stream",
     "text": [
      "C:\\Users\\kaomi\\AppData\\Local\\Temp\\ipykernel_18768\\4236682315.py:4: FutureWarning: 'Y' is deprecated and will be removed in a future version, please use 'YE' instead.\n",
      "  ind_er = current_data.resample('Y').last().pct_change().mean()\n"
     ]
    },
    {
     "name": "stdout",
     "output_type": "stream",
     "text": [
      "HV 0.0474350661180352\n",
      "trade data is 2024-10-08 00:00:00\n",
      "current budget is 1216483.3036010684\n",
      "Current day is: 112\n"
     ]
    },
    {
     "name": "stderr",
     "output_type": "stream",
     "text": [
      "C:\\Users\\kaomi\\AppData\\Local\\Temp\\ipykernel_18768\\4236682315.py:4: FutureWarning: 'Y' is deprecated and will be removed in a future version, please use 'YE' instead.\n",
      "  ind_er = current_data.resample('Y').last().pct_change().mean()\n"
     ]
    },
    {
     "name": "stdout",
     "output_type": "stream",
     "text": [
      "HV 0.04627702265131837\n",
      "trade data is 2024-10-09 00:00:00\n",
      "current budget is 1219490.9127541196\n",
      "Current day is: 113\n"
     ]
    },
    {
     "name": "stderr",
     "output_type": "stream",
     "text": [
      "C:\\Users\\kaomi\\AppData\\Local\\Temp\\ipykernel_18768\\4236682315.py:4: FutureWarning: 'Y' is deprecated and will be removed in a future version, please use 'YE' instead.\n",
      "  ind_er = current_data.resample('Y').last().pct_change().mean()\n"
     ]
    },
    {
     "name": "stdout",
     "output_type": "stream",
     "text": [
      "HV 0.04625718831798687\n",
      "trade data is 2024-10-10 00:00:00\n",
      "current budget is 1222988.7778328587\n",
      "Current day is: 114\n"
     ]
    },
    {
     "name": "stderr",
     "output_type": "stream",
     "text": [
      "C:\\Users\\kaomi\\AppData\\Local\\Temp\\ipykernel_18768\\4236682315.py:4: FutureWarning: 'Y' is deprecated and will be removed in a future version, please use 'YE' instead.\n",
      "  ind_er = current_data.resample('Y').last().pct_change().mean()\n"
     ]
    },
    {
     "name": "stdout",
     "output_type": "stream",
     "text": [
      "HV 0.048135848803233995\n",
      "trade data is 2024-10-11 00:00:00\n",
      "current budget is 1234845.7205936646\n",
      "Current day is: 115\n"
     ]
    },
    {
     "name": "stderr",
     "output_type": "stream",
     "text": [
      "C:\\Users\\kaomi\\AppData\\Local\\Temp\\ipykernel_18768\\4236682315.py:4: FutureWarning: 'Y' is deprecated and will be removed in a future version, please use 'YE' instead.\n",
      "  ind_er = current_data.resample('Y').last().pct_change().mean()\n"
     ]
    },
    {
     "name": "stdout",
     "output_type": "stream",
     "text": [
      "HV 0.04800046252494969\n",
      "trade data is 2024-10-14 00:00:00\n",
      "current budget is 1246197.2957492168\n",
      "Current day is: 116\n"
     ]
    },
    {
     "name": "stderr",
     "output_type": "stream",
     "text": [
      "C:\\Users\\kaomi\\AppData\\Local\\Temp\\ipykernel_18768\\4236682315.py:4: FutureWarning: 'Y' is deprecated and will be removed in a future version, please use 'YE' instead.\n",
      "  ind_er = current_data.resample('Y').last().pct_change().mean()\n"
     ]
    },
    {
     "name": "stdout",
     "output_type": "stream",
     "text": [
      "HV 0.04507396224781267\n",
      "trade data is 2024-10-15 00:00:00\n",
      "current budget is 1210296.352590716\n",
      "Current day is: 117\n"
     ]
    },
    {
     "name": "stderr",
     "output_type": "stream",
     "text": [
      "C:\\Users\\kaomi\\AppData\\Local\\Temp\\ipykernel_18768\\4236682315.py:4: FutureWarning: 'Y' is deprecated and will be removed in a future version, please use 'YE' instead.\n",
      "  ind_er = current_data.resample('Y').last().pct_change().mean()\n"
     ]
    },
    {
     "name": "stdout",
     "output_type": "stream",
     "text": [
      "HV 0.048642038228484445\n",
      "trade data is 2024-10-16 00:00:00\n",
      "current budget is 1224732.6453589816\n",
      "Current day is: 118\n"
     ]
    },
    {
     "name": "stderr",
     "output_type": "stream",
     "text": [
      "C:\\Users\\kaomi\\AppData\\Local\\Temp\\ipykernel_18768\\4236682315.py:4: FutureWarning: 'Y' is deprecated and will be removed in a future version, please use 'YE' instead.\n",
      "  ind_er = current_data.resample('Y').last().pct_change().mean()\n"
     ]
    },
    {
     "name": "stdout",
     "output_type": "stream",
     "text": [
      "HV 0.04717983485595615\n",
      "trade data is 2024-10-17 00:00:00\n",
      "current budget is 1228227.9255664397\n",
      "Current day is: 119\n"
     ]
    },
    {
     "name": "stderr",
     "output_type": "stream",
     "text": [
      "C:\\Users\\kaomi\\AppData\\Local\\Temp\\ipykernel_18768\\4236682315.py:4: FutureWarning: 'Y' is deprecated and will be removed in a future version, please use 'YE' instead.\n",
      "  ind_er = current_data.resample('Y').last().pct_change().mean()\n"
     ]
    },
    {
     "name": "stdout",
     "output_type": "stream",
     "text": [
      "HV 0.04447250601108969\n",
      "trade data is 2024-10-18 00:00:00\n",
      "current budget is 1231041.10765073\n",
      "Current day is: 120\n"
     ]
    },
    {
     "name": "stderr",
     "output_type": "stream",
     "text": [
      "C:\\Users\\kaomi\\AppData\\Local\\Temp\\ipykernel_18768\\4236682315.py:4: FutureWarning: 'Y' is deprecated and will be removed in a future version, please use 'YE' instead.\n",
      "  ind_er = current_data.resample('Y').last().pct_change().mean()\n"
     ]
    },
    {
     "name": "stdout",
     "output_type": "stream",
     "text": [
      "HV 0.04410109341041381\n",
      "trade data is 2024-10-21 00:00:00\n",
      "current budget is 1242687.9190542449\n",
      "Current day is: 121\n"
     ]
    },
    {
     "name": "stderr",
     "output_type": "stream",
     "text": [
      "C:\\Users\\kaomi\\AppData\\Local\\Temp\\ipykernel_18768\\4236682315.py:4: FutureWarning: 'Y' is deprecated and will be removed in a future version, please use 'YE' instead.\n",
      "  ind_er = current_data.resample('Y').last().pct_change().mean()\n"
     ]
    },
    {
     "name": "stdout",
     "output_type": "stream",
     "text": [
      "HV 0.04615188208130559\n",
      "trade data is 2024-10-22 00:00:00\n",
      "current budget is 1242437.8588529744\n",
      "Current day is: 122\n"
     ]
    },
    {
     "name": "stderr",
     "output_type": "stream",
     "text": [
      "C:\\Users\\kaomi\\AppData\\Local\\Temp\\ipykernel_18768\\4236682315.py:4: FutureWarning: 'Y' is deprecated and will be removed in a future version, please use 'YE' instead.\n",
      "  ind_er = current_data.resample('Y').last().pct_change().mean()\n"
     ]
    },
    {
     "name": "stdout",
     "output_type": "stream",
     "text": [
      "HV 0.04458922852063704\n",
      "trade data is 2024-10-23 00:00:00\n",
      "current budget is 1226909.0485293542\n",
      "Current day is: 123\n"
     ]
    },
    {
     "name": "stderr",
     "output_type": "stream",
     "text": [
      "C:\\Users\\kaomi\\AppData\\Local\\Temp\\ipykernel_18768\\4236682315.py:4: FutureWarning: 'Y' is deprecated and will be removed in a future version, please use 'YE' instead.\n",
      "  ind_er = current_data.resample('Y').last().pct_change().mean()\n"
     ]
    },
    {
     "name": "stdout",
     "output_type": "stream",
     "text": [
      "HV 0.046439356491735105\n",
      "trade data is 2024-10-24 00:00:00\n",
      "current budget is 1223945.996137693\n",
      "Current day is: 124\n"
     ]
    },
    {
     "name": "stderr",
     "output_type": "stream",
     "text": [
      "C:\\Users\\kaomi\\AppData\\Local\\Temp\\ipykernel_18768\\4236682315.py:4: FutureWarning: 'Y' is deprecated and will be removed in a future version, please use 'YE' instead.\n",
      "  ind_er = current_data.resample('Y').last().pct_change().mean()\n"
     ]
    },
    {
     "name": "stdout",
     "output_type": "stream",
     "text": [
      "HV 0.047751287782329316\n",
      "trade data is 2024-10-25 00:00:00\n",
      "current budget is 1224584.8732248875\n",
      "Current day is: 125\n"
     ]
    },
    {
     "name": "stderr",
     "output_type": "stream",
     "text": [
      "C:\\Users\\kaomi\\AppData\\Local\\Temp\\ipykernel_18768\\4236682315.py:4: FutureWarning: 'Y' is deprecated and will be removed in a future version, please use 'YE' instead.\n",
      "  ind_er = current_data.resample('Y').last().pct_change().mean()\n"
     ]
    },
    {
     "name": "stdout",
     "output_type": "stream",
     "text": [
      "HV 0.04555683970267037\n",
      "trade data is 2024-10-28 00:00:00\n",
      "current budget is 1222165.951594044\n",
      "Current day is: 126\n"
     ]
    },
    {
     "name": "stderr",
     "output_type": "stream",
     "text": [
      "C:\\Users\\kaomi\\AppData\\Local\\Temp\\ipykernel_18768\\4236682315.py:4: FutureWarning: 'Y' is deprecated and will be removed in a future version, please use 'YE' instead.\n",
      "  ind_er = current_data.resample('Y').last().pct_change().mean()\n"
     ]
    },
    {
     "ename": "KeyboardInterrupt",
     "evalue": "",
     "output_type": "error",
     "traceback": [
      "\u001b[1;31m---------------------------------------------------------------------------\u001b[0m",
      "\u001b[1;31mKeyboardInterrupt\u001b[0m                         Traceback (most recent call last)",
      "Cell \u001b[1;32mIn[51], line 37\u001b[0m\n\u001b[0;32m     28\u001b[0m \u001b[38;5;250m\u001b[39m\u001b[38;5;124;03m'''\u001b[39;00m\n\u001b[0;32m     29\u001b[0m \u001b[38;5;124;03malgorithm = NSGA2(repair=PortfolioRepair(),\u001b[39;00m\n\u001b[0;32m     30\u001b[0m \u001b[38;5;124;03m                  sampling = config['sampling'],\u001b[39;00m\n\u001b[0;32m     31\u001b[0m \u001b[38;5;124;03m                  crossover=config['crossover'])\u001b[39;00m\n\u001b[0;32m     32\u001b[0m \u001b[38;5;124;03m'''\u001b[39;00m\n\u001b[0;32m     34\u001b[0m algorithm \u001b[38;5;241m=\u001b[39m NSGA2(repair\u001b[38;5;241m=\u001b[39mPortfolioRepair())\n\u001b[1;32m---> 37\u001b[0m res \u001b[38;5;241m=\u001b[39m minimize(problem,\n\u001b[0;32m     38\u001b[0m                algorithm,\n\u001b[0;32m     39\u001b[0m                seed\u001b[38;5;241m=\u001b[39m\u001b[38;5;241m1\u001b[39m,\n\u001b[0;32m     40\u001b[0m                verbose\u001b[38;5;241m=\u001b[39m\u001b[38;5;28;01mFalse\u001b[39;00m)\n\u001b[0;32m     42\u001b[0m \u001b[38;5;66;03m# adding the result\u001b[39;00m\n\u001b[0;32m     43\u001b[0m \u001b[38;5;66;03m# results[config['name']] = res\u001b[39;00m\n\u001b[0;32m     44\u001b[0m \n\u001b[0;32m     45\u001b[0m \u001b[38;5;66;03m# Get optimal portfolio weights\u001b[39;00m\n\u001b[0;32m     46\u001b[0m X, F, sharpe \u001b[38;5;241m=\u001b[39m res\u001b[38;5;241m.\u001b[39mopt\u001b[38;5;241m.\u001b[39mget(\u001b[38;5;124m\"\u001b[39m\u001b[38;5;124mX\u001b[39m\u001b[38;5;124m\"\u001b[39m, \u001b[38;5;124m\"\u001b[39m\u001b[38;5;124mF\u001b[39m\u001b[38;5;124m\"\u001b[39m, \u001b[38;5;124m\"\u001b[39m\u001b[38;5;124msharpe\u001b[39m\u001b[38;5;124m\"\u001b[39m)\n",
      "File \u001b[1;32m~\\anaconda3\\Lib\\site-packages\\pymoo\\optimize.py:67\u001b[0m, in \u001b[0;36mminimize\u001b[1;34m(problem, algorithm, termination, copy_algorithm, copy_termination, **kwargs)\u001b[0m\n\u001b[0;32m     64\u001b[0m     algorithm\u001b[38;5;241m.\u001b[39msetup(problem, \u001b[38;5;241m*\u001b[39m\u001b[38;5;241m*\u001b[39mkwargs)\n\u001b[0;32m     66\u001b[0m \u001b[38;5;66;03m# actually execute the algorithm\u001b[39;00m\n\u001b[1;32m---> 67\u001b[0m res \u001b[38;5;241m=\u001b[39m algorithm\u001b[38;5;241m.\u001b[39mrun()\n\u001b[0;32m     69\u001b[0m \u001b[38;5;66;03m# store the deep copied algorithm in the result object\u001b[39;00m\n\u001b[0;32m     70\u001b[0m res\u001b[38;5;241m.\u001b[39malgorithm \u001b[38;5;241m=\u001b[39m algorithm\n",
      "File \u001b[1;32m~\\anaconda3\\Lib\\site-packages\\pymoo\\core\\algorithm.py:138\u001b[0m, in \u001b[0;36mAlgorithm.run\u001b[1;34m(self)\u001b[0m\n\u001b[0;32m    136\u001b[0m \u001b[38;5;28;01mdef\u001b[39;00m \u001b[38;5;21mrun\u001b[39m(\u001b[38;5;28mself\u001b[39m):\n\u001b[0;32m    137\u001b[0m     \u001b[38;5;28;01mwhile\u001b[39;00m \u001b[38;5;28mself\u001b[39m\u001b[38;5;241m.\u001b[39mhas_next():\n\u001b[1;32m--> 138\u001b[0m         \u001b[38;5;28mself\u001b[39m\u001b[38;5;241m.\u001b[39mnext()\n\u001b[0;32m    139\u001b[0m     \u001b[38;5;28;01mreturn\u001b[39;00m \u001b[38;5;28mself\u001b[39m\u001b[38;5;241m.\u001b[39mresult()\n",
      "File \u001b[1;32m~\\anaconda3\\Lib\\site-packages\\pymoo\\core\\algorithm.py:154\u001b[0m, in \u001b[0;36mAlgorithm.next\u001b[1;34m(self)\u001b[0m\n\u001b[0;32m    151\u001b[0m \u001b[38;5;28;01mdef\u001b[39;00m \u001b[38;5;21mnext\u001b[39m(\u001b[38;5;28mself\u001b[39m):\n\u001b[0;32m    152\u001b[0m \n\u001b[0;32m    153\u001b[0m     \u001b[38;5;66;03m# get the infill solutions\u001b[39;00m\n\u001b[1;32m--> 154\u001b[0m     infills \u001b[38;5;241m=\u001b[39m \u001b[38;5;28mself\u001b[39m\u001b[38;5;241m.\u001b[39minfill()\n\u001b[0;32m    156\u001b[0m     \u001b[38;5;66;03m# call the advance with them after evaluation\u001b[39;00m\n\u001b[0;32m    157\u001b[0m     \u001b[38;5;28;01mif\u001b[39;00m infills \u001b[38;5;129;01mis\u001b[39;00m \u001b[38;5;129;01mnot\u001b[39;00m \u001b[38;5;28;01mNone\u001b[39;00m:\n",
      "File \u001b[1;32m~\\anaconda3\\Lib\\site-packages\\pymoo\\core\\algorithm.py:190\u001b[0m, in \u001b[0;36mAlgorithm.infill\u001b[1;34m(self)\u001b[0m\n\u001b[0;32m    186\u001b[0m     infills \u001b[38;5;241m=\u001b[39m \u001b[38;5;28mself\u001b[39m\u001b[38;5;241m.\u001b[39m_initialize_infill()\n\u001b[0;32m    188\u001b[0m \u001b[38;5;28;01melse\u001b[39;00m:\n\u001b[0;32m    189\u001b[0m     \u001b[38;5;66;03m# request the infill solutions if the algorithm has implemented it\u001b[39;00m\n\u001b[1;32m--> 190\u001b[0m     infills \u001b[38;5;241m=\u001b[39m \u001b[38;5;28mself\u001b[39m\u001b[38;5;241m.\u001b[39m_infill()\n\u001b[0;32m    192\u001b[0m \u001b[38;5;66;03m# set the current generation to the offsprings\u001b[39;00m\n\u001b[0;32m    193\u001b[0m \u001b[38;5;28;01mif\u001b[39;00m infills \u001b[38;5;129;01mis\u001b[39;00m \u001b[38;5;129;01mnot\u001b[39;00m \u001b[38;5;28;01mNone\u001b[39;00m:\n",
      "File \u001b[1;32m~\\anaconda3\\Lib\\site-packages\\pymoo\\algorithms\\base\\genetic.py:85\u001b[0m, in \u001b[0;36mGeneticAlgorithm._infill\u001b[1;34m(self)\u001b[0m\n\u001b[0;32m     82\u001b[0m \u001b[38;5;28;01mdef\u001b[39;00m \u001b[38;5;21m_infill\u001b[39m(\u001b[38;5;28mself\u001b[39m):\n\u001b[0;32m     83\u001b[0m \n\u001b[0;32m     84\u001b[0m     \u001b[38;5;66;03m# do the mating using the current population\u001b[39;00m\n\u001b[1;32m---> 85\u001b[0m     off \u001b[38;5;241m=\u001b[39m \u001b[38;5;28mself\u001b[39m\u001b[38;5;241m.\u001b[39mmating\u001b[38;5;241m.\u001b[39mdo(\u001b[38;5;28mself\u001b[39m\u001b[38;5;241m.\u001b[39mproblem, \u001b[38;5;28mself\u001b[39m\u001b[38;5;241m.\u001b[39mpop, \u001b[38;5;28mself\u001b[39m\u001b[38;5;241m.\u001b[39mn_offsprings, algorithm\u001b[38;5;241m=\u001b[39m\u001b[38;5;28mself\u001b[39m)\n\u001b[0;32m     87\u001b[0m     \u001b[38;5;66;03m# if the mating could not generate any new offspring (duplicate elimination might make that happen)\u001b[39;00m\n\u001b[0;32m     88\u001b[0m     \u001b[38;5;28;01mif\u001b[39;00m \u001b[38;5;28mlen\u001b[39m(off) \u001b[38;5;241m==\u001b[39m \u001b[38;5;241m0\u001b[39m:\n",
      "File \u001b[1;32m~\\anaconda3\\Lib\\site-packages\\pymoo\\core\\infill.py:38\u001b[0m, in \u001b[0;36mInfillCriterion.do\u001b[1;34m(self, problem, pop, n_offsprings, **kwargs)\u001b[0m\n\u001b[0;32m     35\u001b[0m n_remaining \u001b[38;5;241m=\u001b[39m n_offsprings \u001b[38;5;241m-\u001b[39m \u001b[38;5;28mlen\u001b[39m(off)\n\u001b[0;32m     37\u001b[0m \u001b[38;5;66;03m# do the mating\u001b[39;00m\n\u001b[1;32m---> 38\u001b[0m _off \u001b[38;5;241m=\u001b[39m \u001b[38;5;28mself\u001b[39m\u001b[38;5;241m.\u001b[39m_do(problem, pop, n_remaining, \u001b[38;5;241m*\u001b[39m\u001b[38;5;241m*\u001b[39mkwargs)\n\u001b[0;32m     40\u001b[0m \u001b[38;5;66;03m# repair the individuals if necessary - disabled if repair is NoRepair\u001b[39;00m\n\u001b[0;32m     41\u001b[0m _off \u001b[38;5;241m=\u001b[39m \u001b[38;5;28mself\u001b[39m\u001b[38;5;241m.\u001b[39mrepair(problem, _off, \u001b[38;5;241m*\u001b[39m\u001b[38;5;241m*\u001b[39mkwargs)\n",
      "File \u001b[1;32m~\\anaconda3\\Lib\\site-packages\\pymoo\\core\\mating.py:34\u001b[0m, in \u001b[0;36mMating._do\u001b[1;34m(self, problem, pop, n_offsprings, parents, **kwargs)\u001b[0m\n\u001b[0;32m     31\u001b[0m off \u001b[38;5;241m=\u001b[39m \u001b[38;5;28mself\u001b[39m\u001b[38;5;241m.\u001b[39mcrossover(problem, parents, \u001b[38;5;241m*\u001b[39m\u001b[38;5;241m*\u001b[39mkwargs)\n\u001b[0;32m     33\u001b[0m \u001b[38;5;66;03m# do the mutation on the offsprings created through crossover\u001b[39;00m\n\u001b[1;32m---> 34\u001b[0m off \u001b[38;5;241m=\u001b[39m \u001b[38;5;28mself\u001b[39m\u001b[38;5;241m.\u001b[39mmutation(problem, off, \u001b[38;5;241m*\u001b[39m\u001b[38;5;241m*\u001b[39mkwargs)\n\u001b[0;32m     36\u001b[0m \u001b[38;5;28;01mreturn\u001b[39;00m off\n",
      "File \u001b[1;32m~\\anaconda3\\Lib\\site-packages\\pymoo\\core\\operator.py:27\u001b[0m, in \u001b[0;36mOperator.__call__\u001b[1;34m(self, problem, elem, to_numpy, *args, **kwargs)\u001b[0m\n\u001b[0;32m     26\u001b[0m \u001b[38;5;28;01mdef\u001b[39;00m \u001b[38;5;21m__call__\u001b[39m(\u001b[38;5;28mself\u001b[39m, problem, elem, \u001b[38;5;241m*\u001b[39margs, to_numpy\u001b[38;5;241m=\u001b[39m\u001b[38;5;28;01mFalse\u001b[39;00m, \u001b[38;5;241m*\u001b[39m\u001b[38;5;241m*\u001b[39mkwargs):\n\u001b[1;32m---> 27\u001b[0m     out \u001b[38;5;241m=\u001b[39m \u001b[38;5;28mself\u001b[39m\u001b[38;5;241m.\u001b[39mdo(problem, elem, \u001b[38;5;241m*\u001b[39margs, \u001b[38;5;241m*\u001b[39m\u001b[38;5;241m*\u001b[39mkwargs)\n\u001b[0;32m     29\u001b[0m     \u001b[38;5;28;01mif\u001b[39;00m \u001b[38;5;28mself\u001b[39m\u001b[38;5;241m.\u001b[39mvtype \u001b[38;5;129;01mis\u001b[39;00m \u001b[38;5;129;01mnot\u001b[39;00m \u001b[38;5;28;01mNone\u001b[39;00m:\n\u001b[0;32m     30\u001b[0m         \u001b[38;5;28;01mfor\u001b[39;00m ind \u001b[38;5;129;01min\u001b[39;00m out:\n",
      "File \u001b[1;32m~\\anaconda3\\Lib\\site-packages\\pymoo\\core\\mutation.py:25\u001b[0m, in \u001b[0;36mMutation.do\u001b[1;34m(self, problem, pop, inplace, **kwargs)\u001b[0m\n\u001b[0;32m     22\u001b[0m n_mut \u001b[38;5;241m=\u001b[39m \u001b[38;5;28mlen\u001b[39m(pop)\n\u001b[0;32m     24\u001b[0m \u001b[38;5;66;03m# get the variables to be mutated\u001b[39;00m\n\u001b[1;32m---> 25\u001b[0m X \u001b[38;5;241m=\u001b[39m pop\u001b[38;5;241m.\u001b[39mget(\u001b[38;5;124m\"\u001b[39m\u001b[38;5;124mX\u001b[39m\u001b[38;5;124m\"\u001b[39m)\n\u001b[0;32m     27\u001b[0m \u001b[38;5;66;03m# retrieve the mutation variables\u001b[39;00m\n\u001b[0;32m     28\u001b[0m Xp \u001b[38;5;241m=\u001b[39m \u001b[38;5;28mself\u001b[39m\u001b[38;5;241m.\u001b[39m_do(problem, X, \u001b[38;5;241m*\u001b[39m\u001b[38;5;241m*\u001b[39mkwargs)\n",
      "File \u001b[1;32m~\\anaconda3\\Lib\\site-packages\\pymoo\\core\\population.py:72\u001b[0m, in \u001b[0;36mPopulation.get\u001b[1;34m(self, to_numpy, *args, **kwargs)\u001b[0m\n\u001b[0;32m     70\u001b[0m \u001b[38;5;66;03m# to numpy array if desired - default true\u001b[39;00m\n\u001b[0;32m     71\u001b[0m \u001b[38;5;28;01mif\u001b[39;00m to_numpy:\n\u001b[1;32m---> 72\u001b[0m     res \u001b[38;5;241m=\u001b[39m [np\u001b[38;5;241m.\u001b[39marray(e) \u001b[38;5;28;01mfor\u001b[39;00m e \u001b[38;5;129;01min\u001b[39;00m res]\n\u001b[0;32m     74\u001b[0m \u001b[38;5;66;03m# return as tuple or single value\u001b[39;00m\n\u001b[0;32m     75\u001b[0m \u001b[38;5;28;01mif\u001b[39;00m \u001b[38;5;28mlen\u001b[39m(args) \u001b[38;5;241m==\u001b[39m \u001b[38;5;241m1\u001b[39m:\n",
      "\u001b[1;31mKeyboardInterrupt\u001b[0m: "
     ]
    }
   ],
   "source": [
    "'''\n",
    "%%time\n",
    "for config in configurations:\n",
    "    print(f\"\\nRunning configuration: {config['name']}\")\n",
    "'''\n",
    "\n",
    "results = {}\n",
    "portfolio_history = []\n",
    "data_size = len(data)\n",
    "current_budget = 1_000_000\n",
    "stock_alloc = np.zeros(len(ticker))  \n",
    "budget_history = []\n",
    "stock_alloc_history = []\n",
    "test_period = 250\n",
    "\n",
    "for day in range(test_period):\n",
    "    print(f\"Current day is: {day}\")\n",
    "    serach_day = data_size - (test_period-day)\n",
    "    current_data = data.iloc[:serach_day] \n",
    "\n",
    "    # print(current_data)\n",
    "    mu = calculate_expected_returns(current_data)\n",
    "    cov = calculate_covariance_matrix(current_data)\n",
    "    # print(f\"current_data size is {len(current_data)}\")\n",
    "    problem = PortfolioProblem(mu, cov)\n",
    "    # print(current_data)\n",
    "    \n",
    "    '''\n",
    "    algorithm = NSGA2(repair=PortfolioRepair(),\n",
    "                      sampling = config['sampling'],\n",
    "                      crossover=config['crossover'])\n",
    "    '''\n",
    "    \n",
    "    algorithm = NSGA2(repair=PortfolioRepair())\n",
    "    \n",
    "\n",
    "    res = minimize(problem,\n",
    "                   algorithm,\n",
    "                   seed=1,\n",
    "                   verbose=False)\n",
    "\n",
    "    # adding the result\n",
    "    # results[config['name']] = res\n",
    "\n",
    "    # Get optimal portfolio weights\n",
    "    X, F, sharpe = res.opt.get(\"X\", \"F\", \"sharpe\")\n",
    "    F = F * [1, -1]  # Adjust for minimization/maximization\n",
    "    \n",
    "    # Select portfolio with maximum Sharpe ratio\n",
    "    max_sharpe_idx = sharpe.argmax()\n",
    "    optimal_weights = X[max_sharpe_idx]\n",
    "\n",
    "    # calculate HV\n",
    "    HVindex = calculate_HV(F)\n",
    "\n",
    "    '''\n",
    "    # Add other indicators (f1, ..., fk) for daily allocation\n",
    "    additional_indicators = calculate_technical_indicators(current_data)  # Assume this function exists\n",
    "    final_weights = adjust_weights_with_indicators(optimal_weights, additional_indicators)\n",
    "    '''\n",
    "\n",
    "\n",
    "    \n",
    "    # Make investment with adjusted weights\n",
    "    daily_return = execute_trades(stock_alloc, optimal_weights, current_budget, serach_day, budget_history, stock_alloc_history)  # Assume this function exists\n",
    "    portfolio_history.append(daily_return)\n",
    "    "
   ]
  },
  {
   "cell_type": "markdown",
   "metadata": {},
   "source": [
    "#### for i in range(len(stock_alloc_history)):\n",
    "    print(stock_alloc_history[i]) "
   ]
  },
  {
   "cell_type": "code",
   "execution_count": 41,
   "metadata": {},
   "outputs": [
    {
     "data": {
      "image/png": "[encoded data removed]",
      "text/plain": [
       "<Figure size 1000x1000 with 2 Axes>"
      ]
     },
     "metadata": {},
     "output_type": "display_data"
    },
    {
     "data": {
      "image/png": "[encoded data removed]",
      "text/plain": [
       "<Figure size 1400x600 with 1 Axes>"
      ]
     },
     "metadata": {},
     "output_type": "display_data"
    }
   ],
   "source": [
    "# Plotting\n",
    "plt.figure(figsize=(14, 6))\n",
    "plt.plot(budget_history, label=\"Portfolio Value\", color='blue')\n",
    "plt.title(\"Portfolio Value Over Time\")\n",
    "plt.xlabel(\"Time (e.g. Days or Trades)\")\n",
    "plt.ylabel(\"Value\")\n",
    "plt.grid(True)\n",
    "plt.legend()\n",
    "plt.tight_layout()\n",
    "plt.show()"
   ]
  },
  {
   "cell_type": "code",
   "execution_count": null,
   "metadata": {},
   "outputs": [],
   "source": [
    "# Compare results\n",
    "for name, res in results.items():\n",
    "    print(f\"\\nThe result of {name} is as follows\\n\")\n",
    "    X, F, sharpe = res.opt.get(\"X\", \"F\", \"sharpe\")\n",
    "    F = F * [1, -1]\n",
    "    max_sharpe = sharpe.argmax()\n",
    "\n",
    "    '''\n",
    "    # equal weights\n",
    "    x = np.zeros((len(ticker), 1))\n",
    "    x = x + 1.0/len(x)\n",
    "\n",
    "    plt.scatter(F[:, 0], F[:, 1], facecolor=\"none\", edgecolors=\"blue\", alpha=0.5, label=\"Pareto-Optimal Portfolio\")\n",
    "    plt.scatter(cov.diagonal() ** 0.5 * np.sqrt(250.0), mu, facecolor=\"none\", edgecolors=\"black\", s=30, label=\"Asset\")\n",
    "    plt.scatter(F[max_sharpe, 0], F[max_sharpe, 1], marker=\"x\", s=100, color=\"red\", label=\"Max Sharpe Portfolio\")\n",
    "    plt.scatter(np.sqrt(x.T @ cov @ x) * np.sqrt(250.0), x.T @ mu, marker=\"*\", s=100, color=\"green\", label=\"Equal weights\")\n",
    "    plt.legend()\n",
    "    plt.xlabel(\"expected volatility\")\n",
    "    plt.ylabel(\"expected return\")\n",
    "    plt.show()\n",
    "\n",
    "    plt.scatter(F[:, 0], F[:, 1], facecolor=\"none\", edgecolors=\"blue\", alpha=0.5, label=\"Pareto-Optimal Portfolio\")\n",
    "    plt.scatter(F[max_sharpe, 0], F[max_sharpe, 1], marker=\"x\", s=100, color=\"red\", label=\"Max Sharpe Portfolio\")\n",
    "    plt.legend()\n",
    "    plt.xlabel(\"expected volatility\")\n",
    "    plt.ylabel(\"expected return\")\n",
    "    plt.show()\n",
    "    '''\n",
    "    x = X[max_sharpe].T\n",
    "\n",
    "    print(\"Best Sharpe: \\nReturn     = \", x.T @ mu)\n",
    "    print(\"Volatility = \", np.sqrt(x.T @ cov @ x) * np.sqrt(250.0))\n",
    "    print(\"sharpo ratio = \", (x.T @ mu - 0.02)/(np.sqrt(x.T @ cov @ x) * np.sqrt(250.0)))\n"
   ]
  },
  {
   "cell_type": "code",
   "execution_count": 52,
   "metadata": {
    "colab": {
     "base_uri": "https://localhost:8080/",
     "height": 541
    },
    "id": "N49ziy472U_Z",
    "outputId": "0a610cd1-f4e8-4e09-d9be-2b15e49bc969"
   },
   "outputs": [
    {
     "data": {
      "image/png": "[encoded data removed]",
      "text/plain": [
       "<Figure size 640x480 with 1 Axes>"
      ]
     },
     "metadata": {},
     "output_type": "display_data"
    },
    {
     "data": {
      "image/png": "[encoded data removed]",
      "text/plain": [
       "<Figure size 640x480 with 1 Axes>"
      ]
     },
     "metadata": {},
     "output_type": "display_data"
    }
   ],
   "source": [
    "X, F, sharpe = res.opt.get(\"X\", \"F\", \"sharpe\")\n",
    "F = F * [1, -1]\n",
    "max_sharpe = sharpe.argmax()\n",
    "\n",
    "# equal weights\n",
    "x = np.zeros((len(ticker), 1))\n",
    "x = x + 1.0/len(x)\n",
    "\n",
    "plt.scatter(F[:, 0], F[:, 1], facecolor=\"none\", edgecolors=\"blue\", alpha=0.5, label=\"Pareto-Optimal Portfolio\")\n",
    "plt.scatter(cov.diagonal() ** 0.5 * np.sqrt(250.0), mu, facecolor=\"none\", edgecolors=\"black\", s=30, label=\"Asset\")\n",
    "plt.scatter(F[max_sharpe, 0], F[max_sharpe, 1], marker=\"x\", s=100, color=\"red\", label=\"Max Sharpe Portfolio\")\n",
    "plt.scatter(np.sqrt(x.T @ cov @ x) * np.sqrt(250.0), x.T @ mu, marker=\"*\", s=100, color=\"green\", label=\"Equal weights\")\n",
    "plt.legend()\n",
    "plt.xlabel(\"expected volatility\")\n",
    "plt.ylabel(\"expected return\")\n",
    "plt.show()\n",
    "\n",
    "plt.scatter(F[:, 0], F[:, 1], facecolor=\"none\", edgecolors=\"blue\", alpha=0.5, label=\"Pareto-Optimal Portfolio\")\n",
    "plt.scatter(F[max_sharpe, 0], F[max_sharpe, 1], marker=\"x\", s=100, color=\"red\", label=\"Max Sharpe Portfolio\")\n",
    "plt.legend()\n",
    "plt.xlabel(\"expected volatility\")\n",
    "plt.ylabel(\"expected return\")\n",
    "plt.show()"
   ]
  },
  {
   "cell_type": "code",
   "execution_count": 54,
   "metadata": {
    "colab": {
     "base_uri": "https://localhost:8080/"
    },
    "id": "KcrQ7XxG2U_a",
    "outputId": "2f26607e-656b-4c4d-e76c-b1a3dbdcbc3a"
   },
   "outputs": [
    {
     "name": "stdout",
     "output_type": "stream",
     "text": [
      "Allocation With Best Sharpe\n",
      "TMO   0.32297696275160204\n",
      "META  0.27453075912247143\n",
      "MSFT  0.1774543857862301\n",
      "NI    0.10187217354534035\n",
      "CMCSA 0.06870700223721722\n",
      "LUV   0.05445871655713892\n",
      "BAX   0.0\n",
      "BMY   0.0\n",
      "CNP   0.0\n",
      "CPB   0.0\n",
      "DE    0.0\n",
      "HPQ   0.0\n",
      "JCI   0.0\n",
      "JPM   0.0\n",
      "MMC   0.0\n",
      "MO    0.0\n",
      "PCAR  0.0\n",
      "PSA   0.0\n",
      "SEE   0.0\n",
      "SPY   0.0\n",
      "T     0.0\n",
      "TXT   0.0\n",
      "VZ    0.0\n",
      "ZION  0.0\n"
     ]
    }
   ],
   "source": [
    "allocation = {name: w for name, w in zip(data.columns, X[max_sharpe])}\n",
    "allocation = sorted(allocation.items(), key=operator.itemgetter(1), reverse=True)\n",
    "\n",
    "print(\"Allocation With Best Sharpe\")\n",
    "for name, w in allocation:\n",
    "    print(f\"{name:<5} {w}\")"
   ]
  },
  {
   "cell_type": "code",
   "execution_count": 56,
   "metadata": {
    "colab": {
     "base_uri": "https://localhost:8080/",
     "height": 248
    },
    "id": "okzloEvs9FTK",
    "outputId": "8da98ed3-434f-4514-97e6-680af772bfa4"
   },
   "outputs": [
    {
     "data": {
      "image/png": "[encoded data removed]",
      "text/plain": [
       "<Figure size 640x480 with 1 Axes>"
      ]
     },
     "metadata": {},
     "output_type": "display_data"
    }
   ],
   "source": [
    "for al in allocation:\n",
    "    if al[1] <= 1e-2:\n",
    "        allocation.remove(al)\n",
    "\n",
    "col_name = []\n",
    "w1 = []\n",
    "for name, w in allocation:\n",
    "    col_name.append(name)\n",
    "    w1.append(w)\n",
    "    \n",
    "fig1, ax1 = plt.subplots()\n",
    "ax1.pie(w1, labels=col_name, autopct='%1.1f%%',\n",
    "        shadow=True, startangle=90)\n",
    "ax1.axis('equal')  # Equal aspect ratio ensures that pie is drawn as a circle.\n",
    "\n",
    "plt.show()"
   ]
  },
  {
   "cell_type": "code",
   "execution_count": 191,
   "metadata": {
    "colab": {
     "base_uri": "https://localhost:8080/"
    },
    "id": "y-w0g1qA2U_a",
    "outputId": "ddf537c2-f244-4e66-cf56-87b641024c77"
   },
   "outputs": [
    {
     "name": "stdout",
     "output_type": "stream",
     "text": [
      "For equal weights: \n",
      "Return     =  0.0933490427723025\n",
      "Volatility =  0.16460265032746366\n"
     ]
    }
   ],
   "source": [
    "x = np.zeros((len(ticker), 1))\n",
    "x = x + 1.0/len(x)\n",
    "\n",
    "print(\"For equal weights: \\nReturn     = \", (x.T @ mu)[0])\n",
    "print(\"Volatility = \", (np.sqrt(x.T @ cov @ x) * np.sqrt(250.0))[0][0])"
   ]
  },
  {
   "cell_type": "code",
   "execution_count": 193,
   "metadata": {
    "colab": {
     "base_uri": "https://localhost:8080/"
    },
    "id": "VgtRTjOB2U_a",
    "outputId": "d7479f09-a2a8-479c-d775-f2e16dfeb1d2"
   },
   "outputs": [
    {
     "name": "stdout",
     "output_type": "stream",
     "text": [
      "Best Sharpe: \n",
      "Return     =  0.019924009576235042\n",
      "Volatility =  0.48197988245737083\n"
     ]
    }
   ],
   "source": [
    "x = X[max_sharpe].T\n",
    "\n",
    "print(\"Best Sharpe: \\nReturn     = \", x.T @ mu)\n",
    "print(\"Volatility = \", np.sqrt(x.T @ cov @ x) * np.sqrt(250.0))"
   ]
  },
  {
   "cell_type": "markdown",
   "metadata": {},
   "source": [
    "# Solve problem with MOEA/D"
   ]
  },
  {
   "cell_type": "code",
   "execution_count": 64,
   "metadata": {},
   "outputs": [
    {
     "name": "stderr",
     "output_type": "stream",
     "text": [
      "C:\\Users\\kaomi\\AppData\\Local\\Temp\\ipykernel_18768\\4236682315.py:4: FutureWarning: 'Y' is deprecated and will be removed in a future version, please use 'YE' instead.\n",
      "  ind_er = current_data.resample('Y').last().pct_change().mean()\n"
     ]
    },
    {
     "name": "stdout",
     "output_type": "stream",
     "text": [
      "HV 0.022752022831910097\n"
     ]
    }
   ],
   "source": [
    "import numpy as np\n",
    "from pymoo.algorithms.moo.moead import MOEAD\n",
    "from pymoo.optimize import minimize\n",
    "from pymoo.util.ref_dirs import get_reference_directions\n",
    "from pymoo.core.problem import ElementwiseProblem\n",
    "from pymoo.core.repair import Repair\n",
    "\n",
    "class PortfolioProblem(ElementwiseProblem):\n",
    "    def __init__(self, mu, cov, risk_free_rate=0.02, **kwargs):\n",
    "        super().__init__(\n",
    "            n_var=len(mu),\n",
    "            n_obj=2,\n",
    "            xl=0.0,\n",
    "            xu=1.0,\n",
    "            **kwargs\n",
    "        )\n",
    "        self.mu = mu\n",
    "        self.cov = cov\n",
    "        self.risk_free_rate = risk_free_rate\n",
    "\n",
    "    def _evaluate(self, x, out, *args, **kwargs):\n",
    "        exp_return = x @ self.mu\n",
    "        exp_risk   = np.sqrt(x.T @ self.cov @ x) * np.sqrt(250.0)\n",
    "        sharpe     = (exp_return - self.risk_free_rate) / exp_risk\n",
    "        out[\"F\"]   = [exp_risk, -exp_return]\n",
    "        out[\"sharpe\"] = sharpe\n",
    "\n",
    "class PortfolioRepair(Repair):\n",
    "    def _do(self, problem, X, **kwargs):\n",
    "        X[X < 1e-3] = 0\n",
    "        return X / X.sum(axis=1, keepdims=True)\n",
    "\n",
    "# Compute mu, cov from your data\n",
    "mu  = calculate_expected_returns(current_data)\n",
    "cov = calculate_covariance_matrix(current_data)\n",
    "\n",
    "# Problem definition\n",
    "problem = PortfolioProblem(mu, cov)\n",
    "\n",
    "# Reference directions for MOEA/D \n",
    "ref_dirs = get_reference_directions(\"uniform\", 2, n_partitions=100)\n",
    "\n",
    "# MOEA/D algorithm setup\n",
    "algorithm = MOEAD(\n",
    "    ref_dirs,\n",
    "    n_neighbors=20,\n",
    "    prob_neighbor_mating=0.7,\n",
    "    repair=PortfolioRepair()\n",
    ")\n",
    "\n",
    "# Run optimization\n",
    "res = minimize(problem, algorithm, seed=1, verbose=False)\n",
    "\n",
    "# Extract and select optimal portfolio\n",
    "X, F, sharpe = res.opt.get(\"X\", \"F\", \"sharpe\")\n",
    "F = F * [1, -1]\n",
    "max_sharpe_idx = sharpe.argmax()\n",
    "optimal_weights = X[max_sharpe_idx]\n",
    "\n",
    "# Hypervolume (optional)\n",
    "HVindex = calculate_HV(F)\n"
   ]
  },
  {
   "cell_type": "code",
   "execution_count": 65,
   "metadata": {},
   "outputs": [
    {
     "data": {
      "image/png": "[encoded data removed]",
      "text/plain": [
       "<Figure size 640x480 with 1 Axes>"
      ]
     },
     "metadata": {},
     "output_type": "display_data"
    }
   ],
   "source": [
    "X, F, sharpe = res.opt.get(\"X\", \"F\", \"sharpe\")\n",
    "F = F * [1, -1]\n",
    "max_sharpe = sharpe.argmax()\n",
    "\n",
    "# equal weights\n",
    "x = np.zeros((len(ticker), 1))\n",
    "x = x + 1.0/len(x)\n",
    "\n",
    "'''\n",
    "plt.scatter(F[:, 0], F[:, 1], facecolor=\"none\", edgecolors=\"blue\", alpha=0.5, label=\"Pareto-Optimal Portfolio\")\n",
    "plt.scatter(cov.diagonal() ** 0.5 * np.sqrt(250.0), mu, facecolor=\"none\", edgecolors=\"black\", s=30, label=\"Asset\")\n",
    "plt.scatter(F[max_sharpe, 0], F[max_sharpe, 1], marker=\"x\", s=100, color=\"red\", label=\"Max Sharpe Portfolio\")\n",
    "plt.scatter(np.sqrt(x.T @ cov @ x) * np.sqrt(250.0), x.T @ mu, marker=\"*\", s=100, color=\"green\", label=\"Equal weights\")\n",
    "plt.legend()\n",
    "plt.xlabel(\"expected volatility\")\n",
    "plt.ylabel(\"expected return\")\n",
    "plt.show()\n",
    "'''\n",
    "\n",
    "plt.scatter(F[:, 0], F[:, 1], facecolor=\"none\", edgecolors=\"blue\", alpha=0.5, label=\"Pareto-Optimal Portfolio\")\n",
    "plt.scatter(F[max_sharpe, 0], F[max_sharpe, 1], marker=\"x\", s=100, color=\"red\", label=\"Max Sharpe Portfolio\")\n",
    "plt.legend()\n",
    "plt.xlabel(\"expected volatility\")\n",
    "plt.ylabel(\"expected return\")\n",
    "plt.show()"
   ]
  },
  {
   "cell_type": "code",
   "execution_count": null,
   "metadata": {},
   "outputs": [],
   "source": []
  }
 ],
 "metadata": {
  "colab": {
   "collapsed_sections": [
    "7AC6p4tWirUq",
    "HL93q9VQirUr",
    "sWSnSajjirUr"
   ],
   "name": "Project_codes.ipynb",
   "provenance": []
  },
  "kernelspec": {
   "display_name": "Python [conda env:base] *",
   "language": "python",
   "name": "conda-base-py"
  },
  "language_info": {
   "codemirror_mode": {
    "name": "ipython",
    "version": 3
   },
   "file_extension": ".py",
   "mimetype": "text/x-python",
   "name": "python",
   "nbconvert_exporter": "python",
   "pygments_lexer": "ipython3",
   "version": "3.12.7"
  },
  "vscode": {
   "interpreter": {
    "hash": "31f2aee4e71d21fbe5cf8b01ff0e069b9275f58929596ceb00d14d90e3e16cd6"
   }
  }
 },
 "nbformat": 4,
 "nbformat_minor": 4
}
